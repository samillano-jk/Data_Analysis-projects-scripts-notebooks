{
 "cells": [
  {
   "cell_type": "markdown",
   "id": "fb779c2d",
   "metadata": {
    "papermill": {
     "duration": 0.021845,
     "end_time": "2024-10-15T08:51:52.798471",
     "exception": false,
     "start_time": "2024-10-15T08:51:52.776626",
     "status": "completed"
    },
    "tags": []
   },
   "source": [
    "### The task came from StrataScratch\n",
    "Link: https://platform.stratascratch.com/data-projects/student-performance-analysis\n",
    "### The data is in Kaggle\n",
    "Link: https://platform.stratascratch.com/data-projects/student-performance-analysis\n",
    "### The description is in UCI\n",
    "Link: https://archive.ics.uci.edu/dataset/320/student+performance"
   ]
  },
  {
   "cell_type": "code",
   "execution_count": 1,
   "id": "d7dfed06",
   "metadata": {
    "_cell_guid": "b1076dfc-b9ad-4769-8c92-a6c4dae69d19",
    "_uuid": "8f2839f25d086af736a60e9eeb907d3b93b6e0e5",
    "execution": {
     "iopub.execute_input": "2024-10-15T08:51:52.845341Z",
     "iopub.status.busy": "2024-10-15T08:51:52.844883Z",
     "iopub.status.idle": "2024-10-15T08:51:55.159885Z",
     "shell.execute_reply": "2024-10-15T08:51:55.158477Z"
    },
    "papermill": {
     "duration": 2.340359,
     "end_time": "2024-10-15T08:51:55.162794",
     "exception": false,
     "start_time": "2024-10-15T08:51:52.822435",
     "status": "completed"
    },
    "tags": []
   },
   "outputs": [
    {
     "name": "stdout",
     "output_type": "stream",
     "text": [
      "/kaggle/input/student-performance-data/student_data.csv\n"
     ]
    }
   ],
   "source": [
    "# This Python 3 environment comes with many helpful analytics libraries installed\n",
    "# It is defined by the kaggle/python Docker image: https://github.com/kaggle/docker-python\n",
    "# For example, here's several helpful packages to load\n",
    "import warnings\n",
    "warnings.filterwarnings(\"ignore\")\n",
    "\n",
    "import numpy as np # linear algebra\n",
    "import pandas as pd # data processing, CSV file I/O (e.g. pd.read_csv)\n",
    "from scipy import stats\n",
    "import matplotlib.pyplot as plt\n",
    "\n",
    "# Input data files are available in the read-only \"../input/\" directory\n",
    "# For example, running this (by clicking run or pressing Shift+Enter) will list all files under the input directory\n",
    "\n",
    "import os\n",
    "for dirname, _, filenames in os.walk('/kaggle/input'):\n",
    "    for filename in filenames:\n",
    "        print(os.path.join(dirname, filename))\n",
    "\n",
    "# You can write up to 20GB to the current directory (/kaggle/working/) that gets preserved as output when you create a version using \"Save & Run All\" \n",
    "# You can also write temporary files to /kaggle/temp/, but they won't be saved outside of the current session"
   ]
  },
  {
   "cell_type": "code",
   "execution_count": 2,
   "id": "31ac4356",
   "metadata": {
    "execution": {
     "iopub.execute_input": "2024-10-15T08:51:55.208585Z",
     "iopub.status.busy": "2024-10-15T08:51:55.207591Z",
     "iopub.status.idle": "2024-10-15T08:51:55.232181Z",
     "shell.execute_reply": "2024-10-15T08:51:55.230795Z"
    },
    "papermill": {
     "duration": 0.050145,
     "end_time": "2024-10-15T08:51:55.235010",
     "exception": false,
     "start_time": "2024-10-15T08:51:55.184865",
     "status": "completed"
    },
    "tags": []
   },
   "outputs": [],
   "source": [
    "df = pd.read_csv(\"/kaggle/input/student-performance-data/student_data.csv\")"
   ]
  },
  {
   "cell_type": "code",
   "execution_count": 3,
   "id": "755745cb",
   "metadata": {
    "execution": {
     "iopub.execute_input": "2024-10-15T08:51:55.279813Z",
     "iopub.status.busy": "2024-10-15T08:51:55.279384Z",
     "iopub.status.idle": "2024-10-15T08:51:55.320708Z",
     "shell.execute_reply": "2024-10-15T08:51:55.319288Z"
    },
    "papermill": {
     "duration": 0.066808,
     "end_time": "2024-10-15T08:51:55.323528",
     "exception": false,
     "start_time": "2024-10-15T08:51:55.256720",
     "status": "completed"
    },
    "tags": []
   },
   "outputs": [
    {
     "data": {
      "text/html": [
       "<div>\n",
       "<style scoped>\n",
       "    .dataframe tbody tr th:only-of-type {\n",
       "        vertical-align: middle;\n",
       "    }\n",
       "\n",
       "    .dataframe tbody tr th {\n",
       "        vertical-align: top;\n",
       "    }\n",
       "\n",
       "    .dataframe thead th {\n",
       "        text-align: right;\n",
       "    }\n",
       "</style>\n",
       "<table border=\"1\" class=\"dataframe\">\n",
       "  <thead>\n",
       "    <tr style=\"text-align: right;\">\n",
       "      <th></th>\n",
       "      <th>school</th>\n",
       "      <th>sex</th>\n",
       "      <th>age</th>\n",
       "      <th>address</th>\n",
       "      <th>famsize</th>\n",
       "      <th>Pstatus</th>\n",
       "      <th>Medu</th>\n",
       "      <th>Fedu</th>\n",
       "      <th>Mjob</th>\n",
       "      <th>Fjob</th>\n",
       "      <th>...</th>\n",
       "      <th>famrel</th>\n",
       "      <th>freetime</th>\n",
       "      <th>goout</th>\n",
       "      <th>Dalc</th>\n",
       "      <th>Walc</th>\n",
       "      <th>health</th>\n",
       "      <th>absences</th>\n",
       "      <th>G1</th>\n",
       "      <th>G2</th>\n",
       "      <th>G3</th>\n",
       "    </tr>\n",
       "  </thead>\n",
       "  <tbody>\n",
       "    <tr>\n",
       "      <th>0</th>\n",
       "      <td>GP</td>\n",
       "      <td>F</td>\n",
       "      <td>18</td>\n",
       "      <td>U</td>\n",
       "      <td>GT3</td>\n",
       "      <td>A</td>\n",
       "      <td>4</td>\n",
       "      <td>4</td>\n",
       "      <td>at_home</td>\n",
       "      <td>teacher</td>\n",
       "      <td>...</td>\n",
       "      <td>4</td>\n",
       "      <td>3</td>\n",
       "      <td>4</td>\n",
       "      <td>1</td>\n",
       "      <td>1</td>\n",
       "      <td>3</td>\n",
       "      <td>6</td>\n",
       "      <td>5</td>\n",
       "      <td>6</td>\n",
       "      <td>6</td>\n",
       "    </tr>\n",
       "    <tr>\n",
       "      <th>1</th>\n",
       "      <td>GP</td>\n",
       "      <td>F</td>\n",
       "      <td>17</td>\n",
       "      <td>U</td>\n",
       "      <td>GT3</td>\n",
       "      <td>T</td>\n",
       "      <td>1</td>\n",
       "      <td>1</td>\n",
       "      <td>at_home</td>\n",
       "      <td>other</td>\n",
       "      <td>...</td>\n",
       "      <td>5</td>\n",
       "      <td>3</td>\n",
       "      <td>3</td>\n",
       "      <td>1</td>\n",
       "      <td>1</td>\n",
       "      <td>3</td>\n",
       "      <td>4</td>\n",
       "      <td>5</td>\n",
       "      <td>5</td>\n",
       "      <td>6</td>\n",
       "    </tr>\n",
       "    <tr>\n",
       "      <th>2</th>\n",
       "      <td>GP</td>\n",
       "      <td>F</td>\n",
       "      <td>15</td>\n",
       "      <td>U</td>\n",
       "      <td>LE3</td>\n",
       "      <td>T</td>\n",
       "      <td>1</td>\n",
       "      <td>1</td>\n",
       "      <td>at_home</td>\n",
       "      <td>other</td>\n",
       "      <td>...</td>\n",
       "      <td>4</td>\n",
       "      <td>3</td>\n",
       "      <td>2</td>\n",
       "      <td>2</td>\n",
       "      <td>3</td>\n",
       "      <td>3</td>\n",
       "      <td>10</td>\n",
       "      <td>7</td>\n",
       "      <td>8</td>\n",
       "      <td>10</td>\n",
       "    </tr>\n",
       "    <tr>\n",
       "      <th>3</th>\n",
       "      <td>GP</td>\n",
       "      <td>F</td>\n",
       "      <td>15</td>\n",
       "      <td>U</td>\n",
       "      <td>GT3</td>\n",
       "      <td>T</td>\n",
       "      <td>4</td>\n",
       "      <td>2</td>\n",
       "      <td>health</td>\n",
       "      <td>services</td>\n",
       "      <td>...</td>\n",
       "      <td>3</td>\n",
       "      <td>2</td>\n",
       "      <td>2</td>\n",
       "      <td>1</td>\n",
       "      <td>1</td>\n",
       "      <td>5</td>\n",
       "      <td>2</td>\n",
       "      <td>15</td>\n",
       "      <td>14</td>\n",
       "      <td>15</td>\n",
       "    </tr>\n",
       "    <tr>\n",
       "      <th>4</th>\n",
       "      <td>GP</td>\n",
       "      <td>F</td>\n",
       "      <td>16</td>\n",
       "      <td>U</td>\n",
       "      <td>GT3</td>\n",
       "      <td>T</td>\n",
       "      <td>3</td>\n",
       "      <td>3</td>\n",
       "      <td>other</td>\n",
       "      <td>other</td>\n",
       "      <td>...</td>\n",
       "      <td>4</td>\n",
       "      <td>3</td>\n",
       "      <td>2</td>\n",
       "      <td>1</td>\n",
       "      <td>2</td>\n",
       "      <td>5</td>\n",
       "      <td>4</td>\n",
       "      <td>6</td>\n",
       "      <td>10</td>\n",
       "      <td>10</td>\n",
       "    </tr>\n",
       "  </tbody>\n",
       "</table>\n",
       "<p>5 rows × 33 columns</p>\n",
       "</div>"
      ],
      "text/plain": [
       "  school sex  age address famsize Pstatus  Medu  Fedu     Mjob      Fjob  ...  \\\n",
       "0     GP   F   18       U     GT3       A     4     4  at_home   teacher  ...   \n",
       "1     GP   F   17       U     GT3       T     1     1  at_home     other  ...   \n",
       "2     GP   F   15       U     LE3       T     1     1  at_home     other  ...   \n",
       "3     GP   F   15       U     GT3       T     4     2   health  services  ...   \n",
       "4     GP   F   16       U     GT3       T     3     3    other     other  ...   \n",
       "\n",
       "  famrel freetime  goout  Dalc  Walc health absences  G1  G2  G3  \n",
       "0      4        3      4     1     1      3        6   5   6   6  \n",
       "1      5        3      3     1     1      3        4   5   5   6  \n",
       "2      4        3      2     2     3      3       10   7   8  10  \n",
       "3      3        2      2     1     1      5        2  15  14  15  \n",
       "4      4        3      2     1     2      5        4   6  10  10  \n",
       "\n",
       "[5 rows x 33 columns]"
      ]
     },
     "execution_count": 3,
     "metadata": {},
     "output_type": "execute_result"
    }
   ],
   "source": [
    "df.head()"
   ]
  },
  {
   "cell_type": "markdown",
   "id": "166905a4",
   "metadata": {
    "papermill": {
     "duration": 0.02169,
     "end_time": "2024-10-15T08:51:55.367354",
     "exception": false,
     "start_time": "2024-10-15T08:51:55.345664",
     "status": "completed"
    },
    "tags": []
   },
   "source": [
    "# Features to analyze:\n",
    "1 school - student's school (binary: 'GP' - Gabriel Pereira or 'MS' - Mousinho da Silveira) <br>\n",
    "2 sex - student's sex (binary: 'F' - female or 'M' - male) <br>\n",
    "3 age - student's age (numeric: from 15 to 22) <br>\n",
    "4 address - student's home address type (binary: 'U' - urban or 'R' - rural) <br>\n",
    "5 Medu - mother's education (numeric: 0 - none,  1 - primary education (4th grade), 2 - 5th to 9th grade, 3 - secondary education or 4 - higher education) <br>\n",
    "6 Fedu - father's education (numeric: 0 - none,  1 - primary education (4th grade), 2 - 5th to 9th grade, 3 - secondary education or 4 - higher education) <br>\n",
    "7 studytime - weekly study time (numeric: 1 - <2 hours, 2 - 2 to 5 hours, 3 - 5 to 10 hours, or 4 - >10 hours) <br>\n",
    "8 failures - number of past class failures (numeric: n if 1<=n<3, else 4) <br>\n",
    "\n",
    "These grades are related with the course subject, Math or Portuguese: <br>\n",
    "9 G1 - first period grade (numeric: from 0 to 20) <br>\n",
    "10 G2 - second period grade (numeric: from 0 to 20) <br>\n",
    "11 G3 - final grade (numeric: from 0 to 20, output target) <br>\n",
    "\n",
    "Data description from UCI: https://archive.ics.uci.edu/dataset/320/student+performance"
   ]
  },
  {
   "cell_type": "code",
   "execution_count": 4,
   "id": "b463d789",
   "metadata": {
    "execution": {
     "iopub.execute_input": "2024-10-15T08:51:55.413126Z",
     "iopub.status.busy": "2024-10-15T08:51:55.412692Z",
     "iopub.status.idle": "2024-10-15T08:51:55.421245Z",
     "shell.execute_reply": "2024-10-15T08:51:55.420049Z"
    },
    "papermill": {
     "duration": 0.034723,
     "end_time": "2024-10-15T08:51:55.423892",
     "exception": false,
     "start_time": "2024-10-15T08:51:55.389169",
     "status": "completed"
    },
    "tags": []
   },
   "outputs": [
    {
     "data": {
      "text/plain": [
       "Index(['school', 'sex', 'age', 'address', 'famsize', 'Pstatus', 'Medu', 'Fedu',\n",
       "       'Mjob', 'Fjob', 'reason', 'guardian', 'traveltime', 'studytime',\n",
       "       'failures', 'schoolsup', 'famsup', 'paid', 'activities', 'nursery',\n",
       "       'higher', 'internet', 'romantic', 'famrel', 'freetime', 'goout', 'Dalc',\n",
       "       'Walc', 'health', 'absences', 'G1', 'G2', 'G3'],\n",
       "      dtype='object')"
      ]
     },
     "execution_count": 4,
     "metadata": {},
     "output_type": "execute_result"
    }
   ],
   "source": [
    "df.columns"
   ]
  },
  {
   "cell_type": "code",
   "execution_count": 5,
   "id": "aebfdfb0",
   "metadata": {
    "execution": {
     "iopub.execute_input": "2024-10-15T08:51:55.469650Z",
     "iopub.status.busy": "2024-10-15T08:51:55.469180Z",
     "iopub.status.idle": "2024-10-15T08:51:55.476655Z",
     "shell.execute_reply": "2024-10-15T08:51:55.475490Z"
    },
    "papermill": {
     "duration": 0.033227,
     "end_time": "2024-10-15T08:51:55.479174",
     "exception": false,
     "start_time": "2024-10-15T08:51:55.445947",
     "status": "completed"
    },
    "tags": []
   },
   "outputs": [
    {
     "data": {
      "text/plain": [
       "(395, 33)"
      ]
     },
     "execution_count": 5,
     "metadata": {},
     "output_type": "execute_result"
    }
   ],
   "source": [
    "df.shape"
   ]
  },
  {
   "cell_type": "code",
   "execution_count": 6,
   "id": "56bf03b2",
   "metadata": {
    "execution": {
     "iopub.execute_input": "2024-10-15T08:51:55.525327Z",
     "iopub.status.busy": "2024-10-15T08:51:55.524887Z",
     "iopub.status.idle": "2024-10-15T08:51:55.530831Z",
     "shell.execute_reply": "2024-10-15T08:51:55.529657Z"
    },
    "papermill": {
     "duration": 0.032396,
     "end_time": "2024-10-15T08:51:55.533622",
     "exception": false,
     "start_time": "2024-10-15T08:51:55.501226",
     "status": "completed"
    },
    "tags": []
   },
   "outputs": [],
   "source": [
    "data = [\"school\", \"sex\", \"age\", \"address\", \"Medu\", \"Fedu\", \"studytime\", \"activities\", \"romantic\", \"failures\", \"internet\", \"paid\", \"G1\", \"G2\", \"G3\"]"
   ]
  },
  {
   "cell_type": "code",
   "execution_count": null,
   "id": "be95c080",
   "metadata": {
    "papermill": {
     "duration": 0.021512,
     "end_time": "2024-10-15T08:51:55.577076",
     "exception": false,
     "start_time": "2024-10-15T08:51:55.555564",
     "status": "completed"
    },
    "tags": []
   },
   "outputs": [],
   "source": []
  },
  {
   "cell_type": "code",
   "execution_count": 7,
   "id": "588bd723",
   "metadata": {
    "execution": {
     "iopub.execute_input": "2024-10-15T08:51:55.622970Z",
     "iopub.status.busy": "2024-10-15T08:51:55.622551Z",
     "iopub.status.idle": "2024-10-15T08:51:55.642852Z",
     "shell.execute_reply": "2024-10-15T08:51:55.641531Z"
    },
    "papermill": {
     "duration": 0.046866,
     "end_time": "2024-10-15T08:51:55.645870",
     "exception": false,
     "start_time": "2024-10-15T08:51:55.599004",
     "status": "completed"
    },
    "tags": []
   },
   "outputs": [
    {
     "data": {
      "text/html": [
       "<div>\n",
       "<style scoped>\n",
       "    .dataframe tbody tr th:only-of-type {\n",
       "        vertical-align: middle;\n",
       "    }\n",
       "\n",
       "    .dataframe tbody tr th {\n",
       "        vertical-align: top;\n",
       "    }\n",
       "\n",
       "    .dataframe thead th {\n",
       "        text-align: right;\n",
       "    }\n",
       "</style>\n",
       "<table border=\"1\" class=\"dataframe\">\n",
       "  <thead>\n",
       "    <tr style=\"text-align: right;\">\n",
       "      <th></th>\n",
       "      <th>school</th>\n",
       "      <th>sex</th>\n",
       "      <th>age</th>\n",
       "      <th>address</th>\n",
       "      <th>Medu</th>\n",
       "      <th>Fedu</th>\n",
       "      <th>studytime</th>\n",
       "      <th>activities</th>\n",
       "      <th>romantic</th>\n",
       "      <th>failures</th>\n",
       "      <th>internet</th>\n",
       "      <th>paid</th>\n",
       "      <th>G1</th>\n",
       "      <th>G2</th>\n",
       "      <th>G3</th>\n",
       "    </tr>\n",
       "  </thead>\n",
       "  <tbody>\n",
       "    <tr>\n",
       "      <th>0</th>\n",
       "      <td>GP</td>\n",
       "      <td>F</td>\n",
       "      <td>18</td>\n",
       "      <td>U</td>\n",
       "      <td>4</td>\n",
       "      <td>4</td>\n",
       "      <td>2</td>\n",
       "      <td>no</td>\n",
       "      <td>no</td>\n",
       "      <td>0</td>\n",
       "      <td>no</td>\n",
       "      <td>no</td>\n",
       "      <td>5</td>\n",
       "      <td>6</td>\n",
       "      <td>6</td>\n",
       "    </tr>\n",
       "    <tr>\n",
       "      <th>1</th>\n",
       "      <td>GP</td>\n",
       "      <td>F</td>\n",
       "      <td>17</td>\n",
       "      <td>U</td>\n",
       "      <td>1</td>\n",
       "      <td>1</td>\n",
       "      <td>2</td>\n",
       "      <td>no</td>\n",
       "      <td>no</td>\n",
       "      <td>0</td>\n",
       "      <td>yes</td>\n",
       "      <td>no</td>\n",
       "      <td>5</td>\n",
       "      <td>5</td>\n",
       "      <td>6</td>\n",
       "    </tr>\n",
       "    <tr>\n",
       "      <th>2</th>\n",
       "      <td>GP</td>\n",
       "      <td>F</td>\n",
       "      <td>15</td>\n",
       "      <td>U</td>\n",
       "      <td>1</td>\n",
       "      <td>1</td>\n",
       "      <td>2</td>\n",
       "      <td>no</td>\n",
       "      <td>no</td>\n",
       "      <td>3</td>\n",
       "      <td>yes</td>\n",
       "      <td>yes</td>\n",
       "      <td>7</td>\n",
       "      <td>8</td>\n",
       "      <td>10</td>\n",
       "    </tr>\n",
       "    <tr>\n",
       "      <th>3</th>\n",
       "      <td>GP</td>\n",
       "      <td>F</td>\n",
       "      <td>15</td>\n",
       "      <td>U</td>\n",
       "      <td>4</td>\n",
       "      <td>2</td>\n",
       "      <td>3</td>\n",
       "      <td>yes</td>\n",
       "      <td>yes</td>\n",
       "      <td>0</td>\n",
       "      <td>yes</td>\n",
       "      <td>yes</td>\n",
       "      <td>15</td>\n",
       "      <td>14</td>\n",
       "      <td>15</td>\n",
       "    </tr>\n",
       "    <tr>\n",
       "      <th>4</th>\n",
       "      <td>GP</td>\n",
       "      <td>F</td>\n",
       "      <td>16</td>\n",
       "      <td>U</td>\n",
       "      <td>3</td>\n",
       "      <td>3</td>\n",
       "      <td>2</td>\n",
       "      <td>no</td>\n",
       "      <td>no</td>\n",
       "      <td>0</td>\n",
       "      <td>no</td>\n",
       "      <td>yes</td>\n",
       "      <td>6</td>\n",
       "      <td>10</td>\n",
       "      <td>10</td>\n",
       "    </tr>\n",
       "  </tbody>\n",
       "</table>\n",
       "</div>"
      ],
      "text/plain": [
       "  school sex  age address  Medu  Fedu  studytime activities romantic  \\\n",
       "0     GP   F   18       U     4     4          2         no       no   \n",
       "1     GP   F   17       U     1     1          2         no       no   \n",
       "2     GP   F   15       U     1     1          2         no       no   \n",
       "3     GP   F   15       U     4     2          3        yes      yes   \n",
       "4     GP   F   16       U     3     3          2         no       no   \n",
       "\n",
       "   failures internet paid  G1  G2  G3  \n",
       "0         0       no   no   5   6   6  \n",
       "1         0      yes   no   5   5   6  \n",
       "2         3      yes  yes   7   8  10  \n",
       "3         0      yes  yes  15  14  15  \n",
       "4         0       no  yes   6  10  10  "
      ]
     },
     "execution_count": 7,
     "metadata": {},
     "output_type": "execute_result"
    }
   ],
   "source": [
    "student = df[data]\n",
    "student.head()"
   ]
  },
  {
   "cell_type": "code",
   "execution_count": 8,
   "id": "4e26cfea",
   "metadata": {
    "execution": {
     "iopub.execute_input": "2024-10-15T08:51:55.693712Z",
     "iopub.status.busy": "2024-10-15T08:51:55.693245Z",
     "iopub.status.idle": "2024-10-15T08:51:55.704788Z",
     "shell.execute_reply": "2024-10-15T08:51:55.703579Z"
    },
    "papermill": {
     "duration": 0.038277,
     "end_time": "2024-10-15T08:51:55.707524",
     "exception": false,
     "start_time": "2024-10-15T08:51:55.669247",
     "status": "completed"
    },
    "tags": []
   },
   "outputs": [
    {
     "data": {
      "text/plain": [
       "school        0\n",
       "sex           0\n",
       "age           0\n",
       "address       0\n",
       "Medu          0\n",
       "Fedu          0\n",
       "studytime     0\n",
       "activities    0\n",
       "romantic      0\n",
       "failures      0\n",
       "internet      0\n",
       "paid          0\n",
       "G1            0\n",
       "G2            0\n",
       "G3            0\n",
       "dtype: int64"
      ]
     },
     "execution_count": 8,
     "metadata": {},
     "output_type": "execute_result"
    }
   ],
   "source": [
    "# Check for null values\n",
    "student.isna().sum()"
   ]
  },
  {
   "cell_type": "code",
   "execution_count": 9,
   "id": "a7be4ccf",
   "metadata": {
    "execution": {
     "iopub.execute_input": "2024-10-15T08:51:55.755894Z",
     "iopub.status.busy": "2024-10-15T08:51:55.755434Z",
     "iopub.status.idle": "2024-10-15T08:51:55.774994Z",
     "shell.execute_reply": "2024-10-15T08:51:55.773532Z"
    },
    "papermill": {
     "duration": 0.046616,
     "end_time": "2024-10-15T08:51:55.777722",
     "exception": false,
     "start_time": "2024-10-15T08:51:55.731106",
     "status": "completed"
    },
    "tags": []
   },
   "outputs": [
    {
     "name": "stdout",
     "output_type": "stream",
     "text": [
      "school: ['GP' 'MS']\n",
      "sex: ['F' 'M']\n",
      "age: [18 17 15 16 19 22 20 21]\n",
      "address: ['U' 'R']\n",
      "Medu: [4 1 3 2 0]\n",
      "Fedu: [4 1 2 3 0]\n",
      "studytime: [2 3 1 4]\n",
      "activities: ['no' 'yes']\n",
      "romantic: ['no' 'yes']\n",
      "failures: [0 3 2 1]\n",
      "internet: ['no' 'yes']\n",
      "paid: ['no' 'yes']\n",
      "G1: [ 5  7 15  6 12 16 14 10 13  8 11  9 17 19 18  4  3]\n",
      "G2: [ 6  5  8 14 10 15 12 18 16 13  9 11  7 19 17  4  0]\n",
      "G3: [ 6 10 15 11 19  9 12 14 16  5  8 17 18 13 20  7  0  4]\n"
     ]
    }
   ],
   "source": [
    "# Check for unique values\n",
    "for col in student.columns:\n",
    "    print(f\"{col}: {student[col].unique()}\")"
   ]
  },
  {
   "cell_type": "code",
   "execution_count": 10,
   "id": "7aa960a0",
   "metadata": {
    "execution": {
     "iopub.execute_input": "2024-10-15T08:51:55.826370Z",
     "iopub.status.busy": "2024-10-15T08:51:55.825854Z",
     "iopub.status.idle": "2024-10-15T08:51:55.846849Z",
     "shell.execute_reply": "2024-10-15T08:51:55.845643Z"
    },
    "papermill": {
     "duration": 0.048239,
     "end_time": "2024-10-15T08:51:55.849615",
     "exception": false,
     "start_time": "2024-10-15T08:51:55.801376",
     "status": "completed"
    },
    "tags": []
   },
   "outputs": [],
   "source": [
    "student.loc[:, [\"Medu\", \"Fedu\", \"studytime\"]] = student.loc[:, [\"Medu\", \"Fedu\", \"studytime\"]].astype(str)"
   ]
  },
  {
   "cell_type": "code",
   "execution_count": 11,
   "id": "10311ca7",
   "metadata": {
    "execution": {
     "iopub.execute_input": "2024-10-15T08:51:55.896876Z",
     "iopub.status.busy": "2024-10-15T08:51:55.896464Z",
     "iopub.status.idle": "2024-10-15T08:51:55.928841Z",
     "shell.execute_reply": "2024-10-15T08:51:55.927711Z"
    },
    "papermill": {
     "duration": 0.058971,
     "end_time": "2024-10-15T08:51:55.931434",
     "exception": false,
     "start_time": "2024-10-15T08:51:55.872463",
     "status": "completed"
    },
    "tags": []
   },
   "outputs": [
    {
     "data": {
      "text/html": [
       "<div>\n",
       "<style scoped>\n",
       "    .dataframe tbody tr th:only-of-type {\n",
       "        vertical-align: middle;\n",
       "    }\n",
       "\n",
       "    .dataframe tbody tr th {\n",
       "        vertical-align: top;\n",
       "    }\n",
       "\n",
       "    .dataframe thead th {\n",
       "        text-align: right;\n",
       "    }\n",
       "</style>\n",
       "<table border=\"1\" class=\"dataframe\">\n",
       "  <thead>\n",
       "    <tr style=\"text-align: right;\">\n",
       "      <th></th>\n",
       "      <th>age</th>\n",
       "      <th>failures</th>\n",
       "      <th>G1</th>\n",
       "      <th>G2</th>\n",
       "      <th>G3</th>\n",
       "    </tr>\n",
       "  </thead>\n",
       "  <tbody>\n",
       "    <tr>\n",
       "      <th>count</th>\n",
       "      <td>395.000000</td>\n",
       "      <td>395.000000</td>\n",
       "      <td>395.000000</td>\n",
       "      <td>395.000000</td>\n",
       "      <td>395.000000</td>\n",
       "    </tr>\n",
       "    <tr>\n",
       "      <th>mean</th>\n",
       "      <td>16.696203</td>\n",
       "      <td>0.334177</td>\n",
       "      <td>10.908861</td>\n",
       "      <td>10.713924</td>\n",
       "      <td>10.415190</td>\n",
       "    </tr>\n",
       "    <tr>\n",
       "      <th>std</th>\n",
       "      <td>1.276043</td>\n",
       "      <td>0.743651</td>\n",
       "      <td>3.319195</td>\n",
       "      <td>3.761505</td>\n",
       "      <td>4.581443</td>\n",
       "    </tr>\n",
       "    <tr>\n",
       "      <th>min</th>\n",
       "      <td>15.000000</td>\n",
       "      <td>0.000000</td>\n",
       "      <td>3.000000</td>\n",
       "      <td>0.000000</td>\n",
       "      <td>0.000000</td>\n",
       "    </tr>\n",
       "    <tr>\n",
       "      <th>25%</th>\n",
       "      <td>16.000000</td>\n",
       "      <td>0.000000</td>\n",
       "      <td>8.000000</td>\n",
       "      <td>9.000000</td>\n",
       "      <td>8.000000</td>\n",
       "    </tr>\n",
       "    <tr>\n",
       "      <th>50%</th>\n",
       "      <td>17.000000</td>\n",
       "      <td>0.000000</td>\n",
       "      <td>11.000000</td>\n",
       "      <td>11.000000</td>\n",
       "      <td>11.000000</td>\n",
       "    </tr>\n",
       "    <tr>\n",
       "      <th>75%</th>\n",
       "      <td>18.000000</td>\n",
       "      <td>0.000000</td>\n",
       "      <td>13.000000</td>\n",
       "      <td>13.000000</td>\n",
       "      <td>14.000000</td>\n",
       "    </tr>\n",
       "    <tr>\n",
       "      <th>max</th>\n",
       "      <td>22.000000</td>\n",
       "      <td>3.000000</td>\n",
       "      <td>19.000000</td>\n",
       "      <td>19.000000</td>\n",
       "      <td>20.000000</td>\n",
       "    </tr>\n",
       "  </tbody>\n",
       "</table>\n",
       "</div>"
      ],
      "text/plain": [
       "              age    failures          G1          G2          G3\n",
       "count  395.000000  395.000000  395.000000  395.000000  395.000000\n",
       "mean    16.696203    0.334177   10.908861   10.713924   10.415190\n",
       "std      1.276043    0.743651    3.319195    3.761505    4.581443\n",
       "min     15.000000    0.000000    3.000000    0.000000    0.000000\n",
       "25%     16.000000    0.000000    8.000000    9.000000    8.000000\n",
       "50%     17.000000    0.000000   11.000000   11.000000   11.000000\n",
       "75%     18.000000    0.000000   13.000000   13.000000   14.000000\n",
       "max     22.000000    3.000000   19.000000   19.000000   20.000000"
      ]
     },
     "execution_count": 11,
     "metadata": {},
     "output_type": "execute_result"
    }
   ],
   "source": [
    "student.describe()"
   ]
  },
  {
   "cell_type": "code",
   "execution_count": 12,
   "id": "2b2db7e9",
   "metadata": {
    "execution": {
     "iopub.execute_input": "2024-10-15T08:51:55.978925Z",
     "iopub.status.busy": "2024-10-15T08:51:55.978514Z",
     "iopub.status.idle": "2024-10-15T08:51:56.013419Z",
     "shell.execute_reply": "2024-10-15T08:51:56.012170Z"
    },
    "papermill": {
     "duration": 0.061633,
     "end_time": "2024-10-15T08:51:56.016023",
     "exception": false,
     "start_time": "2024-10-15T08:51:55.954390",
     "status": "completed"
    },
    "tags": []
   },
   "outputs": [
    {
     "data": {
      "text/html": [
       "<div>\n",
       "<style scoped>\n",
       "    .dataframe tbody tr th:only-of-type {\n",
       "        vertical-align: middle;\n",
       "    }\n",
       "\n",
       "    .dataframe tbody tr th {\n",
       "        vertical-align: top;\n",
       "    }\n",
       "\n",
       "    .dataframe thead th {\n",
       "        text-align: right;\n",
       "    }\n",
       "</style>\n",
       "<table border=\"1\" class=\"dataframe\">\n",
       "  <thead>\n",
       "    <tr style=\"text-align: right;\">\n",
       "      <th></th>\n",
       "      <th>school</th>\n",
       "      <th>sex</th>\n",
       "      <th>address</th>\n",
       "      <th>Medu</th>\n",
       "      <th>Fedu</th>\n",
       "      <th>studytime</th>\n",
       "      <th>activities</th>\n",
       "      <th>romantic</th>\n",
       "      <th>internet</th>\n",
       "      <th>paid</th>\n",
       "    </tr>\n",
       "  </thead>\n",
       "  <tbody>\n",
       "    <tr>\n",
       "      <th>count</th>\n",
       "      <td>395</td>\n",
       "      <td>395</td>\n",
       "      <td>395</td>\n",
       "      <td>395</td>\n",
       "      <td>395</td>\n",
       "      <td>395</td>\n",
       "      <td>395</td>\n",
       "      <td>395</td>\n",
       "      <td>395</td>\n",
       "      <td>395</td>\n",
       "    </tr>\n",
       "    <tr>\n",
       "      <th>unique</th>\n",
       "      <td>2</td>\n",
       "      <td>2</td>\n",
       "      <td>2</td>\n",
       "      <td>5</td>\n",
       "      <td>5</td>\n",
       "      <td>4</td>\n",
       "      <td>2</td>\n",
       "      <td>2</td>\n",
       "      <td>2</td>\n",
       "      <td>2</td>\n",
       "    </tr>\n",
       "    <tr>\n",
       "      <th>top</th>\n",
       "      <td>GP</td>\n",
       "      <td>F</td>\n",
       "      <td>U</td>\n",
       "      <td>4</td>\n",
       "      <td>2</td>\n",
       "      <td>2</td>\n",
       "      <td>yes</td>\n",
       "      <td>no</td>\n",
       "      <td>yes</td>\n",
       "      <td>no</td>\n",
       "    </tr>\n",
       "    <tr>\n",
       "      <th>freq</th>\n",
       "      <td>349</td>\n",
       "      <td>208</td>\n",
       "      <td>307</td>\n",
       "      <td>131</td>\n",
       "      <td>115</td>\n",
       "      <td>198</td>\n",
       "      <td>201</td>\n",
       "      <td>263</td>\n",
       "      <td>329</td>\n",
       "      <td>214</td>\n",
       "    </tr>\n",
       "  </tbody>\n",
       "</table>\n",
       "</div>"
      ],
      "text/plain": [
       "       school  sex address Medu Fedu studytime activities romantic internet  \\\n",
       "count     395  395     395  395  395       395        395      395      395   \n",
       "unique      2    2       2    5    5         4          2        2        2   \n",
       "top        GP    F       U    4    2         2        yes       no      yes   \n",
       "freq      349  208     307  131  115       198        201      263      329   \n",
       "\n",
       "       paid  \n",
       "count   395  \n",
       "unique    2  \n",
       "top      no  \n",
       "freq    214  "
      ]
     },
     "execution_count": 12,
     "metadata": {},
     "output_type": "execute_result"
    }
   ],
   "source": [
    "student.describe(include=\"object\")"
   ]
  },
  {
   "cell_type": "markdown",
   "id": "417a5f49",
   "metadata": {
    "papermill": {
     "duration": 0.02295,
     "end_time": "2024-10-15T08:51:56.062180",
     "exception": false,
     "start_time": "2024-10-15T08:51:56.039230",
     "status": "completed"
    },
    "tags": []
   },
   "source": [
    "# Data Visualization"
   ]
  },
  {
   "cell_type": "code",
   "execution_count": 13,
   "id": "c12cb75f",
   "metadata": {
    "execution": {
     "iopub.execute_input": "2024-10-15T08:51:56.111057Z",
     "iopub.status.busy": "2024-10-15T08:51:56.110309Z",
     "iopub.status.idle": "2024-10-15T08:51:56.117104Z",
     "shell.execute_reply": "2024-10-15T08:51:56.116004Z"
    },
    "papermill": {
     "duration": 0.033724,
     "end_time": "2024-10-15T08:51:56.119725",
     "exception": false,
     "start_time": "2024-10-15T08:51:56.086001",
     "status": "completed"
    },
    "tags": []
   },
   "outputs": [],
   "source": [
    "student_num = student[[\"age\", \"failures\", \"G1\", \"G2\", \"G3\"]]"
   ]
  },
  {
   "cell_type": "markdown",
   "id": "a4809b88",
   "metadata": {
    "papermill": {
     "duration": 0.022805,
     "end_time": "2024-10-15T08:51:56.165787",
     "exception": false,
     "start_time": "2024-10-15T08:51:56.142982",
     "status": "completed"
    },
    "tags": []
   },
   "source": [
    "## Histograms\n",
    "To understand data distribution"
   ]
  },
  {
   "cell_type": "code",
   "execution_count": 14,
   "id": "ddb0582f",
   "metadata": {
    "execution": {
     "iopub.execute_input": "2024-10-15T08:51:56.214217Z",
     "iopub.status.busy": "2024-10-15T08:51:56.213179Z",
     "iopub.status.idle": "2024-10-15T08:51:57.861499Z",
     "shell.execute_reply": "2024-10-15T08:51:57.860193Z"
    },
    "papermill": {
     "duration": 1.675322,
     "end_time": "2024-10-15T08:51:57.864203",
     "exception": false,
     "start_time": "2024-10-15T08:51:56.188881",
     "status": "completed"
    },
    "tags": []
   },
   "outputs": [
    {
     "name": "stdout",
     "output_type": "stream",
     "text": [
      "Age mean: 16.6962\n"
     ]
    },
    {
     "data": {
      "image/png": "[encoded data removed]",
      "text/plain": [
       "<Figure size 640x480 with 1 Axes>"
      ]
     },
     "metadata": {},
     "output_type": "display_data"
    },
    {
     "name": "stdout",
     "output_type": "stream",
     "text": [
      "Failures mean: 0.3342\n"
     ]
    },
    {
     "data": {
      "image/png": "[encoded data removed]",
      "text/plain": [
       "<Figure size 640x480 with 1 Axes>"
      ]
     },
     "metadata": {},
     "output_type": "display_data"
    },
    {
     "name": "stdout",
     "output_type": "stream",
     "text": [
      "G1 mean: 10.9089\n"
     ]
    },
    {
     "data": {
      "image/png": "[encoded data removed]",
      "text/plain": [
       "<Figure size 640x480 with 1 Axes>"
      ]
     },
     "metadata": {},
     "output_type": "display_data"
    },
    {
     "name": "stdout",
     "output_type": "stream",
     "text": [
      "G2 mean: 10.7139\n"
     ]
    },
    {
     "data": {
      "image/png": "[encoded data removed]",
      "text/plain": [
       "<Figure size 640x480 with 1 Axes>"
      ]
     },
     "metadata": {},
     "output_type": "display_data"
    },
    {
     "name": "stdout",
     "output_type": "stream",
     "text": [
      "G3 mean: 10.4152\n"
     ]
    },
    {
     "data": {
      "image/png": "[encoded data removed]",
      "text/plain": [
       "<Figure size 640x480 with 1 Axes>"
      ]
     },
     "metadata": {},
     "output_type": "display_data"
    }
   ],
   "source": [
    "for col in student_num.columns:\n",
    "    mean = student[col].mean()\n",
    "    median = student[col].median()\n",
    "    print(f\"{col.capitalize()} mean: {round(mean, 4)}\")\n",
    "    student_num[col].plot(kind=\"hist\", xlabel=col)\n",
    "#     student_num[col].plot(kind=\"density\")\n",
    "    plt.axvline(mean, color=\"red\", label=\"Mean\")\n",
    "    plt.axvline(median, color='green', label=\"Median\")\n",
    "    plt.legend()\n",
    "    plt.show()"
   ]
  },
  {
   "cell_type": "markdown",
   "id": "d89a337c",
   "metadata": {
    "papermill": {
     "duration": 0.026056,
     "end_time": "2024-10-15T08:51:57.917441",
     "exception": false,
     "start_time": "2024-10-15T08:51:57.891385",
     "status": "completed"
    },
    "tags": []
   },
   "source": [
    "### Skew and Kurtosis"
   ]
  },
  {
   "cell_type": "code",
   "execution_count": 15,
   "id": "910f039f",
   "metadata": {
    "execution": {
     "iopub.execute_input": "2024-10-15T08:51:57.970793Z",
     "iopub.status.busy": "2024-10-15T08:51:57.970322Z",
     "iopub.status.idle": "2024-10-15T08:51:57.977366Z",
     "shell.execute_reply": "2024-10-15T08:51:57.976125Z"
    },
    "papermill": {
     "duration": 0.036851,
     "end_time": "2024-10-15T08:51:57.980201",
     "exception": false,
     "start_time": "2024-10-15T08:51:57.943350",
     "status": "completed"
    },
    "tags": []
   },
   "outputs": [],
   "source": [
    "from scipy.stats import skew, kurtosis, shapiro\n",
    "def skew_kurtosis(series):\n",
    "    return {\n",
    "        \"skewness\": skew(series),\n",
    "        \"kurtosis\": kurtosis(series, fisher=False),\n",
    "        \"excess_kurtosis\": kurtosis(series, fisher=True),\n",
    "        \"shapiro_wilk\": shapiro(series)\n",
    "        \n",
    "    }\n",
    "    "
   ]
  },
  {
   "cell_type": "code",
   "execution_count": 16,
   "id": "e530273f",
   "metadata": {
    "execution": {
     "iopub.execute_input": "2024-10-15T08:51:58.034267Z",
     "iopub.status.busy": "2024-10-15T08:51:58.033371Z",
     "iopub.status.idle": "2024-10-15T08:51:58.058756Z",
     "shell.execute_reply": "2024-10-15T08:51:58.057606Z"
    },
    "papermill": {
     "duration": 0.055327,
     "end_time": "2024-10-15T08:51:58.061389",
     "exception": false,
     "start_time": "2024-10-15T08:51:58.006062",
     "status": "completed"
    },
    "tags": []
   },
   "outputs": [
    {
     "name": "stdout",
     "output_type": "stream",
     "text": [
      "G1: {'skewness': 0.23969855664115217, 'kurtosis': 2.299770562048971, 'excess_kurtosis': -0.700229437951029, 'shapiro_wilk': ShapiroResult(statistic=0.9749134463536321, pvalue=2.4541585453322648e-06)}\n",
      "G2: {'skewness': -0.4300044971456705, 'kurtosis': 3.6046365981740327, 'excess_kurtosis': 0.6046365981740327, 'shapiro_wilk': ShapiroResult(statistic=0.9691414513461054, pvalue=2.083959796331057e-07)}\n",
      "G3: {'skewness': -0.7298871128420806, 'kurtosis': 3.3831807721034517, 'excess_kurtosis': 0.3831807721034517, 'shapiro_wilk': ShapiroResult(statistic=0.928729849872698, pvalue=8.835916843805374e-13)}\n",
      "\n",
      "Average grade: {'skewness': -0.1400131306996514, 'kurtosis': 2.6561829073217282, 'excess_kurtosis': -0.34381709267827176, 'shapiro_wilk': ShapiroResult(statistic=0.9926792337421877, pvalue=0.05052375511178147)}\n"
     ]
    }
   ],
   "source": [
    "g1_normality = skew_kurtosis(student[\"G1\"])\n",
    "g2_normality = skew_kurtosis(student[\"G2\"])\n",
    "g3_normality = skew_kurtosis(student[\"G3\"])\n",
    "avg_normality = skew_kurtosis(student[[\"G1\", \"G2\", \"G3\"]].mean(axis=1))\n",
    "\n",
    "print(f\"G1: {g1_normality}\")\n",
    "print(f\"G2: {g2_normality}\")\n",
    "print(f\"G3: {g3_normality}\")\n",
    "print()\n",
    "print(f\"Average grade: {avg_normality}\")"
   ]
  },
  {
   "cell_type": "code",
   "execution_count": null,
   "id": "132268c1",
   "metadata": {
    "papermill": {
     "duration": 0.025288,
     "end_time": "2024-10-15T08:51:58.112762",
     "exception": false,
     "start_time": "2024-10-15T08:51:58.087474",
     "status": "completed"
    },
    "tags": []
   },
   "outputs": [],
   "source": []
  },
  {
   "cell_type": "markdown",
   "id": "e5a9049b",
   "metadata": {
    "papermill": {
     "duration": 0.025267,
     "end_time": "2024-10-15T08:51:58.163673",
     "exception": false,
     "start_time": "2024-10-15T08:51:58.138406",
     "status": "completed"
    },
    "tags": []
   },
   "source": [
    "## Boxplots\n",
    "For outlier detection and spread of data"
   ]
  },
  {
   "cell_type": "code",
   "execution_count": 17,
   "id": "a34eec05",
   "metadata": {
    "execution": {
     "iopub.execute_input": "2024-10-15T08:51:58.216585Z",
     "iopub.status.busy": "2024-10-15T08:51:58.216144Z",
     "iopub.status.idle": "2024-10-15T08:51:58.441279Z",
     "shell.execute_reply": "2024-10-15T08:51:58.440128Z"
    },
    "papermill": {
     "duration": 0.254783,
     "end_time": "2024-10-15T08:51:58.443937",
     "exception": false,
     "start_time": "2024-10-15T08:51:58.189154",
     "status": "completed"
    },
    "tags": []
   },
   "outputs": [
    {
     "data": {
      "image/png": "[encoded data removed]",
      "text/plain": [
       "<Figure size 640x480 with 1 Axes>"
      ]
     },
     "metadata": {},
     "output_type": "display_data"
    },
    {
     "name": "stdout",
     "output_type": "stream",
     "text": [
      "age\n",
      "22     1\n",
      "Name: count, dtype: int64\n",
      "\n",
      "failures\n",
      "1           50\n",
      "2           17\n",
      "3           16\n",
      "Name: count, dtype: int64\n",
      "\n",
      "G1: No outliers\n",
      "\n",
      "G2\n",
      "0     13\n",
      "Name: count, dtype: int64\n",
      "\n",
      "G3: No outliers\n",
      "\n"
     ]
    }
   ],
   "source": [
    "box = student_num.plot(kind=\"box\")\n",
    "plt.show()\n",
    "\n",
    "for col in student_num.columns:\n",
    "    q1, q3 = student_num[col].quantile(.25), student_num[col].quantile(.75)\n",
    "    iqr = q3 - q1\n",
    "    lower_bound, upper_bound = q1 - 1.5 * iqr, q3 + 1.5 * iqr\n",
    "    outlier = pd.DataFrame(student_num.loc[(student_num[col]<lower_bound) | (student_num[col]>upper_bound), col])\n",
    "    \n",
    "    if not outlier.empty:\n",
    "        print(outlier.value_counts())\n",
    "        print()\n",
    "    else: \n",
    "        print(f\"{col}: No outliers\\n\")\n",
    "        "
   ]
  },
  {
   "cell_type": "markdown",
   "id": "ac640c7a",
   "metadata": {
    "papermill": {
     "duration": 0.025411,
     "end_time": "2024-10-15T08:51:58.495564",
     "exception": false,
     "start_time": "2024-10-15T08:51:58.470153",
     "status": "completed"
    },
    "tags": []
   },
   "source": [
    "## Bar Charts\n",
    "To compare averages in each categories"
   ]
  },
  {
   "cell_type": "code",
   "execution_count": 18,
   "id": "d9dca887",
   "metadata": {
    "execution": {
     "iopub.execute_input": "2024-10-15T08:51:58.550553Z",
     "iopub.status.busy": "2024-10-15T08:51:58.550101Z",
     "iopub.status.idle": "2024-10-15T08:51:58.573614Z",
     "shell.execute_reply": "2024-10-15T08:51:58.572447Z"
    },
    "papermill": {
     "duration": 0.054788,
     "end_time": "2024-10-15T08:51:58.576381",
     "exception": false,
     "start_time": "2024-10-15T08:51:58.521593",
     "status": "completed"
    },
    "tags": []
   },
   "outputs": [
    {
     "data": {
      "text/html": [
       "<div>\n",
       "<style scoped>\n",
       "    .dataframe tbody tr th:only-of-type {\n",
       "        vertical-align: middle;\n",
       "    }\n",
       "\n",
       "    .dataframe tbody tr th {\n",
       "        vertical-align: top;\n",
       "    }\n",
       "\n",
       "    .dataframe thead th {\n",
       "        text-align: right;\n",
       "    }\n",
       "</style>\n",
       "<table border=\"1\" class=\"dataframe\">\n",
       "  <thead>\n",
       "    <tr style=\"text-align: right;\">\n",
       "      <th></th>\n",
       "      <th>school</th>\n",
       "      <th>sex</th>\n",
       "      <th>address</th>\n",
       "      <th>Medu</th>\n",
       "      <th>Fedu</th>\n",
       "      <th>studytime</th>\n",
       "      <th>activities</th>\n",
       "      <th>romantic</th>\n",
       "      <th>internet</th>\n",
       "      <th>paid</th>\n",
       "      <th>overall_avg</th>\n",
       "    </tr>\n",
       "  </thead>\n",
       "  <tbody>\n",
       "    <tr>\n",
       "      <th>0</th>\n",
       "      <td>GP</td>\n",
       "      <td>F</td>\n",
       "      <td>U</td>\n",
       "      <td>4</td>\n",
       "      <td>4</td>\n",
       "      <td>2</td>\n",
       "      <td>no</td>\n",
       "      <td>no</td>\n",
       "      <td>no</td>\n",
       "      <td>no</td>\n",
       "      <td>5.666667</td>\n",
       "    </tr>\n",
       "    <tr>\n",
       "      <th>1</th>\n",
       "      <td>GP</td>\n",
       "      <td>F</td>\n",
       "      <td>U</td>\n",
       "      <td>1</td>\n",
       "      <td>1</td>\n",
       "      <td>2</td>\n",
       "      <td>no</td>\n",
       "      <td>no</td>\n",
       "      <td>yes</td>\n",
       "      <td>no</td>\n",
       "      <td>5.333333</td>\n",
       "    </tr>\n",
       "    <tr>\n",
       "      <th>2</th>\n",
       "      <td>GP</td>\n",
       "      <td>F</td>\n",
       "      <td>U</td>\n",
       "      <td>1</td>\n",
       "      <td>1</td>\n",
       "      <td>2</td>\n",
       "      <td>no</td>\n",
       "      <td>no</td>\n",
       "      <td>yes</td>\n",
       "      <td>yes</td>\n",
       "      <td>8.333333</td>\n",
       "    </tr>\n",
       "    <tr>\n",
       "      <th>3</th>\n",
       "      <td>GP</td>\n",
       "      <td>F</td>\n",
       "      <td>U</td>\n",
       "      <td>4</td>\n",
       "      <td>2</td>\n",
       "      <td>3</td>\n",
       "      <td>yes</td>\n",
       "      <td>yes</td>\n",
       "      <td>yes</td>\n",
       "      <td>yes</td>\n",
       "      <td>14.666667</td>\n",
       "    </tr>\n",
       "    <tr>\n",
       "      <th>4</th>\n",
       "      <td>GP</td>\n",
       "      <td>F</td>\n",
       "      <td>U</td>\n",
       "      <td>3</td>\n",
       "      <td>3</td>\n",
       "      <td>2</td>\n",
       "      <td>no</td>\n",
       "      <td>no</td>\n",
       "      <td>no</td>\n",
       "      <td>yes</td>\n",
       "      <td>8.666667</td>\n",
       "    </tr>\n",
       "  </tbody>\n",
       "</table>\n",
       "</div>"
      ],
      "text/plain": [
       "  school sex address Medu Fedu studytime activities romantic internet paid  \\\n",
       "0     GP   F       U    4    4         2         no       no       no   no   \n",
       "1     GP   F       U    1    1         2         no       no      yes   no   \n",
       "2     GP   F       U    1    1         2         no       no      yes  yes   \n",
       "3     GP   F       U    4    2         3        yes      yes      yes  yes   \n",
       "4     GP   F       U    3    3         2         no       no       no  yes   \n",
       "\n",
       "   overall_avg  \n",
       "0     5.666667  \n",
       "1     5.333333  \n",
       "2     8.333333  \n",
       "3    14.666667  \n",
       "4     8.666667  "
      ]
     },
     "execution_count": 18,
     "metadata": {},
     "output_type": "execute_result"
    }
   ],
   "source": [
    "cat_cols = [\"school\", \"sex\", \"address\", \"Medu\", \"Fedu\", \"studytime\", \"activities\", \"romantic\", \"internet\", \"paid\"]\n",
    "student_cat = student[cat_cols].astype(str)\n",
    "\n",
    "overall_avg = (student.G1 + student.G2 + student.G3) / 3\n",
    "\n",
    "student_cat_avg = pd.concat([student_cat, overall_avg.rename(\"overall_avg\")], axis=1)\n",
    "\n",
    "student_cat_avg.head()"
   ]
  },
  {
   "cell_type": "code",
   "execution_count": 19,
   "id": "3eb071eb",
   "metadata": {
    "execution": {
     "iopub.execute_input": "2024-10-15T08:51:58.631615Z",
     "iopub.status.busy": "2024-10-15T08:51:58.630730Z",
     "iopub.status.idle": "2024-10-15T08:51:58.653651Z",
     "shell.execute_reply": "2024-10-15T08:51:58.652456Z"
    },
    "papermill": {
     "duration": 0.053636,
     "end_time": "2024-10-15T08:51:58.656416",
     "exception": false,
     "start_time": "2024-10-15T08:51:58.602780",
     "status": "completed"
    },
    "tags": []
   },
   "outputs": [],
   "source": [
    "# Aggregate \n",
    "avg_school = student_cat_avg.groupby(\"school\")[\"overall_avg\"].mean()\n",
    "avg_sex = student_cat_avg.groupby(\"sex\")[\"overall_avg\"].mean()\n",
    "avg_address = student_cat_avg.groupby(\"address\")[\"overall_avg\"].mean()\n",
    "avg_Medu = student_cat_avg.groupby(\"Medu\")[\"overall_avg\"].mean()\n",
    "avg_Fedu = student_cat_avg.groupby(\"Fedu\")[\"overall_avg\"].mean()\n",
    "avg_studytime = student_cat_avg.groupby(\"studytime\")[\"overall_avg\"].mean()\n",
    "avg_activities = student_cat_avg.groupby(\"activities\")[\"overall_avg\"].mean()\n",
    "avg_romantic = student_cat_avg.groupby(\"romantic\")[\"overall_avg\"].mean()\n",
    "avg_internet = student_cat_avg.groupby(\"internet\")[\"overall_avg\"].mean()\n",
    "avg_paid = student_cat_avg.groupby(\"paid\")[\"overall_avg\"].mean()\n",
    "\n",
    "avg_cats = [avg_school, avg_sex, avg_address, avg_Medu, avg_Fedu, avg_studytime, avg_activities, avg_romantic, avg_internet, avg_paid]\n",
    "\n",
    "for i in range(len(avg_cats)):\n",
    "    avg_cats[i].name = cat_cols[i]"
   ]
  },
  {
   "cell_type": "code",
   "execution_count": 20,
   "id": "5f2d24ae",
   "metadata": {
    "execution": {
     "iopub.execute_input": "2024-10-15T08:51:58.712046Z",
     "iopub.status.busy": "2024-10-15T08:51:58.710868Z",
     "iopub.status.idle": "2024-10-15T08:52:01.129907Z",
     "shell.execute_reply": "2024-10-15T08:52:01.128642Z"
    },
    "papermill": {
     "duration": 2.449687,
     "end_time": "2024-10-15T08:52:01.132672",
     "exception": false,
     "start_time": "2024-10-15T08:51:58.682985",
     "status": "completed"
    },
    "tags": []
   },
   "outputs": [
    {
     "data": {
      "image/png": "[encoded data removed]",
      "text/plain": [
       "<Figure size 640x480 with 1 Axes>"
      ]
     },
     "metadata": {},
     "output_type": "display_data"
    },
    {
     "data": {
      "image/png": "[encoded data removed]",
      "text/plain": [
       "<Figure size 640x480 with 1 Axes>"
      ]
     },
     "metadata": {},
     "output_type": "display_data"
    },
    {
     "data": {
      "image/png": "[encoded data removed]",
      "text/plain": [
       "<Figure size 640x480 with 1 Axes>"
      ]
     },
     "metadata": {},
     "output_type": "display_data"
    },
    {
     "data": {
      "image/png": "[encoded data removed]",
      "text/plain": [
       "<Figure size 640x480 with 1 Axes>"
      ]
     },
     "metadata": {},
     "output_type": "display_data"
    },
    {
     "data": {
      "image/png": "[encoded data removed]",
      "text/plain": [
       "<Figure size 640x480 with 1 Axes>"
      ]
     },
     "metadata": {},
     "output_type": "display_data"
    },
    {
     "data": {
      "image/png": "[encoded data removed]",
      "text/plain": [
       "<Figure size 640x480 with 1 Axes>"
      ]
     },
     "metadata": {},
     "output_type": "display_data"
    },
    {
     "data": {
      "image/png": "[encoded data removed]",
      "text/plain": [
       "<Figure size 640x480 with 1 Axes>"
      ]
     },
     "metadata": {},
     "output_type": "display_data"
    },
    {
     "data": {
      "image/png": "[encoded data removed]",
      "text/plain": [
       "<Figure size 640x480 with 1 Axes>"
      ]
     },
     "metadata": {},
     "output_type": "display_data"
    },
    {
     "data": {
      "image/png": "[encoded data removed]",
      "text/plain": [
       "<Figure size 640x480 with 1 Axes>"
      ]
     },
     "metadata": {},
     "output_type": "display_data"
    },
    {
     "data": {
      "image/png": "[encoded data removed]",
      "text/plain": [
       "<Figure size 640x480 with 1 Axes>"
      ]
     },
     "metadata": {},
     "output_type": "display_data"
    }
   ],
   "source": [
    "for col in avg_cats:\n",
    "    col.plot(kind=\"bar\", ylabel=\"overall average\", xlabel=\"\")\n",
    "    plt.title(col.name.capitalize())\n",
    "    plt.show()"
   ]
  },
  {
   "cell_type": "markdown",
   "id": "4c34921c",
   "metadata": {
    "papermill": {
     "duration": 0.029302,
     "end_time": "2024-10-15T08:52:01.192026",
     "exception": false,
     "start_time": "2024-10-15T08:52:01.162724",
     "status": "completed"
    },
    "tags": []
   },
   "source": [
    "# Statistical Tests"
   ]
  },
  {
   "cell_type": "markdown",
   "id": "a838efa3",
   "metadata": {
    "papermill": {
     "duration": 0.029157,
     "end_time": "2024-10-15T08:52:01.251132",
     "exception": false,
     "start_time": "2024-10-15T08:52:01.221975",
     "status": "completed"
    },
    "tags": []
   },
   "source": [
    "## Chi-Square Test of Independence"
   ]
  },
  {
   "cell_type": "code",
   "execution_count": 21,
   "id": "fcae913d",
   "metadata": {
    "execution": {
     "iopub.execute_input": "2024-10-15T08:52:01.312309Z",
     "iopub.status.busy": "2024-10-15T08:52:01.311797Z",
     "iopub.status.idle": "2024-10-15T08:52:01.319670Z",
     "shell.execute_reply": "2024-10-15T08:52:01.318555Z"
    },
    "papermill": {
     "duration": 0.041521,
     "end_time": "2024-10-15T08:52:01.322240",
     "exception": false,
     "start_time": "2024-10-15T08:52:01.280719",
     "status": "completed"
    },
    "tags": []
   },
   "outputs": [
    {
     "data": {
      "text/plain": [
       "Index(['school', 'sex', 'address', 'Medu', 'Fedu', 'studytime', 'activities',\n",
       "       'romantic', 'internet', 'paid'],\n",
       "      dtype='object')"
      ]
     },
     "execution_count": 21,
     "metadata": {},
     "output_type": "execute_result"
    }
   ],
   "source": [
    "student_cat.columns"
   ]
  },
  {
   "cell_type": "code",
   "execution_count": 22,
   "id": "ac1000e2",
   "metadata": {
    "execution": {
     "iopub.execute_input": "2024-10-15T08:52:01.384812Z",
     "iopub.status.busy": "2024-10-15T08:52:01.384354Z",
     "iopub.status.idle": "2024-10-15T08:52:01.392905Z",
     "shell.execute_reply": "2024-10-15T08:52:01.391668Z"
    },
    "papermill": {
     "duration": 0.043043,
     "end_time": "2024-10-15T08:52:01.395568",
     "exception": false,
     "start_time": "2024-10-15T08:52:01.352525",
     "status": "completed"
    },
    "tags": []
   },
   "outputs": [],
   "source": [
    "from scipy.stats import chi2_contingency\n",
    "\n",
    "def chi_square(col_1, col_2, display=True):\n",
    "    \"\"\"\n",
    "    Calculates the chi-square stats\n",
    "    \n",
    "    parameters:\n",
    "    col1: DataFrame column\n",
    "    col2: DataFrame column\n",
    "    \n",
    "    returns:\n",
    "    chi2: chi-square stat\n",
    "    p: p-value\n",
    "    dof: degrees of freedom\n",
    "    expected: expected frequencies\n",
    "    \n",
    "    \"\"\"\n",
    "    contingency_table = pd.crosstab(col_1, col_2)\n",
    "    chi2, p, dof, expected = chi2_contingency(contingency_table)\n",
    "    contingency_table.reset_index(drop=True, inplace=True)\n",
    "    if display:\n",
    "        print(f\"Chi2 : {chi2}\")\n",
    "        print(f\"p-value : {p}\")\n",
    "        print(f\"Degrees of freedom : {dof}\")\n",
    "        \n",
    "    \n",
    "    return contingency_table, chi2, p, dof, expected"
   ]
  },
  {
   "cell_type": "code",
   "execution_count": 23,
   "id": "3d549403",
   "metadata": {
    "execution": {
     "iopub.execute_input": "2024-10-15T08:52:01.457242Z",
     "iopub.status.busy": "2024-10-15T08:52:01.456614Z",
     "iopub.status.idle": "2024-10-15T08:52:01.524273Z",
     "shell.execute_reply": "2024-10-15T08:52:01.522929Z"
    },
    "papermill": {
     "duration": 0.102068,
     "end_time": "2024-10-15T08:52:01.527667",
     "exception": false,
     "start_time": "2024-10-15T08:52:01.425599",
     "status": "completed"
    },
    "tags": []
   },
   "outputs": [
    {
     "name": "stdout",
     "output_type": "stream",
     "text": [
      "Level of significance: .05\n",
      "\n",
      "Address and StudyTime Chi-square test of Independence\n",
      "Chi2 : 5.159194559457368\n",
      "p-value : 0.16050445310206335\n",
      "Degrees of freedom : 3\n",
      "\n",
      "Romantic and StudyTime Chi-square test of Independence\n",
      "Chi2 : 10.664622810031268\n",
      "p-value : 0.013684756707976984\n",
      "Degrees of freedom : 3\n",
      "\n",
      "Romantic and Activities Chi-square test of Independence\n",
      "Chi2 : 0.08057773757642686\n",
      "p-value : 0.776516000281584\n",
      "Degrees of freedom : 1\n",
      "\n",
      "Paid and Internet Chi-square test of Independence\n",
      "Chi2 : 8.456941510245814\n",
      "p-value : 0.0036365285097773137\n",
      "Degrees of freedom : 1\n",
      "\n",
      "Medu and Paid Chi-square test of Independence\n",
      "Chi2 : 13.827582301676538\n",
      "p-value : 0.00786616838858245\n",
      "Degrees of freedom : 4\n",
      "\n",
      "Fedu and Paid Chi-square test of Independence\n",
      "Chi2 : 5.686558139421179\n",
      "p-value : 0.2238110425669106\n",
      "Degrees of freedom : 4\n"
     ]
    }
   ],
   "source": [
    "print(\"Level of significance: .05\\n\")\n",
    "\n",
    "print(\"Address and StudyTime Chi-square test of Independence\")\n",
    "table1, chi1, p1, dof1, expected1 = chi_square(student_cat.address, student_cat.studytime)\n",
    "\n",
    "print()\n",
    "\n",
    "print(\"Romantic and StudyTime Chi-square test of Independence\")\n",
    "table2, chi2, p2, dof2, expected2 = chi_square(student_cat.romantic, student_cat.studytime)\n",
    "\n",
    "print()\n",
    "\n",
    "print(\"Romantic and Activities Chi-square test of Independence\")\n",
    "table3, chi3, p3, dof3, expected3 = chi_square(student_cat.romantic, student_cat.activities)\n",
    "\n",
    "print()\n",
    "\n",
    "print(\"Paid and Internet Chi-square test of Independence\")\n",
    "table4, chi4, p4, dof4, expected4 = chi_square(student_cat.paid, student_cat.internet)\n",
    "\n",
    "print()\n",
    "\n",
    "print(\"Medu and Paid Chi-square test of Independence\")\n",
    "table5, chi5, p5, dof5, expected5 = chi_square(student_cat.paid, student_cat.Medu)\n",
    "\n",
    "print()\n",
    "\n",
    "print(\"Fedu and Paid Chi-square test of Independence\")\n",
    "table6, chi6, p6, dof6, expected6 = chi_square(student_cat.paid, student_cat.Fedu)\n"
   ]
  },
  {
   "cell_type": "markdown",
   "id": "efac95ff",
   "metadata": {
    "papermill": {
     "duration": 0.030298,
     "end_time": "2024-10-15T08:52:01.589226",
     "exception": false,
     "start_time": "2024-10-15T08:52:01.558928",
     "status": "completed"
    },
    "tags": []
   },
   "source": [
    "### Relationship - Studytime association"
   ]
  },
  {
   "cell_type": "code",
   "execution_count": 24,
   "id": "bee7ab1d",
   "metadata": {
    "execution": {
     "iopub.execute_input": "2024-10-15T08:52:01.651237Z",
     "iopub.status.busy": "2024-10-15T08:52:01.650793Z",
     "iopub.status.idle": "2024-10-15T08:52:01.664498Z",
     "shell.execute_reply": "2024-10-15T08:52:01.663199Z"
    },
    "papermill": {
     "duration": 0.047833,
     "end_time": "2024-10-15T08:52:01.667037",
     "exception": false,
     "start_time": "2024-10-15T08:52:01.619204",
     "status": "completed"
    },
    "tags": []
   },
   "outputs": [
    {
     "data": {
      "text/html": [
       "<div>\n",
       "<style scoped>\n",
       "    .dataframe tbody tr th:only-of-type {\n",
       "        vertical-align: middle;\n",
       "    }\n",
       "\n",
       "    .dataframe tbody tr th {\n",
       "        vertical-align: top;\n",
       "    }\n",
       "\n",
       "    .dataframe thead th {\n",
       "        text-align: right;\n",
       "    }\n",
       "</style>\n",
       "<table border=\"1\" class=\"dataframe\">\n",
       "  <thead>\n",
       "    <tr style=\"text-align: right;\">\n",
       "      <th>studytime</th>\n",
       "      <th>1</th>\n",
       "      <th>2</th>\n",
       "      <th>3</th>\n",
       "      <th>4</th>\n",
       "      <th>total</th>\n",
       "    </tr>\n",
       "  </thead>\n",
       "  <tbody>\n",
       "    <tr>\n",
       "      <th>0</th>\n",
       "      <td>79</td>\n",
       "      <td>126</td>\n",
       "      <td>36</td>\n",
       "      <td>22</td>\n",
       "      <td>263</td>\n",
       "    </tr>\n",
       "    <tr>\n",
       "      <th>1</th>\n",
       "      <td>26</td>\n",
       "      <td>72</td>\n",
       "      <td>29</td>\n",
       "      <td>5</td>\n",
       "      <td>132</td>\n",
       "    </tr>\n",
       "  </tbody>\n",
       "</table>\n",
       "</div>"
      ],
      "text/plain": [
       "studytime   1    2   3   4  total\n",
       "0          79  126  36  22    263\n",
       "1          26   72  29   5    132"
      ]
     },
     "execution_count": 24,
     "metadata": {},
     "output_type": "execute_result"
    }
   ],
   "source": [
    "table2[\"total\"] = table2.iloc[:, :4].sum(axis=1)\n",
    "table2"
   ]
  },
  {
   "cell_type": "markdown",
   "id": "586e50ee",
   "metadata": {
    "papermill": {
     "duration": 0.029624,
     "end_time": "2024-10-15T08:52:01.726999",
     "exception": false,
     "start_time": "2024-10-15T08:52:01.697375",
     "status": "completed"
    },
    "tags": []
   },
   "source": [
    "#### It looks like those in romantic relationship have lesser study time, but let's look at the proportions"
   ]
  },
  {
   "cell_type": "code",
   "execution_count": 25,
   "id": "eb114885",
   "metadata": {
    "execution": {
     "iopub.execute_input": "2024-10-15T08:52:01.790083Z",
     "iopub.status.busy": "2024-10-15T08:52:01.789605Z",
     "iopub.status.idle": "2024-10-15T08:52:01.809432Z",
     "shell.execute_reply": "2024-10-15T08:52:01.808335Z"
    },
    "papermill": {
     "duration": 0.054335,
     "end_time": "2024-10-15T08:52:01.812212",
     "exception": false,
     "start_time": "2024-10-15T08:52:01.757877",
     "status": "completed"
    },
    "tags": []
   },
   "outputs": [
    {
     "data": {
      "text/html": [
       "<div>\n",
       "<style scoped>\n",
       "    .dataframe tbody tr th:only-of-type {\n",
       "        vertical-align: middle;\n",
       "    }\n",
       "\n",
       "    .dataframe tbody tr th {\n",
       "        vertical-align: top;\n",
       "    }\n",
       "\n",
       "    .dataframe thead th {\n",
       "        text-align: right;\n",
       "    }\n",
       "</style>\n",
       "<table border=\"1\" class=\"dataframe\">\n",
       "  <thead>\n",
       "    <tr style=\"text-align: right;\">\n",
       "      <th>studytime</th>\n",
       "      <th>&lt;2hours</th>\n",
       "      <th>2-5hours</th>\n",
       "      <th>5-10hours</th>\n",
       "      <th>&gt;10hours</th>\n",
       "    </tr>\n",
       "  </thead>\n",
       "  <tbody>\n",
       "    <tr>\n",
       "      <th>0</th>\n",
       "      <td>0.3</td>\n",
       "      <td>0.48</td>\n",
       "      <td>0.14</td>\n",
       "      <td>0.08</td>\n",
       "    </tr>\n",
       "    <tr>\n",
       "      <th>1</th>\n",
       "      <td>0.2</td>\n",
       "      <td>0.55</td>\n",
       "      <td>0.22</td>\n",
       "      <td>0.04</td>\n",
       "    </tr>\n",
       "  </tbody>\n",
       "</table>\n",
       "</div>"
      ],
      "text/plain": [
       "studytime  <2hours  2-5hours  5-10hours  >10hours\n",
       "0              0.3      0.48       0.14      0.08\n",
       "1              0.2      0.55       0.22      0.04"
      ]
     },
     "execution_count": 25,
     "metadata": {},
     "output_type": "execute_result"
    }
   ],
   "source": [
    "study_time = [\"<2hours\", \"2-5hours\", \"5-10hours\", \">10hours\"]\n",
    "# Calculating the proportions\n",
    "for i in range(1, 5):\n",
    "    a = str(i)\n",
    "    table2[study_time[i-1]] = round(table2[a]/table2[\"total\"], 2)\n",
    "    \n",
    "table2_prop = table2.iloc[:, 5:].copy()\n",
    "# print(table2_prop)\n",
    "table2_prop"
   ]
  },
  {
   "cell_type": "markdown",
   "id": "84ae2cab",
   "metadata": {
    "papermill": {
     "duration": 0.031898,
     "end_time": "2024-10-15T08:52:01.875241",
     "exception": false,
     "start_time": "2024-10-15T08:52:01.843343",
     "status": "completed"
    },
    "tags": []
   },
   "source": [
    "#### 1) The proportions show that being in a relationship or not doesn't drastically affect student's time allocation for studying \n",
    "#### 2) Most students study 2 to 5 hours a week, regardless of their relationship status\n",
    "#### 3) Few students engage in extensive studying"
   ]
  },
  {
   "cell_type": "code",
   "execution_count": null,
   "id": "f9ac70bf",
   "metadata": {
    "papermill": {
     "duration": 0.030092,
     "end_time": "2024-10-15T08:52:01.936310",
     "exception": false,
     "start_time": "2024-10-15T08:52:01.906218",
     "status": "completed"
    },
    "tags": []
   },
   "outputs": [],
   "source": []
  },
  {
   "cell_type": "code",
   "execution_count": null,
   "id": "83f053ec",
   "metadata": {
    "papermill": {
     "duration": 0.029942,
     "end_time": "2024-10-15T08:52:01.996667",
     "exception": false,
     "start_time": "2024-10-15T08:52:01.966725",
     "status": "completed"
    },
    "tags": []
   },
   "outputs": [],
   "source": []
  },
  {
   "cell_type": "markdown",
   "id": "a36bdb33",
   "metadata": {
    "papermill": {
     "duration": 0.030044,
     "end_time": "2024-10-15T08:52:02.057200",
     "exception": false,
     "start_time": "2024-10-15T08:52:02.027156",
     "status": "completed"
    },
    "tags": []
   },
   "source": [
    "## Independent T test"
   ]
  },
  {
   "cell_type": "code",
   "execution_count": 26,
   "id": "011eed32",
   "metadata": {
    "execution": {
     "iopub.execute_input": "2024-10-15T08:52:02.121092Z",
     "iopub.status.busy": "2024-10-15T08:52:02.120615Z",
     "iopub.status.idle": "2024-10-15T08:52:02.136116Z",
     "shell.execute_reply": "2024-10-15T08:52:02.134870Z"
    },
    "papermill": {
     "duration": 0.051173,
     "end_time": "2024-10-15T08:52:02.138924",
     "exception": false,
     "start_time": "2024-10-15T08:52:02.087751",
     "status": "completed"
    },
    "tags": []
   },
   "outputs": [],
   "source": [
    "from math import sqrt\n",
    "from typing import Dict\n",
    "import pandas as pd\n",
    "from scipy import stats\n",
    "from scipy.stats import ttest_ind\n",
    "\n",
    "\n",
    "def t_test(col1: pd.Series, col2: pd.Series, cl: float = .95) -> Dict[str, float]:\n",
    "    \n",
    "    \"\"\"\n",
    "    Perform an independent two-sample t-test on two numerical pandas Series.\n",
    "    \n",
    "    This function calculates the t-statistic, p-value, and confidence interval \n",
    "    for the difference in means between two groups.\n",
    "\n",
    "    Parameters:\n",
    "    - col1 (pd.Series): The first numerical data series.\n",
    "    - col2 (pd.Series): The second numerical data series.\n",
    "    - cl (float): The confidence level for the test (default is 0.95).\n",
    "\n",
    "    Raises:\n",
    "    - ValueError: If either of the provided columns is not of a numerical type,\n",
    "      or if the confidence level is not between 0 and 1.\n",
    "      \n",
    "    Returns:\n",
    "    - A dictionary containing the t-statistic, p-value, confidence level, and confidence interval.\n",
    "    \"\"\"\n",
    "        \n",
    "    if not pd.api.types.is_numeric_dtype(col1) or not pd.api.types.is_numeric_dtype(col2):\n",
    "        raise ValueError(\"Both columns must be of a numerical type.\")\n",
    "        \n",
    "    if not (0<cl<1):\n",
    "        raise ValueError(\"Confidence interval must be between 0 and 1\")\n",
    "    \n",
    "        \n",
    "    mean_diff = col1.mean() - col2.mean()\n",
    "    t_stat, p_value = ttest_ind(col1, col2) # Independent samples\n",
    "\n",
    "    # Standard deviation with df=1\n",
    "    std1 = col1.std(axis=0, ddof=1)\n",
    "    std2 = col2.std(axis=0, ddof=1)\n",
    "    \n",
    "    # Standard Error\n",
    "    se = sqrt((std1**2/col1.shape[0])+(std2**2/col2.shape[0]))\n",
    "    \n",
    "    # Degrees of Freedom\n",
    "    df = col1.shape[0] + col2.shape[0] - 2 \n",
    "\n",
    "    # Find critical value (t) for 95% confidence level\n",
    "    t_critical = stats.t.ppf(1-(1-cl)/2, df)  # two-tailed test\n",
    "    \n",
    "    # Cohen's d\n",
    "    cd = mean_diff/pd.concat([col1, col2], axis=0).std()\n",
    "    \n",
    "\n",
    "    # Margin of Error\n",
    "    me = t_critical * se\n",
    "\n",
    "    ci = (mean_diff - me, mean_diff + me)\n",
    "    \n",
    "    return {\n",
    "        \"t-statistic\": t_stat,\n",
    "        \"p-value\": p_value,\n",
    "        \"confidence_level\": cl,\n",
    "        \"confidence_interval\": ci,\n",
    "        \"mean_diff\": mean_diff,\n",
    "        \"effect_size\": cd\n",
    "    }\n",
    "    \n",
    "        \n",
    "    "
   ]
  },
  {
   "cell_type": "code",
   "execution_count": 27,
   "id": "e1ae6bf1",
   "metadata": {
    "execution": {
     "iopub.execute_input": "2024-10-15T08:52:02.201501Z",
     "iopub.status.busy": "2024-10-15T08:52:02.201035Z",
     "iopub.status.idle": "2024-10-15T08:52:02.206530Z",
     "shell.execute_reply": "2024-10-15T08:52:02.205310Z"
    },
    "papermill": {
     "duration": 0.040407,
     "end_time": "2024-10-15T08:52:02.209606",
     "exception": false,
     "start_time": "2024-10-15T08:52:02.169199",
     "status": "completed"
    },
    "tags": []
   },
   "outputs": [],
   "source": [
    "alpha = .05"
   ]
  },
  {
   "cell_type": "markdown",
   "id": "dfce9e95",
   "metadata": {
    "papermill": {
     "duration": 0.031953,
     "end_time": "2024-10-15T08:52:02.272974",
     "exception": false,
     "start_time": "2024-10-15T08:52:02.241021",
     "status": "completed"
    },
    "tags": []
   },
   "source": [
    "### Difference in Mean grades between students living in Urban and Rural areas"
   ]
  },
  {
   "cell_type": "markdown",
   "id": "d3bba239",
   "metadata": {
    "papermill": {
     "duration": 0.032474,
     "end_time": "2024-10-15T08:52:02.338351",
     "exception": false,
     "start_time": "2024-10-15T08:52:02.305877",
     "status": "completed"
    },
    "tags": []
   },
   "source": [
    "#### To find out if the difference in address affects the mean grade of students"
   ]
  },
  {
   "cell_type": "code",
   "execution_count": 28,
   "id": "9c99c074",
   "metadata": {
    "execution": {
     "iopub.execute_input": "2024-10-15T08:52:02.402210Z",
     "iopub.status.busy": "2024-10-15T08:52:02.401165Z",
     "iopub.status.idle": "2024-10-15T08:52:02.410211Z",
     "shell.execute_reply": "2024-10-15T08:52:02.409018Z"
    },
    "papermill": {
     "duration": 0.044048,
     "end_time": "2024-10-15T08:52:02.412922",
     "exception": false,
     "start_time": "2024-10-15T08:52:02.368874",
     "status": "completed"
    },
    "tags": []
   },
   "outputs": [
    {
     "data": {
      "text/plain": [
       "array(['U', 'R'], dtype=object)"
      ]
     },
     "execution_count": 28,
     "metadata": {},
     "output_type": "execute_result"
    }
   ],
   "source": [
    "student.address.unique()"
   ]
  },
  {
   "cell_type": "code",
   "execution_count": 29,
   "id": "6509d8ce",
   "metadata": {
    "execution": {
     "iopub.execute_input": "2024-10-15T08:52:02.535553Z",
     "iopub.status.busy": "2024-10-15T08:52:02.535062Z",
     "iopub.status.idle": "2024-10-15T08:52:02.550321Z",
     "shell.execute_reply": "2024-10-15T08:52:02.549035Z"
    },
    "papermill": {
     "duration": 0.108344,
     "end_time": "2024-10-15T08:52:02.552981",
     "exception": false,
     "start_time": "2024-10-15T08:52:02.444637",
     "status": "completed"
    },
    "tags": []
   },
   "outputs": [],
   "source": [
    "urban_grades = student.loc[student[\"address\"]==\"U\", [\"G1\", \"G2\", \"G3\"]]\n",
    "rural_grades = student.loc[student[\"address\"]==\"R\", [\"G1\", \"G2\", \"G3\"]]\n",
    "\n",
    "\n",
    "urban_grades[\"avg\"] = urban_grades[[\"G1\", \"G2\", \"G3\"]].mean(axis=1)\n",
    "rural_grades[\"avg\"] = rural_grades[[\"G1\", \"G2\", \"G3\"]].mean(axis=1)"
   ]
  },
  {
   "cell_type": "code",
   "execution_count": 30,
   "id": "b2644a08",
   "metadata": {
    "execution": {
     "iopub.execute_input": "2024-10-15T08:52:02.617933Z",
     "iopub.status.busy": "2024-10-15T08:52:02.617046Z",
     "iopub.status.idle": "2024-10-15T08:52:02.629291Z",
     "shell.execute_reply": "2024-10-15T08:52:02.627978Z"
    },
    "papermill": {
     "duration": 0.047603,
     "end_time": "2024-10-15T08:52:02.632079",
     "exception": false,
     "start_time": "2024-10-15T08:52:02.584476",
     "status": "completed"
    },
    "tags": []
   },
   "outputs": [
    {
     "name": "stdout",
     "output_type": "stream",
     "text": [
      "Urban Rural mean grade t-test: alpha=.05\n",
      "Mean grade difference: 0.9520284275984618\n",
      "T_stat: 2.139440697385603\n",
      "P value: 0.033015481267113\n"
     ]
    }
   ],
   "source": [
    "t_stat, p_value = ttest_ind(urban_grades[\"avg\"], rural_grades[\"avg\"])\n",
    "print(\"Urban Rural mean grade t-test: alpha=.05\")\n",
    "print(f'Mean grade difference: {urban_grades[\"avg\"].mean() - rural_grades[\"avg\"].mean()}')\n",
    "print(f\"T_stat: {t_stat}\")\n",
    "print(f\"P value: {p_value}\")"
   ]
  },
  {
   "cell_type": "code",
   "execution_count": 31,
   "id": "e4688250",
   "metadata": {
    "execution": {
     "iopub.execute_input": "2024-10-15T08:52:02.697452Z",
     "iopub.status.busy": "2024-10-15T08:52:02.696949Z",
     "iopub.status.idle": "2024-10-15T08:52:02.709560Z",
     "shell.execute_reply": "2024-10-15T08:52:02.708116Z"
    },
    "papermill": {
     "duration": 0.048381,
     "end_time": "2024-10-15T08:52:02.712217",
     "exception": false,
     "start_time": "2024-10-15T08:52:02.663836",
     "status": "completed"
    },
    "tags": []
   },
   "outputs": [
    {
     "name": "stdout",
     "output_type": "stream",
     "text": [
      "{'t-statistic': 2.139440697385603, 'p-value': 0.033015481267113, 'confidence_level': 0.95, 'confidence_interval': (0.0715728232862538, 1.8324840319106699), 'mean_diff': 0.9520284275984618, 'effect_size': 0.25752870789305404}\n"
     ]
    }
   ],
   "source": [
    "address_test = t_test(urban_grades[\"avg\"], rural_grades[\"avg\"])\n",
    "print(address_test)\n"
   ]
  },
  {
   "cell_type": "markdown",
   "id": "6ca3c0b0",
   "metadata": {
    "papermill": {
     "duration": 0.031816,
     "end_time": "2024-10-15T08:52:02.775538",
     "exception": false,
     "start_time": "2024-10-15T08:52:02.743722",
     "status": "completed"
    },
    "tags": []
   },
   "source": [
    "#### The **p-value of 0.03** shows that there is enough evidence that students in urban areas have statistically significant higher grades than those in rural areas. \n",
    "\n",
    "#### However, the confidence interval of mean difference is from .07 to 1.8 on a grading scale of 0 to 20, this suggests that the practical impact of this difference is limited, reinforced by **Cohen's d = .25** meaning that the difference is small. \n",
    "#### Additionally, while address does influence mean grades, its overall effect appears to be modest."
   ]
  },
  {
   "cell_type": "code",
   "execution_count": null,
   "id": "710e1310",
   "metadata": {
    "papermill": {
     "duration": 0.031881,
     "end_time": "2024-10-15T08:52:02.838861",
     "exception": false,
     "start_time": "2024-10-15T08:52:02.806980",
     "status": "completed"
    },
    "tags": []
   },
   "outputs": [],
   "source": []
  },
  {
   "cell_type": "markdown",
   "id": "5b6c6a78",
   "metadata": {
    "papermill": {
     "duration": 0.030866,
     "end_time": "2024-10-15T08:52:02.902932",
     "exception": false,
     "start_time": "2024-10-15T08:52:02.872066",
     "status": "completed"
    },
    "tags": []
   },
   "source": [
    "### Difference in Mean grades between Mousinho da Silveira and Gabriel Pereira schools\n",
    "* #### To find out if the mean grade of a school is statistically significant higher than the other"
   ]
  },
  {
   "cell_type": "code",
   "execution_count": 32,
   "id": "482ba575",
   "metadata": {
    "execution": {
     "iopub.execute_input": "2024-10-15T08:52:02.967092Z",
     "iopub.status.busy": "2024-10-15T08:52:02.966389Z",
     "iopub.status.idle": "2024-10-15T08:52:02.974784Z",
     "shell.execute_reply": "2024-10-15T08:52:02.973529Z"
    },
    "papermill": {
     "duration": 0.043258,
     "end_time": "2024-10-15T08:52:02.977300",
     "exception": false,
     "start_time": "2024-10-15T08:52:02.934042",
     "status": "completed"
    },
    "tags": []
   },
   "outputs": [
    {
     "data": {
      "text/plain": [
       "array(['GP', 'MS'], dtype=object)"
      ]
     },
     "execution_count": 32,
     "metadata": {},
     "output_type": "execute_result"
    }
   ],
   "source": [
    "student.school.unique()"
   ]
  },
  {
   "cell_type": "code",
   "execution_count": 33,
   "id": "d25e3f0a",
   "metadata": {
    "execution": {
     "iopub.execute_input": "2024-10-15T08:52:03.040963Z",
     "iopub.status.busy": "2024-10-15T08:52:03.040523Z",
     "iopub.status.idle": "2024-10-15T08:52:03.061911Z",
     "shell.execute_reply": "2024-10-15T08:52:03.060323Z"
    },
    "papermill": {
     "duration": 0.056697,
     "end_time": "2024-10-15T08:52:03.064883",
     "exception": false,
     "start_time": "2024-10-15T08:52:03.008186",
     "status": "completed"
    },
    "tags": []
   },
   "outputs": [
    {
     "name": "stdout",
     "output_type": "stream",
     "text": [
      "Ms school vs Gp school mean grade t-test: alpha=.05\n",
      "Grade difference: -0.4982143598687756\n",
      "T_stat: -0.858895732254872\n",
      "P value: 0.3909216045891275\n"
     ]
    }
   ],
   "source": [
    "ms_grades = student.loc[student[\"school\"]==\"MS\", [\"G1\", \"G2\", \"G3\"]]\n",
    "gp_grades = student.loc[student[\"school\"]==\"GP\", [\"G1\", \"G2\", \"G3\"]]\n",
    "\n",
    "ms_grades[\"avg\"] = ms_grades[[\"G1\", \"G2\", \"G3\"]].mean(axis=1)\n",
    "gp_grades[\"avg\"] = gp_grades[[\"G1\", \"G2\", \"G3\"]].mean(axis=1)\n",
    "\n",
    "ms_gp_mean_diff = ms_grades[\"avg\"].mean() - gp_grades[\"avg\"].mean()\n",
    "\n",
    "t_stat, p_value = ttest_ind(ms_grades[\"avg\"], gp_grades[\"avg\"])\n",
    "print(\"Ms school vs Gp school mean grade t-test: alpha=.05\")\n",
    "print(f'Grade difference: {ms_gp_mean_diff}')\n",
    "print(f\"T_stat: {t_stat}\")\n",
    "print(f\"P value: {p_value}\")"
   ]
  },
  {
   "cell_type": "code",
   "execution_count": 34,
   "id": "a3754a07",
   "metadata": {
    "execution": {
     "iopub.execute_input": "2024-10-15T08:52:03.130479Z",
     "iopub.status.busy": "2024-10-15T08:52:03.129952Z",
     "iopub.status.idle": "2024-10-15T08:52:03.142509Z",
     "shell.execute_reply": "2024-10-15T08:52:03.140972Z"
    },
    "papermill": {
     "duration": 0.049072,
     "end_time": "2024-10-15T08:52:03.145190",
     "exception": false,
     "start_time": "2024-10-15T08:52:03.096118",
     "status": "completed"
    },
    "tags": []
   },
   "outputs": [
    {
     "name": "stdout",
     "output_type": "stream",
     "text": [
      "{'t-statistic': 0.858895732254872, 'p-value': 0.3909216045891275, 'confidence_level': 0.95, 'confidence_interval': (-0.6009347279947796, 1.5973634477323309), 'mean_diff': 0.4982143598687756, 'effect_size': 0.13476961047731018}\n"
     ]
    }
   ],
   "source": [
    "school_test = t_test(gp_grades[\"avg\"], ms_grades[\"avg\"])\n",
    "print(school_test)"
   ]
  },
  {
   "cell_type": "markdown",
   "id": "10fa0ef8",
   "metadata": {
    "papermill": {
     "duration": 0.031096,
     "end_time": "2024-10-15T08:52:03.207980",
     "exception": false,
     "start_time": "2024-10-15T08:52:03.176884",
     "status": "completed"
    },
    "tags": []
   },
   "source": [
    "#### **Fail to reject the null**: **0.39 p-value** greater than our alpha\n",
    "#### There's **not enough evidence** to suggest a significant difference in mean grades between (Ms - **Mousinho da Silveira**) and (Gp - **Gabriel Pereira**) schools"
   ]
  },
  {
   "cell_type": "markdown",
   "id": "510d425f",
   "metadata": {
    "papermill": {
     "duration": 0.031102,
     "end_time": "2024-10-15T08:52:03.270375",
     "exception": false,
     "start_time": "2024-10-15T08:52:03.239273",
     "status": "completed"
    },
    "tags": []
   },
   "source": [
    "### Difference in mean grade of those in romantic relationship and those who aren't"
   ]
  },
  {
   "cell_type": "code",
   "execution_count": 35,
   "id": "3216f381",
   "metadata": {
    "execution": {
     "iopub.execute_input": "2024-10-15T08:52:03.336294Z",
     "iopub.status.busy": "2024-10-15T08:52:03.335852Z",
     "iopub.status.idle": "2024-10-15T08:52:03.344692Z",
     "shell.execute_reply": "2024-10-15T08:52:03.343403Z"
    },
    "papermill": {
     "duration": 0.044803,
     "end_time": "2024-10-15T08:52:03.347573",
     "exception": false,
     "start_time": "2024-10-15T08:52:03.302770",
     "status": "completed"
    },
    "tags": []
   },
   "outputs": [
    {
     "data": {
      "text/plain": [
       "array(['no', 'yes'], dtype=object)"
      ]
     },
     "execution_count": 35,
     "metadata": {},
     "output_type": "execute_result"
    }
   ],
   "source": [
    "student[\"romantic\"].unique()"
   ]
  },
  {
   "cell_type": "code",
   "execution_count": 36,
   "id": "107f7bf9",
   "metadata": {
    "execution": {
     "iopub.execute_input": "2024-10-15T08:52:03.414357Z",
     "iopub.status.busy": "2024-10-15T08:52:03.413823Z",
     "iopub.status.idle": "2024-10-15T08:52:03.434300Z",
     "shell.execute_reply": "2024-10-15T08:52:03.432947Z"
    },
    "papermill": {
     "duration": 0.056952,
     "end_time": "2024-10-15T08:52:03.437388",
     "exception": false,
     "start_time": "2024-10-15T08:52:03.380436",
     "status": "completed"
    },
    "tags": []
   },
   "outputs": [
    {
     "name": "stdout",
     "output_type": "stream",
     "text": [
      "Mean grade difference of those in romantic relationship and not\n",
      "{'t-statistic': 2.0473968049547433, 'p-value': 0.04128351824358322, 'confidence_level': 0.95, 'confidence_interval': (0.03064386637460259, 1.57754832166549), 'mean_diff': 0.8040960940200463, 'effect_size': 0.2175122318954258}\n"
     ]
    }
   ],
   "source": [
    "romantic = student.loc[student[\"romantic\"]==\"yes\", [\"G1\", \"G2\", \"G3\"]]\n",
    "not_romantic = student.loc[student[\"romantic\"]==\"no\", [\"G1\", \"G2\", \"G3\"]]\n",
    "\n",
    "romantic[\"avg\"] = romantic[[\"G1\", \"G2\", \"G3\"]].mean(axis=1)\n",
    "not_romantic[\"avg\"] = not_romantic[[\"G1\", \"G2\", \"G3\"]].mean(axis=1)\n",
    "\n",
    "romantic_test = t_test(not_romantic[\"avg\"], romantic[\"avg\"])\n",
    "print(\"Mean grade difference of those in romantic relationship and not\")\n",
    "print(romantic_test)"
   ]
  },
  {
   "cell_type": "markdown",
   "id": "66c45d46",
   "metadata": {
    "papermill": {
     "duration": 0.031521,
     "end_time": "2024-10-15T08:52:03.500530",
     "exception": false,
     "start_time": "2024-10-15T08:52:03.469009",
     "status": "completed"
    },
    "tags": []
   },
   "source": [
    "#### A **p-value of 0.04** shows that there's a statistically significant difference in mean grades between student in a relationship and those who aren't.\n",
    "#### With a **confidence level = 95%**, the **confidence interval of the mean difference = (0.03 to 1.57)** and a **mean difference = 0.8**.\n",
    "#### It also has a **Cohen's d = 0.21**\n",
    "#### Based on this findings, we conclude that although being in a relationship or not has an effect to the students' mean grade, the magnitude of this effect is small."
   ]
  },
  {
   "cell_type": "code",
   "execution_count": null,
   "id": "01d2aac4",
   "metadata": {
    "papermill": {
     "duration": 0.031095,
     "end_time": "2024-10-15T08:52:03.563101",
     "exception": false,
     "start_time": "2024-10-15T08:52:03.532006",
     "status": "completed"
    },
    "tags": []
   },
   "outputs": [],
   "source": []
  },
  {
   "cell_type": "markdown",
   "id": "3e196a88",
   "metadata": {
    "papermill": {
     "duration": 0.031519,
     "end_time": "2024-10-15T08:52:03.626129",
     "exception": false,
     "start_time": "2024-10-15T08:52:03.594610",
     "status": "completed"
    },
    "tags": []
   },
   "source": [
    "## ANOVA"
   ]
  },
  {
   "cell_type": "code",
   "execution_count": 37,
   "id": "e95e14d8",
   "metadata": {
    "execution": {
     "iopub.execute_input": "2024-10-15T08:52:03.691424Z",
     "iopub.status.busy": "2024-10-15T08:52:03.690975Z",
     "iopub.status.idle": "2024-10-15T08:52:03.699779Z",
     "shell.execute_reply": "2024-10-15T08:52:03.698651Z"
    },
    "papermill": {
     "duration": 0.044617,
     "end_time": "2024-10-15T08:52:03.702444",
     "exception": false,
     "start_time": "2024-10-15T08:52:03.657827",
     "status": "completed"
    },
    "tags": []
   },
   "outputs": [],
   "source": [
    "def anova(first_group, second_group):\n",
    "    \"\"\"\n",
    "    Perform a one-way ANOVA between two groups of data.\n",
    "\n",
    "    This function calculates the F-statistic and corresponding p-value \n",
    "    for each pair of datasets in the provided groups.\n",
    "\n",
    "    Parameters:\n",
    "    first_group (list): A list of data objects, each containing a dataset \n",
    "                        for the first group.\n",
    "    second_group (list): A list of data objects, each containing a dataset \n",
    "                         for the second group. The length of this list \n",
    "                         should match that of first_group.\n",
    "\n",
    "    Returns:\n",
    "    dict: A dictionary containing:\n",
    "        - \"name\": A list of names corresponding to each dataset in \n",
    "                  first_group.\n",
    "        - \"f_stats\": A list of calculated F-statistics for each dataset pair.\n",
    "        - \"f_p_vals\": A list of p-values associated with each F-statistic.\n",
    "    \n",
    "    Functionality:\n",
    "    The function iterates through the datasets in first_group and \n",
    "    second_group, applying the f_oneway function from the scipy.stats \n",
    "    library to compute the F-statistic and p-value for each pair. \n",
    "    The results are stored in the f_stat_dict, which is returned at \n",
    "    the end.\n",
    "    \"\"\"\n",
    "    \n",
    "    f_stat_dict = {\n",
    "        \"label\": [],\n",
    "        \"f_stats\": [],\n",
    "        \"f_p_vals\": []\n",
    "    }\n",
    "    \n",
    "    \n",
    "    for i in range(len(first_group)):\n",
    "        f_stat, f_p_val  = f_oneway(first_group[i], second_group[i])\n",
    "        f_stat_dict[\"label\"].append(first_group[i].name)\n",
    "        f_stat_dict[\"f_stats\"].append(f_stat)\n",
    "        f_stat_dict[\"f_p_vals\"].append(f_p_val)\n",
    "        \n",
    "    return f_stat_dict"
   ]
  },
  {
   "cell_type": "markdown",
   "id": "a652e43b",
   "metadata": {
    "papermill": {
     "duration": 0.031369,
     "end_time": "2024-10-15T08:52:03.765758",
     "exception": false,
     "start_time": "2024-10-15T08:52:03.734389",
     "status": "completed"
    },
    "tags": []
   },
   "source": [
    "### School vs Grades"
   ]
  },
  {
   "cell_type": "code",
   "execution_count": 38,
   "id": "73859805",
   "metadata": {
    "execution": {
     "iopub.execute_input": "2024-10-15T08:52:03.832303Z",
     "iopub.status.busy": "2024-10-15T08:52:03.830969Z",
     "iopub.status.idle": "2024-10-15T08:52:03.839824Z",
     "shell.execute_reply": "2024-10-15T08:52:03.838455Z"
    },
    "papermill": {
     "duration": 0.044653,
     "end_time": "2024-10-15T08:52:03.842452",
     "exception": false,
     "start_time": "2024-10-15T08:52:03.797799",
     "status": "completed"
    },
    "tags": []
   },
   "outputs": [
    {
     "data": {
      "text/plain": [
       "Index(['school', 'sex', 'age', 'address', 'Medu', 'Fedu', 'studytime',\n",
       "       'activities', 'romantic', 'failures', 'internet', 'paid', 'G1', 'G2',\n",
       "       'G3'],\n",
       "      dtype='object')"
      ]
     },
     "execution_count": 38,
     "metadata": {},
     "output_type": "execute_result"
    }
   ],
   "source": [
    "student.columns"
   ]
  },
  {
   "cell_type": "code",
   "execution_count": 39,
   "id": "c7b69702",
   "metadata": {
    "execution": {
     "iopub.execute_input": "2024-10-15T08:52:03.911787Z",
     "iopub.status.busy": "2024-10-15T08:52:03.910815Z",
     "iopub.status.idle": "2024-10-15T08:52:03.916142Z",
     "shell.execute_reply": "2024-10-15T08:52:03.914974Z"
    },
    "papermill": {
     "duration": 0.041093,
     "end_time": "2024-10-15T08:52:03.918711",
     "exception": false,
     "start_time": "2024-10-15T08:52:03.877618",
     "status": "completed"
    },
    "tags": []
   },
   "outputs": [],
   "source": [
    "from scipy.stats import f_oneway"
   ]
  },
  {
   "cell_type": "code",
   "execution_count": 40,
   "id": "c153989b",
   "metadata": {
    "execution": {
     "iopub.execute_input": "2024-10-15T08:52:03.983553Z",
     "iopub.status.busy": "2024-10-15T08:52:03.982957Z",
     "iopub.status.idle": "2024-10-15T08:52:04.002553Z",
     "shell.execute_reply": "2024-10-15T08:52:04.001276Z"
    },
    "papermill": {
     "duration": 0.054949,
     "end_time": "2024-10-15T08:52:04.005190",
     "exception": false,
     "start_time": "2024-10-15T08:52:03.950241",
     "status": "completed"
    },
    "tags": []
   },
   "outputs": [
    {
     "data": {
      "text/html": [
       "<div>\n",
       "<style scoped>\n",
       "    .dataframe tbody tr th:only-of-type {\n",
       "        vertical-align: middle;\n",
       "    }\n",
       "\n",
       "    .dataframe tbody tr th {\n",
       "        vertical-align: top;\n",
       "    }\n",
       "\n",
       "    .dataframe thead th {\n",
       "        text-align: right;\n",
       "    }\n",
       "</style>\n",
       "<table border=\"1\" class=\"dataframe\">\n",
       "  <thead>\n",
       "    <tr style=\"text-align: right;\">\n",
       "      <th></th>\n",
       "      <th>label</th>\n",
       "      <th>f_stats</th>\n",
       "      <th>f_p_vals</th>\n",
       "    </tr>\n",
       "  </thead>\n",
       "  <tbody>\n",
       "    <tr>\n",
       "      <th>0</th>\n",
       "      <td>G1</td>\n",
       "      <td>0.260370</td>\n",
       "      <td>0.610153</td>\n",
       "    </tr>\n",
       "    <tr>\n",
       "      <th>1</th>\n",
       "      <td>G2</td>\n",
       "      <td>0.988345</td>\n",
       "      <td>0.320759</td>\n",
       "    </tr>\n",
       "    <tr>\n",
       "      <th>2</th>\n",
       "      <td>G3</td>\n",
       "      <td>0.798042</td>\n",
       "      <td>0.372226</td>\n",
       "    </tr>\n",
       "    <tr>\n",
       "      <th>3</th>\n",
       "      <td>avg</td>\n",
       "      <td>0.737702</td>\n",
       "      <td>0.390922</td>\n",
       "    </tr>\n",
       "  </tbody>\n",
       "</table>\n",
       "</div>"
      ],
      "text/plain": [
       "  label   f_stats  f_p_vals\n",
       "0    G1  0.260370  0.610153\n",
       "1    G2  0.988345  0.320759\n",
       "2    G3  0.798042  0.372226\n",
       "3   avg  0.737702  0.390922"
      ]
     },
     "execution_count": 40,
     "metadata": {},
     "output_type": "execute_result"
    }
   ],
   "source": [
    "gp_vals = [gp_grades[\"G1\"], gp_grades[\"G2\"], gp_grades[\"G3\"], gp_grades[\"avg\"]]\n",
    "\n",
    "ms_vals = [ms_grades[\"G1\"], ms_grades[\"G2\"], ms_grades[\"G3\"], ms_grades[\"avg\"]]\n",
    "\n",
    "\n",
    "school_grades = pd.DataFrame(anova(gp_vals, ms_vals))\n",
    "school_grades"
   ]
  },
  {
   "cell_type": "markdown",
   "id": "467cff3d",
   "metadata": {
    "papermill": {
     "duration": 0.031465,
     "end_time": "2024-10-15T08:52:04.068522",
     "exception": false,
     "start_time": "2024-10-15T08:52:04.037057",
     "status": "completed"
    },
    "tags": []
   },
   "source": [
    "#### There is no statistically significant difference in mean grades when comparing the two schools.\n",
    "#### Each school's (G1, G2, G3) also shows no significant differences in mean grades based on the individual ANOVAs."
   ]
  },
  {
   "cell_type": "markdown",
   "id": "cc2bed57",
   "metadata": {
    "papermill": {
     "duration": 0.03188,
     "end_time": "2024-10-15T08:52:04.132282",
     "exception": false,
     "start_time": "2024-10-15T08:52:04.100402",
     "status": "completed"
    },
    "tags": []
   },
   "source": [
    "### Romantic vs Grades"
   ]
  },
  {
   "cell_type": "raw",
   "id": "b45b8d3b",
   "metadata": {
    "execution": {
     "iopub.execute_input": "2024-10-14T03:32:13.626102Z",
     "iopub.status.busy": "2024-10-14T03:32:13.625644Z",
     "iopub.status.idle": "2024-10-14T03:32:13.634230Z",
     "shell.execute_reply": "2024-10-14T03:32:13.632681Z",
     "shell.execute_reply.started": "2024-10-14T03:32:13.626060Z"
    },
    "papermill": {
     "duration": 0.03122,
     "end_time": "2024-10-15T08:52:04.195372",
     "exception": false,
     "start_time": "2024-10-15T08:52:04.164152",
     "status": "completed"
    },
    "tags": []
   },
   "source": []
  },
  {
   "cell_type": "markdown",
   "id": "cdb29e96",
   "metadata": {
    "papermill": {
     "duration": 0.031331,
     "end_time": "2024-10-15T08:52:04.258440",
     "exception": false,
     "start_time": "2024-10-15T08:52:04.227109",
     "status": "completed"
    },
    "tags": []
   },
   "source": [
    "## Correlation Analysis"
   ]
  },
  {
   "cell_type": "code",
   "execution_count": 41,
   "id": "2b37b9cb",
   "metadata": {
    "execution": {
     "iopub.execute_input": "2024-10-15T08:52:04.324219Z",
     "iopub.status.busy": "2024-10-15T08:52:04.323176Z",
     "iopub.status.idle": "2024-10-15T08:52:05.118539Z",
     "shell.execute_reply": "2024-10-15T08:52:05.117238Z"
    },
    "papermill": {
     "duration": 0.831593,
     "end_time": "2024-10-15T08:52:05.121644",
     "exception": false,
     "start_time": "2024-10-15T08:52:04.290051",
     "status": "completed"
    },
    "tags": []
   },
   "outputs": [
    {
     "data": {
      "image/png": "[encoded data removed]",
      "text/plain": [
       "<Figure size 2000x500 with 3 Axes>"
      ]
     },
     "metadata": {},
     "output_type": "display_data"
    }
   ],
   "source": [
    "\n",
    "\n",
    "fig, ax = plt.subplots(1, 3, figsize=(20, 5))\n",
    "\n",
    "ax[0].scatter(x=gp_grades[\"G1\"], y=gp_grades[\"G2\"])\n",
    "ax[0].set_title(f'{gp_grades[\"G1\"].name} vs {gp_grades[\"G2\"].name}')\n",
    "ax[0].set_xlabel(gp_grades[\"G1\"].name)\n",
    "ax[0].set_ylabel(gp_grades[\"G2\"].name)\n",
    "\n",
    "ax[1].scatter(x=gp_grades[\"G1\"], y=gp_grades[\"G3\"])\n",
    "ax[1].set_title(f'{gp_grades[\"G1\"].name} vs {gp_grades[\"G3\"].name}')\n",
    "ax[1].set_xlabel(gp_grades[\"G1\"].name)\n",
    "ax[1].set_ylabel(gp_grades[\"G3\"].name)\n",
    "\n",
    "\n",
    "ax[2].scatter(x=gp_grades[\"G2\"], y=gp_grades[\"G3\"])\n",
    "ax[2].set_title(f'{gp_grades[\"G2\"].name} vs {gp_grades[\"G3\"].name}')\n",
    "ax[2].set_xlabel(gp_grades[\"G2\"].name)\n",
    "ax[2].set_ylabel(gp_grades[\"G3\"].name)\n",
    "\n",
    "\n",
    "plt.legend()\n",
    "plt.show()"
   ]
  },
  {
   "cell_type": "code",
   "execution_count": 42,
   "id": "8f969300",
   "metadata": {
    "execution": {
     "iopub.execute_input": "2024-10-15T08:52:05.191696Z",
     "iopub.status.busy": "2024-10-15T08:52:05.191227Z",
     "iopub.status.idle": "2024-10-15T08:52:06.426860Z",
     "shell.execute_reply": "2024-10-15T08:52:06.425643Z"
    },
    "papermill": {
     "duration": 1.273005,
     "end_time": "2024-10-15T08:52:06.429657",
     "exception": false,
     "start_time": "2024-10-15T08:52:05.156652",
     "status": "completed"
    },
    "tags": []
   },
   "outputs": [
    {
     "data": {
      "image/png": "[encoded data removed]",
      "text/plain": [
       "<Figure size 640x480 with 2 Axes>"
      ]
     },
     "metadata": {},
     "output_type": "display_data"
    },
    {
     "data": {
      "image/png": "[encoded data removed]",
      "text/plain": [
       "<Figure size 640x480 with 2 Axes>"
      ]
     },
     "metadata": {},
     "output_type": "display_data"
    }
   ],
   "source": [
    "import seaborn as sns\n",
    "\n",
    "sns.heatmap(gp_grades.iloc[:, :-1].corr(), annot=True)\n",
    "plt.title(\"GP Grades Correlation\")\n",
    "plt.show()\n",
    "\n",
    "sns.heatmap(ms_grades.iloc[:, :-1].corr(), annot=True)\n",
    "plt.title(\"MS Grades Correlation\")\n",
    "plt.show()\n",
    "\n",
    "    "
   ]
  },
  {
   "cell_type": "markdown",
   "id": "046fda3a",
   "metadata": {
    "papermill": {
     "duration": 0.033587,
     "end_time": "2024-10-15T08:52:06.497487",
     "exception": false,
     "start_time": "2024-10-15T08:52:06.463900",
     "status": "completed"
    },
    "tags": []
   },
   "source": [
    "#### This shows that grades have strong positive correlation with each other"
   ]
  },
  {
   "cell_type": "code",
   "execution_count": null,
   "id": "42b8096a",
   "metadata": {
    "papermill": {
     "duration": 0.033531,
     "end_time": "2024-10-15T08:52:06.564712",
     "exception": false,
     "start_time": "2024-10-15T08:52:06.531181",
     "status": "completed"
    },
    "tags": []
   },
   "outputs": [],
   "source": []
  },
  {
   "cell_type": "markdown",
   "id": "683e18e6",
   "metadata": {
    "papermill": {
     "duration": 0.033434,
     "end_time": "2024-10-15T08:52:06.632169",
     "exception": false,
     "start_time": "2024-10-15T08:52:06.598735",
     "status": "completed"
    },
    "tags": []
   },
   "source": [
    "## Linear Regression"
   ]
  },
  {
   "cell_type": "markdown",
   "id": "20b186cd",
   "metadata": {
    "papermill": {
     "duration": 0.033473,
     "end_time": "2024-10-15T08:52:06.699332",
     "exception": false,
     "start_time": "2024-10-15T08:52:06.665859",
     "status": "completed"
    },
    "tags": []
   },
   "source": [
    "#### Let's try linear regression to measure the weight of grades to predict average grade"
   ]
  },
  {
   "cell_type": "code",
   "execution_count": null,
   "id": "59e5c8c3",
   "metadata": {
    "papermill": {
     "duration": 0.033233,
     "end_time": "2024-10-15T08:52:06.766187",
     "exception": false,
     "start_time": "2024-10-15T08:52:06.732954",
     "status": "completed"
    },
    "tags": []
   },
   "outputs": [],
   "source": []
  },
  {
   "cell_type": "code",
   "execution_count": null,
   "id": "d3e6eb19",
   "metadata": {
    "papermill": {
     "duration": 0.034103,
     "end_time": "2024-10-15T08:52:06.834538",
     "exception": false,
     "start_time": "2024-10-15T08:52:06.800435",
     "status": "completed"
    },
    "tags": []
   },
   "outputs": [],
   "source": []
  }
 ],
 "metadata": {
  "kaggle": {
   "accelerator": "none",
   "dataSources": [
    {
     "datasetId": 2213802,
     "sourceId": 3700232,
     "sourceType": "datasetVersion"
    }
   ],
   "dockerImageVersionId": 30786,
   "isGpuEnabled": false,
   "isInternetEnabled": false,
   "language": "python",
   "sourceType": "notebook"
  },
  "kernelspec": {
   "display_name": "Python 3",
   "language": "python",
   "name": "python3"
  },
  "language_info": {
   "codemirror_mode": {
    "name": "ipython",
    "version": 3
   },
   "file_extension": ".py",
   "mimetype": "text/x-python",
   "name": "python",
   "nbconvert_exporter": "python",
   "pygments_lexer": "ipython3",
   "version": "3.10.14"
  },
  "papermill": {
   "default_parameters": {},
   "duration": 18.06472,
   "end_time": "2024-10-15T08:52:07.592719",
   "environment_variables": {},
   "exception": null,
   "input_path": "__notebook__.ipynb",
   "output_path": "__notebook__.ipynb",
   "parameters": {},
   "start_time": "2024-10-15T08:51:49.527999",
   "version": "2.6.0"
  }
 },
 "nbformat": 4,
 "nbformat_minor": 5
}
