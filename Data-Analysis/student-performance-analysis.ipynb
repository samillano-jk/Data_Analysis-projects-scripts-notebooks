{
 "cells": [
  {
   "cell_type": "code",
   "execution_count": 1,
   "id": "ce04aceb",
   "metadata": {
    "_cell_guid": "b1076dfc-b9ad-4769-8c92-a6c4dae69d19",
    "_uuid": "8f2839f25d086af736a60e9eeb907d3b93b6e0e5",
    "execution": {
     "iopub.execute_input": "2024-10-10T01:56:18.196559Z",
     "iopub.status.busy": "2024-10-10T01:56:18.196113Z",
     "iopub.status.idle": "2024-10-10T01:56:20.073229Z",
     "shell.execute_reply": "2024-10-10T01:56:20.072076Z"
    },
    "papermill": {
     "duration": 1.889052,
     "end_time": "2024-10-10T01:56:20.075970",
     "exception": false,
     "start_time": "2024-10-10T01:56:18.186918",
     "status": "completed"
    },
    "tags": []
   },
   "outputs": [
    {
     "name": "stdout",
     "output_type": "stream",
     "text": [
      "/kaggle/input/student-performance-data/student_data.csv\n"
     ]
    }
   ],
   "source": [
    "# This Python 3 environment comes with many helpful analytics libraries installed\n",
    "# It is defined by the kaggle/python Docker image: https://github.com/kaggle/docker-python\n",
    "# For example, here's several helpful packages to load\n",
    "\n",
    "import numpy as np # linear algebra\n",
    "import pandas as pd # data processing, CSV file I/O (e.g. pd.read_csv)\n",
    "from scipy import stats\n",
    "import matplotlib.pyplot as plt\n",
    "\n",
    "# Input data files are available in the read-only \"../input/\" directory\n",
    "# For example, running this (by clicking run or pressing Shift+Enter) will list all files under the input directory\n",
    "\n",
    "import os\n",
    "for dirname, _, filenames in os.walk('/kaggle/input'):\n",
    "    for filename in filenames:\n",
    "        print(os.path.join(dirname, filename))\n",
    "\n",
    "# You can write up to 20GB to the current directory (/kaggle/working/) that gets preserved as output when you create a version using \"Save & Run All\" \n",
    "# You can also write temporary files to /kaggle/temp/, but they won't be saved outside of the current session"
   ]
  },
  {
   "cell_type": "code",
   "execution_count": 2,
   "id": "3e4fd351",
   "metadata": {
    "execution": {
     "iopub.execute_input": "2024-10-10T01:56:20.092073Z",
     "iopub.status.busy": "2024-10-10T01:56:20.091147Z",
     "iopub.status.idle": "2024-10-10T01:56:20.109732Z",
     "shell.execute_reply": "2024-10-10T01:56:20.108600Z"
    },
    "papermill": {
     "duration": 0.02905,
     "end_time": "2024-10-10T01:56:20.112380",
     "exception": false,
     "start_time": "2024-10-10T01:56:20.083330",
     "status": "completed"
    },
    "tags": []
   },
   "outputs": [],
   "source": [
    "df = pd.read_csv(\"/kaggle/input/student-performance-data/student_data.csv\")\n",
    "\n",
    "link = \"https://platform.stratascratch.com/data-projects/student-performance-analysis\""
   ]
  },
  {
   "cell_type": "code",
   "execution_count": 3,
   "id": "b8845174",
   "metadata": {
    "execution": {
     "iopub.execute_input": "2024-10-10T01:56:20.128299Z",
     "iopub.status.busy": "2024-10-10T01:56:20.127439Z",
     "iopub.status.idle": "2024-10-10T01:56:20.157574Z",
     "shell.execute_reply": "2024-10-10T01:56:20.156488Z"
    },
    "papermill": {
     "duration": 0.040444,
     "end_time": "2024-10-10T01:56:20.159775",
     "exception": false,
     "start_time": "2024-10-10T01:56:20.119331",
     "status": "completed"
    },
    "tags": []
   },
   "outputs": [
    {
     "data": {
      "text/html": [
       "<div>\n",
       "<style scoped>\n",
       "    .dataframe tbody tr th:only-of-type {\n",
       "        vertical-align: middle;\n",
       "    }\n",
       "\n",
       "    .dataframe tbody tr th {\n",
       "        vertical-align: top;\n",
       "    }\n",
       "\n",
       "    .dataframe thead th {\n",
       "        text-align: right;\n",
       "    }\n",
       "</style>\n",
       "<table border=\"1\" class=\"dataframe\">\n",
       "  <thead>\n",
       "    <tr style=\"text-align: right;\">\n",
       "      <th></th>\n",
       "      <th>school</th>\n",
       "      <th>sex</th>\n",
       "      <th>age</th>\n",
       "      <th>address</th>\n",
       "      <th>famsize</th>\n",
       "      <th>Pstatus</th>\n",
       "      <th>Medu</th>\n",
       "      <th>Fedu</th>\n",
       "      <th>Mjob</th>\n",
       "      <th>Fjob</th>\n",
       "      <th>...</th>\n",
       "      <th>famrel</th>\n",
       "      <th>freetime</th>\n",
       "      <th>goout</th>\n",
       "      <th>Dalc</th>\n",
       "      <th>Walc</th>\n",
       "      <th>health</th>\n",
       "      <th>absences</th>\n",
       "      <th>G1</th>\n",
       "      <th>G2</th>\n",
       "      <th>G3</th>\n",
       "    </tr>\n",
       "  </thead>\n",
       "  <tbody>\n",
       "    <tr>\n",
       "      <th>0</th>\n",
       "      <td>GP</td>\n",
       "      <td>F</td>\n",
       "      <td>18</td>\n",
       "      <td>U</td>\n",
       "      <td>GT3</td>\n",
       "      <td>A</td>\n",
       "      <td>4</td>\n",
       "      <td>4</td>\n",
       "      <td>at_home</td>\n",
       "      <td>teacher</td>\n",
       "      <td>...</td>\n",
       "      <td>4</td>\n",
       "      <td>3</td>\n",
       "      <td>4</td>\n",
       "      <td>1</td>\n",
       "      <td>1</td>\n",
       "      <td>3</td>\n",
       "      <td>6</td>\n",
       "      <td>5</td>\n",
       "      <td>6</td>\n",
       "      <td>6</td>\n",
       "    </tr>\n",
       "    <tr>\n",
       "      <th>1</th>\n",
       "      <td>GP</td>\n",
       "      <td>F</td>\n",
       "      <td>17</td>\n",
       "      <td>U</td>\n",
       "      <td>GT3</td>\n",
       "      <td>T</td>\n",
       "      <td>1</td>\n",
       "      <td>1</td>\n",
       "      <td>at_home</td>\n",
       "      <td>other</td>\n",
       "      <td>...</td>\n",
       "      <td>5</td>\n",
       "      <td>3</td>\n",
       "      <td>3</td>\n",
       "      <td>1</td>\n",
       "      <td>1</td>\n",
       "      <td>3</td>\n",
       "      <td>4</td>\n",
       "      <td>5</td>\n",
       "      <td>5</td>\n",
       "      <td>6</td>\n",
       "    </tr>\n",
       "    <tr>\n",
       "      <th>2</th>\n",
       "      <td>GP</td>\n",
       "      <td>F</td>\n",
       "      <td>15</td>\n",
       "      <td>U</td>\n",
       "      <td>LE3</td>\n",
       "      <td>T</td>\n",
       "      <td>1</td>\n",
       "      <td>1</td>\n",
       "      <td>at_home</td>\n",
       "      <td>other</td>\n",
       "      <td>...</td>\n",
       "      <td>4</td>\n",
       "      <td>3</td>\n",
       "      <td>2</td>\n",
       "      <td>2</td>\n",
       "      <td>3</td>\n",
       "      <td>3</td>\n",
       "      <td>10</td>\n",
       "      <td>7</td>\n",
       "      <td>8</td>\n",
       "      <td>10</td>\n",
       "    </tr>\n",
       "    <tr>\n",
       "      <th>3</th>\n",
       "      <td>GP</td>\n",
       "      <td>F</td>\n",
       "      <td>15</td>\n",
       "      <td>U</td>\n",
       "      <td>GT3</td>\n",
       "      <td>T</td>\n",
       "      <td>4</td>\n",
       "      <td>2</td>\n",
       "      <td>health</td>\n",
       "      <td>services</td>\n",
       "      <td>...</td>\n",
       "      <td>3</td>\n",
       "      <td>2</td>\n",
       "      <td>2</td>\n",
       "      <td>1</td>\n",
       "      <td>1</td>\n",
       "      <td>5</td>\n",
       "      <td>2</td>\n",
       "      <td>15</td>\n",
       "      <td>14</td>\n",
       "      <td>15</td>\n",
       "    </tr>\n",
       "    <tr>\n",
       "      <th>4</th>\n",
       "      <td>GP</td>\n",
       "      <td>F</td>\n",
       "      <td>16</td>\n",
       "      <td>U</td>\n",
       "      <td>GT3</td>\n",
       "      <td>T</td>\n",
       "      <td>3</td>\n",
       "      <td>3</td>\n",
       "      <td>other</td>\n",
       "      <td>other</td>\n",
       "      <td>...</td>\n",
       "      <td>4</td>\n",
       "      <td>3</td>\n",
       "      <td>2</td>\n",
       "      <td>1</td>\n",
       "      <td>2</td>\n",
       "      <td>5</td>\n",
       "      <td>4</td>\n",
       "      <td>6</td>\n",
       "      <td>10</td>\n",
       "      <td>10</td>\n",
       "    </tr>\n",
       "  </tbody>\n",
       "</table>\n",
       "<p>5 rows × 33 columns</p>\n",
       "</div>"
      ],
      "text/plain": [
       "  school sex  age address famsize Pstatus  Medu  Fedu     Mjob      Fjob  ...  \\\n",
       "0     GP   F   18       U     GT3       A     4     4  at_home   teacher  ...   \n",
       "1     GP   F   17       U     GT3       T     1     1  at_home     other  ...   \n",
       "2     GP   F   15       U     LE3       T     1     1  at_home     other  ...   \n",
       "3     GP   F   15       U     GT3       T     4     2   health  services  ...   \n",
       "4     GP   F   16       U     GT3       T     3     3    other     other  ...   \n",
       "\n",
       "  famrel freetime  goout  Dalc  Walc health absences  G1  G2  G3  \n",
       "0      4        3      4     1     1      3        6   5   6   6  \n",
       "1      5        3      3     1     1      3        4   5   5   6  \n",
       "2      4        3      2     2     3      3       10   7   8  10  \n",
       "3      3        2      2     1     1      5        2  15  14  15  \n",
       "4      4        3      2     1     2      5        4   6  10  10  \n",
       "\n",
       "[5 rows x 33 columns]"
      ]
     },
     "execution_count": 3,
     "metadata": {},
     "output_type": "execute_result"
    }
   ],
   "source": [
    "df.head()"
   ]
  },
  {
   "cell_type": "markdown",
   "id": "02733531",
   "metadata": {
    "papermill": {
     "duration": 0.006768,
     "end_time": "2024-10-10T01:56:20.173703",
     "exception": false,
     "start_time": "2024-10-10T01:56:20.166935",
     "status": "completed"
    },
    "tags": []
   },
   "source": [
    "# Features to analyze:\n",
    "1 school - student's school (binary: 'GP' - Gabriel Pereira or 'MS' - Mousinho da Silveira) <br>\n",
    "2 sex - student's sex (binary: 'F' - female or 'M' - male) <br>\n",
    "3 age - student's age (numeric: from 15 to 22) <br>\n",
    "4 address - student's home address type (binary: 'U' - urban or 'R' - rural) <br>\n",
    "5 Medu - mother's education (numeric: 0 - none,  1 - primary education (4th grade), 2 - 5th to 9th grade, 3 - secondary education or 4 - higher education) <br>\n",
    "6 Fedu - father's education (numeric: 0 - none,  1 - primary education (4th grade), 2 - 5th to 9th grade, 3 - secondary education or 4 - higher education) <br>\n",
    "7 studytime - weekly study time (numeric: 1 - <2 hours, 2 - 2 to 5 hours, 3 - 5 to 10 hours, or 4 - >10 hours) <br>\n",
    "8 failures - number of past class failures (numeric: n if 1<=n<3, else 4) <br>\n",
    "\n",
    "These grades are related with the course subject, Math or Portuguese: <br>\n",
    "9 G1 - first period grade (numeric: from 0 to 20) <br>\n",
    "10 G2 - second period grade (numeric: from 0 to 20) <br>\n",
    "11 G3 - final grade (numeric: from 0 to 20, output target) <br>\n",
    "\n",
    "Data description from UCI: https://archive.ics.uci.edu/dataset/320/student+performance"
   ]
  },
  {
   "cell_type": "code",
   "execution_count": 4,
   "id": "e8e0f13e",
   "metadata": {
    "execution": {
     "iopub.execute_input": "2024-10-10T01:56:20.191661Z",
     "iopub.status.busy": "2024-10-10T01:56:20.190854Z",
     "iopub.status.idle": "2024-10-10T01:56:20.197691Z",
     "shell.execute_reply": "2024-10-10T01:56:20.196787Z"
    },
    "papermill": {
     "duration": 0.018318,
     "end_time": "2024-10-10T01:56:20.199887",
     "exception": false,
     "start_time": "2024-10-10T01:56:20.181569",
     "status": "completed"
    },
    "tags": []
   },
   "outputs": [
    {
     "data": {
      "text/plain": [
       "Index(['school', 'sex', 'age', 'address', 'famsize', 'Pstatus', 'Medu', 'Fedu',\n",
       "       'Mjob', 'Fjob', 'reason', 'guardian', 'traveltime', 'studytime',\n",
       "       'failures', 'schoolsup', 'famsup', 'paid', 'activities', 'nursery',\n",
       "       'higher', 'internet', 'romantic', 'famrel', 'freetime', 'goout', 'Dalc',\n",
       "       'Walc', 'health', 'absences', 'G1', 'G2', 'G3'],\n",
       "      dtype='object')"
      ]
     },
     "execution_count": 4,
     "metadata": {},
     "output_type": "execute_result"
    }
   ],
   "source": [
    "df.columns"
   ]
  },
  {
   "cell_type": "code",
   "execution_count": 5,
   "id": "b259f35b",
   "metadata": {
    "execution": {
     "iopub.execute_input": "2024-10-10T01:56:20.216184Z",
     "iopub.status.busy": "2024-10-10T01:56:20.215790Z",
     "iopub.status.idle": "2024-10-10T01:56:20.222546Z",
     "shell.execute_reply": "2024-10-10T01:56:20.221583Z"
    },
    "papermill": {
     "duration": 0.017159,
     "end_time": "2024-10-10T01:56:20.224544",
     "exception": false,
     "start_time": "2024-10-10T01:56:20.207385",
     "status": "completed"
    },
    "tags": []
   },
   "outputs": [
    {
     "data": {
      "text/plain": [
       "(395, 33)"
      ]
     },
     "execution_count": 5,
     "metadata": {},
     "output_type": "execute_result"
    }
   ],
   "source": [
    "df.shape"
   ]
  },
  {
   "cell_type": "code",
   "execution_count": 6,
   "id": "3880ffa6",
   "metadata": {
    "execution": {
     "iopub.execute_input": "2024-10-10T01:56:20.241378Z",
     "iopub.status.busy": "2024-10-10T01:56:20.240405Z",
     "iopub.status.idle": "2024-10-10T01:56:20.245884Z",
     "shell.execute_reply": "2024-10-10T01:56:20.244798Z"
    },
    "papermill": {
     "duration": 0.016132,
     "end_time": "2024-10-10T01:56:20.248013",
     "exception": false,
     "start_time": "2024-10-10T01:56:20.231881",
     "status": "completed"
    },
    "tags": []
   },
   "outputs": [],
   "source": [
    "data = [\"school\", \"sex\", \"age\", \"address\", \"Medu\", \"Fedu\", \"studytime\", \"activities\", \"romantic\", \"failures\", \"internet\", \"paid\", \"G1\", \"G2\", \"G3\"]"
   ]
  },
  {
   "cell_type": "code",
   "execution_count": 7,
   "id": "366bacbb",
   "metadata": {
    "execution": {
     "iopub.execute_input": "2024-10-10T01:56:20.264788Z",
     "iopub.status.busy": "2024-10-10T01:56:20.264045Z",
     "iopub.status.idle": "2024-10-10T01:56:20.280216Z",
     "shell.execute_reply": "2024-10-10T01:56:20.279225Z"
    },
    "papermill": {
     "duration": 0.026816,
     "end_time": "2024-10-10T01:56:20.282306",
     "exception": false,
     "start_time": "2024-10-10T01:56:20.255490",
     "status": "completed"
    },
    "tags": []
   },
   "outputs": [
    {
     "data": {
      "text/html": [
       "<div>\n",
       "<style scoped>\n",
       "    .dataframe tbody tr th:only-of-type {\n",
       "        vertical-align: middle;\n",
       "    }\n",
       "\n",
       "    .dataframe tbody tr th {\n",
       "        vertical-align: top;\n",
       "    }\n",
       "\n",
       "    .dataframe thead th {\n",
       "        text-align: right;\n",
       "    }\n",
       "</style>\n",
       "<table border=\"1\" class=\"dataframe\">\n",
       "  <thead>\n",
       "    <tr style=\"text-align: right;\">\n",
       "      <th></th>\n",
       "      <th>school</th>\n",
       "      <th>sex</th>\n",
       "      <th>age</th>\n",
       "      <th>address</th>\n",
       "      <th>Medu</th>\n",
       "      <th>Fedu</th>\n",
       "      <th>studytime</th>\n",
       "      <th>activities</th>\n",
       "      <th>romantic</th>\n",
       "      <th>failures</th>\n",
       "      <th>internet</th>\n",
       "      <th>paid</th>\n",
       "      <th>G1</th>\n",
       "      <th>G2</th>\n",
       "      <th>G3</th>\n",
       "    </tr>\n",
       "  </thead>\n",
       "  <tbody>\n",
       "    <tr>\n",
       "      <th>0</th>\n",
       "      <td>GP</td>\n",
       "      <td>F</td>\n",
       "      <td>18</td>\n",
       "      <td>U</td>\n",
       "      <td>4</td>\n",
       "      <td>4</td>\n",
       "      <td>2</td>\n",
       "      <td>no</td>\n",
       "      <td>no</td>\n",
       "      <td>0</td>\n",
       "      <td>no</td>\n",
       "      <td>no</td>\n",
       "      <td>5</td>\n",
       "      <td>6</td>\n",
       "      <td>6</td>\n",
       "    </tr>\n",
       "    <tr>\n",
       "      <th>1</th>\n",
       "      <td>GP</td>\n",
       "      <td>F</td>\n",
       "      <td>17</td>\n",
       "      <td>U</td>\n",
       "      <td>1</td>\n",
       "      <td>1</td>\n",
       "      <td>2</td>\n",
       "      <td>no</td>\n",
       "      <td>no</td>\n",
       "      <td>0</td>\n",
       "      <td>yes</td>\n",
       "      <td>no</td>\n",
       "      <td>5</td>\n",
       "      <td>5</td>\n",
       "      <td>6</td>\n",
       "    </tr>\n",
       "    <tr>\n",
       "      <th>2</th>\n",
       "      <td>GP</td>\n",
       "      <td>F</td>\n",
       "      <td>15</td>\n",
       "      <td>U</td>\n",
       "      <td>1</td>\n",
       "      <td>1</td>\n",
       "      <td>2</td>\n",
       "      <td>no</td>\n",
       "      <td>no</td>\n",
       "      <td>3</td>\n",
       "      <td>yes</td>\n",
       "      <td>yes</td>\n",
       "      <td>7</td>\n",
       "      <td>8</td>\n",
       "      <td>10</td>\n",
       "    </tr>\n",
       "    <tr>\n",
       "      <th>3</th>\n",
       "      <td>GP</td>\n",
       "      <td>F</td>\n",
       "      <td>15</td>\n",
       "      <td>U</td>\n",
       "      <td>4</td>\n",
       "      <td>2</td>\n",
       "      <td>3</td>\n",
       "      <td>yes</td>\n",
       "      <td>yes</td>\n",
       "      <td>0</td>\n",
       "      <td>yes</td>\n",
       "      <td>yes</td>\n",
       "      <td>15</td>\n",
       "      <td>14</td>\n",
       "      <td>15</td>\n",
       "    </tr>\n",
       "    <tr>\n",
       "      <th>4</th>\n",
       "      <td>GP</td>\n",
       "      <td>F</td>\n",
       "      <td>16</td>\n",
       "      <td>U</td>\n",
       "      <td>3</td>\n",
       "      <td>3</td>\n",
       "      <td>2</td>\n",
       "      <td>no</td>\n",
       "      <td>no</td>\n",
       "      <td>0</td>\n",
       "      <td>no</td>\n",
       "      <td>yes</td>\n",
       "      <td>6</td>\n",
       "      <td>10</td>\n",
       "      <td>10</td>\n",
       "    </tr>\n",
       "  </tbody>\n",
       "</table>\n",
       "</div>"
      ],
      "text/plain": [
       "  school sex  age address  Medu  Fedu  studytime activities romantic  \\\n",
       "0     GP   F   18       U     4     4          2         no       no   \n",
       "1     GP   F   17       U     1     1          2         no       no   \n",
       "2     GP   F   15       U     1     1          2         no       no   \n",
       "3     GP   F   15       U     4     2          3        yes      yes   \n",
       "4     GP   F   16       U     3     3          2         no       no   \n",
       "\n",
       "   failures internet paid  G1  G2  G3  \n",
       "0         0       no   no   5   6   6  \n",
       "1         0      yes   no   5   5   6  \n",
       "2         3      yes  yes   7   8  10  \n",
       "3         0      yes  yes  15  14  15  \n",
       "4         0       no  yes   6  10  10  "
      ]
     },
     "execution_count": 7,
     "metadata": {},
     "output_type": "execute_result"
    }
   ],
   "source": [
    "student = df[data]\n",
    "student.head()"
   ]
  },
  {
   "cell_type": "code",
   "execution_count": 8,
   "id": "4634bf43",
   "metadata": {
    "execution": {
     "iopub.execute_input": "2024-10-10T01:56:20.299077Z",
     "iopub.status.busy": "2024-10-10T01:56:20.298468Z",
     "iopub.status.idle": "2024-10-10T01:56:20.307389Z",
     "shell.execute_reply": "2024-10-10T01:56:20.306420Z"
    },
    "papermill": {
     "duration": 0.019582,
     "end_time": "2024-10-10T01:56:20.309494",
     "exception": false,
     "start_time": "2024-10-10T01:56:20.289912",
     "status": "completed"
    },
    "tags": []
   },
   "outputs": [
    {
     "data": {
      "text/plain": [
       "school        0\n",
       "sex           0\n",
       "age           0\n",
       "address       0\n",
       "Medu          0\n",
       "Fedu          0\n",
       "studytime     0\n",
       "activities    0\n",
       "romantic      0\n",
       "failures      0\n",
       "internet      0\n",
       "paid          0\n",
       "G1            0\n",
       "G2            0\n",
       "G3            0\n",
       "dtype: int64"
      ]
     },
     "execution_count": 8,
     "metadata": {},
     "output_type": "execute_result"
    }
   ],
   "source": [
    "# Check for null values\n",
    "student.isna().sum()"
   ]
  },
  {
   "cell_type": "code",
   "execution_count": 9,
   "id": "4c775f94",
   "metadata": {
    "execution": {
     "iopub.execute_input": "2024-10-10T01:56:20.326950Z",
     "iopub.status.busy": "2024-10-10T01:56:20.326150Z",
     "iopub.status.idle": "2024-10-10T01:56:20.342989Z",
     "shell.execute_reply": "2024-10-10T01:56:20.341675Z"
    },
    "papermill": {
     "duration": 0.028043,
     "end_time": "2024-10-10T01:56:20.345098",
     "exception": false,
     "start_time": "2024-10-10T01:56:20.317055",
     "status": "completed"
    },
    "tags": []
   },
   "outputs": [
    {
     "name": "stdout",
     "output_type": "stream",
     "text": [
      "school: ['GP' 'MS']\n",
      "sex: ['F' 'M']\n",
      "age: [18 17 15 16 19 22 20 21]\n",
      "address: ['U' 'R']\n",
      "Medu: [4 1 3 2 0]\n",
      "Fedu: [4 1 2 3 0]\n",
      "studytime: [2 3 1 4]\n",
      "activities: ['no' 'yes']\n",
      "romantic: ['no' 'yes']\n",
      "failures: [0 3 2 1]\n",
      "internet: ['no' 'yes']\n",
      "paid: ['no' 'yes']\n",
      "G1: [ 5  7 15  6 12 16 14 10 13  8 11  9 17 19 18  4  3]\n",
      "G2: [ 6  5  8 14 10 15 12 18 16 13  9 11  7 19 17  4  0]\n",
      "G3: [ 6 10 15 11 19  9 12 14 16  5  8 17 18 13 20  7  0  4]\n"
     ]
    }
   ],
   "source": [
    "# Check for unique values\n",
    "for col in student.columns:\n",
    "    print(f\"{col}: {student[col].unique()}\")"
   ]
  },
  {
   "cell_type": "markdown",
   "id": "d4813cc3",
   "metadata": {
    "papermill": {
     "duration": 0.007344,
     "end_time": "2024-10-10T01:56:20.360216",
     "exception": false,
     "start_time": "2024-10-10T01:56:20.352872",
     "status": "completed"
    },
    "tags": []
   },
   "source": [
    "# Data Visualization"
   ]
  },
  {
   "cell_type": "code",
   "execution_count": 10,
   "id": "17f9f321",
   "metadata": {
    "execution": {
     "iopub.execute_input": "2024-10-10T01:56:20.377765Z",
     "iopub.status.busy": "2024-10-10T01:56:20.376802Z",
     "iopub.status.idle": "2024-10-10T01:56:20.382834Z",
     "shell.execute_reply": "2024-10-10T01:56:20.381646Z"
    },
    "papermill": {
     "duration": 0.01707,
     "end_time": "2024-10-10T01:56:20.385015",
     "exception": false,
     "start_time": "2024-10-10T01:56:20.367945",
     "status": "completed"
    },
    "tags": []
   },
   "outputs": [],
   "source": [
    "student_num = student[[\"age\", \"failures\", \"G1\", \"G2\", \"G3\"]]"
   ]
  },
  {
   "cell_type": "markdown",
   "id": "3b5e47dd",
   "metadata": {
    "papermill": {
     "duration": 0.007805,
     "end_time": "2024-10-10T01:56:20.400700",
     "exception": false,
     "start_time": "2024-10-10T01:56:20.392895",
     "status": "completed"
    },
    "tags": []
   },
   "source": [
    "## Histograms\n",
    "To understand data distribution"
   ]
  },
  {
   "cell_type": "code",
   "execution_count": 11,
   "id": "01e6169f",
   "metadata": {
    "execution": {
     "iopub.execute_input": "2024-10-10T01:56:20.417961Z",
     "iopub.status.busy": "2024-10-10T01:56:20.417540Z",
     "iopub.status.idle": "2024-10-10T01:56:21.847394Z",
     "shell.execute_reply": "2024-10-10T01:56:21.846336Z"
    },
    "papermill": {
     "duration": 1.441268,
     "end_time": "2024-10-10T01:56:21.849816",
     "exception": false,
     "start_time": "2024-10-10T01:56:20.408548",
     "status": "completed"
    },
    "tags": []
   },
   "outputs": [
    {
     "name": "stdout",
     "output_type": "stream",
     "text": [
      "Age mean: 16.6962\n"
     ]
    },
    {
     "data": {
      "image/png": "[encoded data removed]",
      "text/plain": [
       "<Figure size 640x480 with 1 Axes>"
      ]
     },
     "metadata": {},
     "output_type": "display_data"
    },
    {
     "name": "stdout",
     "output_type": "stream",
     "text": [
      "Failures mean: 0.3342\n"
     ]
    },
    {
     "data": {
      "image/png": "[encoded data removed]",
      "text/plain": [
       "<Figure size 640x480 with 1 Axes>"
      ]
     },
     "metadata": {},
     "output_type": "display_data"
    },
    {
     "name": "stdout",
     "output_type": "stream",
     "text": [
      "G1 mean: 10.9089\n"
     ]
    },
    {
     "data": {
      "image/png": "[encoded data removed]",
      "text/plain": [
       "<Figure size 640x480 with 1 Axes>"
      ]
     },
     "metadata": {},
     "output_type": "display_data"
    },
    {
     "name": "stdout",
     "output_type": "stream",
     "text": [
      "G2 mean: 10.7139\n"
     ]
    },
    {
     "data": {
      "image/png": "[encoded data removed]",
      "text/plain": [
       "<Figure size 640x480 with 1 Axes>"
      ]
     },
     "metadata": {},
     "output_type": "display_data"
    },
    {
     "name": "stdout",
     "output_type": "stream",
     "text": [
      "G3 mean: 10.4152\n"
     ]
    },
    {
     "data": {
      "image/png": "[encoded data removed]",
      "text/plain": [
       "<Figure size 640x480 with 1 Axes>"
      ]
     },
     "metadata": {},
     "output_type": "display_data"
    }
   ],
   "source": [
    "for col in student_num.columns:\n",
    "    mean = student[col].mean()\n",
    "    print(f\"{col.capitalize()} mean: {round(mean, 4)}\")\n",
    "    student_num[col].plot(kind=\"hist\", xlabel=col)\n",
    "#     student_num[col].plot(kind=\"density\")\n",
    "    plt.axvline(mean, color=\"red\", label=\"Mean\")\n",
    "    plt.legend()\n",
    "    plt.show()"
   ]
  },
  {
   "cell_type": "markdown",
   "id": "b83eabf6",
   "metadata": {
    "papermill": {
     "duration": 0.009407,
     "end_time": "2024-10-10T01:56:21.868989",
     "exception": false,
     "start_time": "2024-10-10T01:56:21.859582",
     "status": "completed"
    },
    "tags": []
   },
   "source": [
    "## Boxplots\n",
    "For outlier detection and spread of data"
   ]
  },
  {
   "cell_type": "code",
   "execution_count": 12,
   "id": "fec5a37a",
   "metadata": {
    "execution": {
     "iopub.execute_input": "2024-10-10T01:56:21.890144Z",
     "iopub.status.busy": "2024-10-10T01:56:21.889442Z",
     "iopub.status.idle": "2024-10-10T01:56:22.120716Z",
     "shell.execute_reply": "2024-10-10T01:56:22.119326Z"
    },
    "papermill": {
     "duration": 0.244599,
     "end_time": "2024-10-10T01:56:22.123080",
     "exception": false,
     "start_time": "2024-10-10T01:56:21.878481",
     "status": "completed"
    },
    "tags": []
   },
   "outputs": [
    {
     "data": {
      "image/png": "[encoded data removed]",
      "text/plain": [
       "<Figure size 640x480 with 1 Axes>"
      ]
     },
     "metadata": {},
     "output_type": "display_data"
    },
    {
     "name": "stdout",
     "output_type": "stream",
     "text": [
      "age\n",
      "22     1\n",
      "Name: count, dtype: int64\n",
      "\n",
      "failures\n",
      "1           50\n",
      "2           17\n",
      "3           16\n",
      "Name: count, dtype: int64\n",
      "\n",
      "G1: No outliers\n",
      "\n",
      "G2\n",
      "0     13\n",
      "Name: count, dtype: int64\n",
      "\n",
      "G3: No outliers\n",
      "\n"
     ]
    }
   ],
   "source": [
    "box = student_num.plot(kind=\"box\")\n",
    "plt.show()\n",
    "\n",
    "for col in student_num.columns:\n",
    "    q1, q3 = student_num[col].quantile(.25), student_num[col].quantile(.75)\n",
    "    iqr = q3 - q1\n",
    "    lower_bound, upper_bound = q1 - 1.5 * iqr, q3 + 1.5 * iqr\n",
    "    outlier = pd.DataFrame(student_num.loc[(student_num[col]<lower_bound) | (student_num[col]>upper_bound), col])\n",
    "    \n",
    "    if not outlier.empty:\n",
    "        print(outlier.value_counts())\n",
    "        print()\n",
    "    else: \n",
    "        print(f\"{col}: No outliers\\n\")\n",
    "        "
   ]
  },
  {
   "cell_type": "markdown",
   "id": "e9fcd356",
   "metadata": {
    "papermill": {
     "duration": 0.00981,
     "end_time": "2024-10-10T01:56:22.142991",
     "exception": false,
     "start_time": "2024-10-10T01:56:22.133181",
     "status": "completed"
    },
    "tags": []
   },
   "source": [
    "## Bar Charts\n",
    "To compare averages in each categories"
   ]
  },
  {
   "cell_type": "code",
   "execution_count": 13,
   "id": "d7d8cf11",
   "metadata": {
    "execution": {
     "iopub.execute_input": "2024-10-10T01:56:22.164993Z",
     "iopub.status.busy": "2024-10-10T01:56:22.164571Z",
     "iopub.status.idle": "2024-10-10T01:56:22.184987Z",
     "shell.execute_reply": "2024-10-10T01:56:22.183843Z"
    },
    "papermill": {
     "duration": 0.034173,
     "end_time": "2024-10-10T01:56:22.187316",
     "exception": false,
     "start_time": "2024-10-10T01:56:22.153143",
     "status": "completed"
    },
    "tags": []
   },
   "outputs": [
    {
     "data": {
      "text/html": [
       "<div>\n",
       "<style scoped>\n",
       "    .dataframe tbody tr th:only-of-type {\n",
       "        vertical-align: middle;\n",
       "    }\n",
       "\n",
       "    .dataframe tbody tr th {\n",
       "        vertical-align: top;\n",
       "    }\n",
       "\n",
       "    .dataframe thead th {\n",
       "        text-align: right;\n",
       "    }\n",
       "</style>\n",
       "<table border=\"1\" class=\"dataframe\">\n",
       "  <thead>\n",
       "    <tr style=\"text-align: right;\">\n",
       "      <th></th>\n",
       "      <th>school</th>\n",
       "      <th>sex</th>\n",
       "      <th>address</th>\n",
       "      <th>Medu</th>\n",
       "      <th>Fedu</th>\n",
       "      <th>studytime</th>\n",
       "      <th>activities</th>\n",
       "      <th>romantic</th>\n",
       "      <th>internet</th>\n",
       "      <th>paid</th>\n",
       "      <th>overall_avg</th>\n",
       "    </tr>\n",
       "  </thead>\n",
       "  <tbody>\n",
       "    <tr>\n",
       "      <th>0</th>\n",
       "      <td>GP</td>\n",
       "      <td>F</td>\n",
       "      <td>U</td>\n",
       "      <td>4</td>\n",
       "      <td>4</td>\n",
       "      <td>2</td>\n",
       "      <td>no</td>\n",
       "      <td>no</td>\n",
       "      <td>no</td>\n",
       "      <td>no</td>\n",
       "      <td>5.666667</td>\n",
       "    </tr>\n",
       "    <tr>\n",
       "      <th>1</th>\n",
       "      <td>GP</td>\n",
       "      <td>F</td>\n",
       "      <td>U</td>\n",
       "      <td>1</td>\n",
       "      <td>1</td>\n",
       "      <td>2</td>\n",
       "      <td>no</td>\n",
       "      <td>no</td>\n",
       "      <td>yes</td>\n",
       "      <td>no</td>\n",
       "      <td>5.333333</td>\n",
       "    </tr>\n",
       "    <tr>\n",
       "      <th>2</th>\n",
       "      <td>GP</td>\n",
       "      <td>F</td>\n",
       "      <td>U</td>\n",
       "      <td>1</td>\n",
       "      <td>1</td>\n",
       "      <td>2</td>\n",
       "      <td>no</td>\n",
       "      <td>no</td>\n",
       "      <td>yes</td>\n",
       "      <td>yes</td>\n",
       "      <td>8.333333</td>\n",
       "    </tr>\n",
       "    <tr>\n",
       "      <th>3</th>\n",
       "      <td>GP</td>\n",
       "      <td>F</td>\n",
       "      <td>U</td>\n",
       "      <td>4</td>\n",
       "      <td>2</td>\n",
       "      <td>3</td>\n",
       "      <td>yes</td>\n",
       "      <td>yes</td>\n",
       "      <td>yes</td>\n",
       "      <td>yes</td>\n",
       "      <td>14.666667</td>\n",
       "    </tr>\n",
       "    <tr>\n",
       "      <th>4</th>\n",
       "      <td>GP</td>\n",
       "      <td>F</td>\n",
       "      <td>U</td>\n",
       "      <td>3</td>\n",
       "      <td>3</td>\n",
       "      <td>2</td>\n",
       "      <td>no</td>\n",
       "      <td>no</td>\n",
       "      <td>no</td>\n",
       "      <td>yes</td>\n",
       "      <td>8.666667</td>\n",
       "    </tr>\n",
       "  </tbody>\n",
       "</table>\n",
       "</div>"
      ],
      "text/plain": [
       "  school sex address Medu Fedu studytime activities romantic internet paid  \\\n",
       "0     GP   F       U    4    4         2         no       no       no   no   \n",
       "1     GP   F       U    1    1         2         no       no      yes   no   \n",
       "2     GP   F       U    1    1         2         no       no      yes  yes   \n",
       "3     GP   F       U    4    2         3        yes      yes      yes  yes   \n",
       "4     GP   F       U    3    3         2         no       no       no  yes   \n",
       "\n",
       "   overall_avg  \n",
       "0     5.666667  \n",
       "1     5.333333  \n",
       "2     8.333333  \n",
       "3    14.666667  \n",
       "4     8.666667  "
      ]
     },
     "execution_count": 13,
     "metadata": {},
     "output_type": "execute_result"
    }
   ],
   "source": [
    "cat_cols = [\"school\", \"sex\", \"address\", \"Medu\", \"Fedu\", \"studytime\", \"activities\", \"romantic\", \"internet\", \"paid\"]\n",
    "student_cat = student[cat_cols].astype(str)\n",
    "\n",
    "overall_avg = (student.G1 + student.G2 + student.G3) / 3\n",
    "\n",
    "student_cat_avg = pd.concat([student_cat, overall_avg.rename(\"overall_avg\")], axis=1)\n",
    "\n",
    "student_cat_avg.head()"
   ]
  },
  {
   "cell_type": "code",
   "execution_count": 14,
   "id": "bf9717bb",
   "metadata": {
    "execution": {
     "iopub.execute_input": "2024-10-10T01:56:22.211595Z",
     "iopub.status.busy": "2024-10-10T01:56:22.211198Z",
     "iopub.status.idle": "2024-10-10T01:56:22.229674Z",
     "shell.execute_reply": "2024-10-10T01:56:22.228802Z"
    },
    "papermill": {
     "duration": 0.032559,
     "end_time": "2024-10-10T01:56:22.231977",
     "exception": false,
     "start_time": "2024-10-10T01:56:22.199418",
     "status": "completed"
    },
    "tags": []
   },
   "outputs": [],
   "source": [
    "# Aggregate \n",
    "avg_school = student_cat_avg.groupby(\"school\")[\"overall_avg\"].mean()\n",
    "avg_sex = student_cat_avg.groupby(\"sex\")[\"overall_avg\"].mean()\n",
    "avg_address = student_cat_avg.groupby(\"address\")[\"overall_avg\"].mean()\n",
    "avg_Medu = student_cat_avg.groupby(\"Medu\")[\"overall_avg\"].mean()\n",
    "avg_Fedu = student_cat_avg.groupby(\"Fedu\")[\"overall_avg\"].mean()\n",
    "avg_studytime = student_cat_avg.groupby(\"studytime\")[\"overall_avg\"].mean()\n",
    "avg_activities = student_cat_avg.groupby(\"activities\")[\"overall_avg\"].mean()\n",
    "avg_romantic = student_cat_avg.groupby(\"romantic\")[\"overall_avg\"].mean()\n",
    "avg_internet = student_cat_avg.groupby(\"internet\")[\"overall_avg\"].mean()\n",
    "avg_paid = student_cat_avg.groupby(\"paid\")[\"overall_avg\"].mean()\n",
    "\n",
    "avg_cats = [avg_school, avg_sex, avg_address, avg_Medu, avg_Fedu, avg_studytime, avg_activities, avg_romantic, avg_internet, avg_paid]\n",
    "\n",
    "for i in range(len(avg_cats)):\n",
    "    avg_cats[i].name = cat_cols[i]"
   ]
  },
  {
   "cell_type": "code",
   "execution_count": 15,
   "id": "28c3d23e",
   "metadata": {
    "execution": {
     "iopub.execute_input": "2024-10-10T01:56:22.255689Z",
     "iopub.status.busy": "2024-10-10T01:56:22.255045Z",
     "iopub.status.idle": "2024-10-10T01:56:24.303267Z",
     "shell.execute_reply": "2024-10-10T01:56:24.302210Z"
    },
    "papermill": {
     "duration": 2.062896,
     "end_time": "2024-10-10T01:56:24.305512",
     "exception": false,
     "start_time": "2024-10-10T01:56:22.242616",
     "status": "completed"
    },
    "tags": []
   },
   "outputs": [
    {
     "data": {
      "image/png": "[encoded data removed]",
      "text/plain": [
       "<Figure size 640x480 with 1 Axes>"
      ]
     },
     "metadata": {},
     "output_type": "display_data"
    },
    {
     "data": {
      "image/png": "[encoded data removed]",
      "text/plain": [
       "<Figure size 640x480 with 1 Axes>"
      ]
     },
     "metadata": {},
     "output_type": "display_data"
    },
    {
     "data": {
      "image/png": "[encoded data removed]",
      "text/plain": [
       "<Figure size 640x480 with 1 Axes>"
      ]
     },
     "metadata": {},
     "output_type": "display_data"
    },
    {
     "data": {
      "image/png": "[encoded data removed]",
      "text/plain": [
       "<Figure size 640x480 with 1 Axes>"
      ]
     },
     "metadata": {},
     "output_type": "display_data"
    },
    {
     "data": {
      "image/png": "[encoded data removed]",
      "text/plain": [
       "<Figure size 640x480 with 1 Axes>"
      ]
     },
     "metadata": {},
     "output_type": "display_data"
    },
    {
     "data": {
      "image/png": "[encoded data removed]",
      "text/plain": [
       "<Figure size 640x480 with 1 Axes>"
      ]
     },
     "metadata": {},
     "output_type": "display_data"
    },
    {
     "data": {
      "image/png": "[encoded data removed]",
      "text/plain": [
       "<Figure size 640x480 with 1 Axes>"
      ]
     },
     "metadata": {},
     "output_type": "display_data"
    },
    {
     "data": {
      "image/png": "[encoded data removed]",
      "text/plain": [
       "<Figure size 640x480 with 1 Axes>"
      ]
     },
     "metadata": {},
     "output_type": "display_data"
    },
    {
     "data": {
      "image/png": "[encoded data removed]",
      "text/plain": [
       "<Figure size 640x480 with 1 Axes>"
      ]
     },
     "metadata": {},
     "output_type": "display_data"
    },
    {
     "data": {
      "image/png": "[encoded data removed]",
      "text/plain": [
       "<Figure size 640x480 with 1 Axes>"
      ]
     },
     "metadata": {},
     "output_type": "display_data"
    }
   ],
   "source": [
    "for col in avg_cats:\n",
    "    col.plot(kind=\"bar\", ylabel=\"overall average\", xlabel=\"\")\n",
    "    plt.title(col.name.capitalize())\n",
    "    plt.show()"
   ]
  },
  {
   "cell_type": "markdown",
   "id": "cfee9cc9",
   "metadata": {
    "papermill": {
     "duration": 0.012602,
     "end_time": "2024-10-10T01:56:24.331252",
     "exception": false,
     "start_time": "2024-10-10T01:56:24.318650",
     "status": "completed"
    },
    "tags": []
   },
   "source": [
    "# Statistical Tests"
   ]
  },
  {
   "cell_type": "markdown",
   "id": "d1f04f41",
   "metadata": {
    "papermill": {
     "duration": 0.012613,
     "end_time": "2024-10-10T01:56:24.356826",
     "exception": false,
     "start_time": "2024-10-10T01:56:24.344213",
     "status": "completed"
    },
    "tags": []
   },
   "source": [
    "## Chi-Square Test of Independence"
   ]
  },
  {
   "cell_type": "code",
   "execution_count": 16,
   "id": "d62c6a72",
   "metadata": {
    "execution": {
     "iopub.execute_input": "2024-10-10T01:56:24.384309Z",
     "iopub.status.busy": "2024-10-10T01:56:24.383892Z",
     "iopub.status.idle": "2024-10-10T01:56:24.390615Z",
     "shell.execute_reply": "2024-10-10T01:56:24.389662Z"
    },
    "papermill": {
     "duration": 0.023113,
     "end_time": "2024-10-10T01:56:24.392767",
     "exception": false,
     "start_time": "2024-10-10T01:56:24.369654",
     "status": "completed"
    },
    "tags": []
   },
   "outputs": [
    {
     "data": {
      "text/plain": [
       "Index(['school', 'sex', 'address', 'Medu', 'Fedu', 'studytime', 'activities',\n",
       "       'romantic', 'internet', 'paid'],\n",
       "      dtype='object')"
      ]
     },
     "execution_count": 16,
     "metadata": {},
     "output_type": "execute_result"
    }
   ],
   "source": [
    "student_cat.columns"
   ]
  },
  {
   "cell_type": "code",
   "execution_count": 17,
   "id": "b772cb87",
   "metadata": {
    "execution": {
     "iopub.execute_input": "2024-10-10T01:56:24.420224Z",
     "iopub.status.busy": "2024-10-10T01:56:24.419829Z",
     "iopub.status.idle": "2024-10-10T01:56:24.426513Z",
     "shell.execute_reply": "2024-10-10T01:56:24.425512Z"
    },
    "papermill": {
     "duration": 0.023194,
     "end_time": "2024-10-10T01:56:24.428868",
     "exception": false,
     "start_time": "2024-10-10T01:56:24.405674",
     "status": "completed"
    },
    "tags": []
   },
   "outputs": [],
   "source": [
    "def chi_square(col_1, col_2, display=True):\n",
    "    \"\"\"\n",
    "    Calculates the chi-square stats\n",
    "    \n",
    "    parameters:\n",
    "    col1: DataFrame column\n",
    "    col2: DataFrame column\n",
    "    \n",
    "    returns:\n",
    "    chi2: chi-square stat\n",
    "    p: p-value\n",
    "    dof: degrees of freedom\n",
    "    expected: expected frequencies\n",
    "    \n",
    "    \"\"\"\n",
    "    contingency_table = pd.crosstab(col_1, col_2)\n",
    "    chi2, p, dof, expected = stats.chi2_contingency(contingency_table)\n",
    "    contingency_table.reset_index(drop=True, inplace=True)\n",
    "    if display:\n",
    "        print(f\"Chi2 : {chi2}\")\n",
    "        print(f\"p-value : {p}\")\n",
    "        print(f\"Degrees of freedom : {dof}\")\n",
    "        \n",
    "    \n",
    "    return contingency_table, chi2, p, dof, expected"
   ]
  },
  {
   "cell_type": "code",
   "execution_count": 18,
   "id": "37947697",
   "metadata": {
    "execution": {
     "iopub.execute_input": "2024-10-10T01:56:24.456329Z",
     "iopub.status.busy": "2024-10-10T01:56:24.455936Z",
     "iopub.status.idle": "2024-10-10T01:56:24.512043Z",
     "shell.execute_reply": "2024-10-10T01:56:24.510709Z"
    },
    "papermill": {
     "duration": 0.072738,
     "end_time": "2024-10-10T01:56:24.514585",
     "exception": false,
     "start_time": "2024-10-10T01:56:24.441847",
     "status": "completed"
    },
    "tags": []
   },
   "outputs": [
    {
     "name": "stdout",
     "output_type": "stream",
     "text": [
      "Level of significance: .05\n",
      "\n",
      "Address and StudyTime Chi-square test of Independence\n",
      "Chi2 : 5.159194559457368\n",
      "p-value : 0.16050445310206335\n",
      "Degrees of freedom : 3\n",
      "\n",
      "Romantic and StudyTime Chi-square test of Independence\n",
      "Chi2 : 10.664622810031268\n",
      "p-value : 0.013684756707976984\n",
      "Degrees of freedom : 3\n",
      "\n",
      "Romantic and Activities Chi-square test of Independence\n",
      "Chi2 : 0.08057773757642686\n",
      "p-value : 0.776516000281584\n",
      "Degrees of freedom : 1\n",
      "\n",
      "Paid and Internet Chi-square test of Independence\n",
      "Chi2 : 8.456941510245814\n",
      "p-value : 0.0036365285097773137\n",
      "Degrees of freedom : 1\n",
      "\n",
      "Medu and Paid Chi-square test of Independence\n",
      "Chi2 : 13.827582301676538\n",
      "p-value : 0.00786616838858245\n",
      "Degrees of freedom : 4\n",
      "\n",
      "Fedu and Paid Chi-square test of Independence\n",
      "Chi2 : 5.686558139421179\n",
      "p-value : 0.2238110425669106\n",
      "Degrees of freedom : 4\n"
     ]
    }
   ],
   "source": [
    "print(\"Level of significance: .05\\n\")\n",
    "\n",
    "print(\"Address and StudyTime Chi-square test of Independence\")\n",
    "table1, chi1, p1, dof1, expected1 = chi_square(student_cat.address, student_cat.studytime)\n",
    "\n",
    "print()\n",
    "\n",
    "print(\"Romantic and StudyTime Chi-square test of Independence\")\n",
    "table2, chi2, p2, dof2, expected2 = chi_square(student_cat.romantic, student_cat.studytime)\n",
    "\n",
    "print()\n",
    "\n",
    "print(\"Romantic and Activities Chi-square test of Independence\")\n",
    "table3, chi3, p3, dof3, expected3 = chi_square(student_cat.romantic, student_cat.activities)\n",
    "\n",
    "print()\n",
    "\n",
    "print(\"Paid and Internet Chi-square test of Independence\")\n",
    "table4, chi4, p4, dof4, expected4 = chi_square(student_cat.paid, student_cat.internet)\n",
    "\n",
    "print()\n",
    "\n",
    "print(\"Medu and Paid Chi-square test of Independence\")\n",
    "table5, chi5, p5, dof5, expected5 = chi_square(student_cat.paid, student_cat.Medu)\n",
    "\n",
    "print()\n",
    "\n",
    "print(\"Fedu and Paid Chi-square test of Independence\")\n",
    "table6, chi6, p6, dof6, expected6 = chi_square(student_cat.paid, student_cat.Fedu)\n"
   ]
  },
  {
   "cell_type": "markdown",
   "id": "33fe4e5d",
   "metadata": {
    "papermill": {
     "duration": 0.012729,
     "end_time": "2024-10-10T01:56:24.540629",
     "exception": false,
     "start_time": "2024-10-10T01:56:24.527900",
     "status": "completed"
    },
    "tags": []
   },
   "source": [
    "### There is an association between Mothers level of education and whether they paid for additional education or not <br> The degree and direction is still undetermined\n",
    "Medu and Paid Chi-square test of Independence <br>\n",
    "Chi2 : 13.827582301676538 <br>\n",
    "p-value : 0.00786616838858245 <br>\n",
    "Degrees of freedom : 4 \n"
   ]
  },
  {
   "cell_type": "code",
   "execution_count": 19,
   "id": "7b3ddd68",
   "metadata": {
    "execution": {
     "iopub.execute_input": "2024-10-10T01:56:24.568336Z",
     "iopub.status.busy": "2024-10-10T01:56:24.567953Z",
     "iopub.status.idle": "2024-10-10T01:56:24.580341Z",
     "shell.execute_reply": "2024-10-10T01:56:24.579162Z"
    },
    "papermill": {
     "duration": 0.029309,
     "end_time": "2024-10-10T01:56:24.582900",
     "exception": false,
     "start_time": "2024-10-10T01:56:24.553591",
     "status": "completed"
    },
    "tags": []
   },
   "outputs": [
    {
     "data": {
      "text/html": [
       "<div>\n",
       "<style scoped>\n",
       "    .dataframe tbody tr th:only-of-type {\n",
       "        vertical-align: middle;\n",
       "    }\n",
       "\n",
       "    .dataframe tbody tr th {\n",
       "        vertical-align: top;\n",
       "    }\n",
       "\n",
       "    .dataframe thead th {\n",
       "        text-align: right;\n",
       "    }\n",
       "</style>\n",
       "<table border=\"1\" class=\"dataframe\">\n",
       "  <thead>\n",
       "    <tr style=\"text-align: right;\">\n",
       "      <th>studytime</th>\n",
       "      <th>1</th>\n",
       "      <th>2</th>\n",
       "      <th>3</th>\n",
       "      <th>4</th>\n",
       "      <th>total</th>\n",
       "    </tr>\n",
       "  </thead>\n",
       "  <tbody>\n",
       "    <tr>\n",
       "      <th>0</th>\n",
       "      <td>79</td>\n",
       "      <td>126</td>\n",
       "      <td>36</td>\n",
       "      <td>22</td>\n",
       "      <td>263</td>\n",
       "    </tr>\n",
       "    <tr>\n",
       "      <th>1</th>\n",
       "      <td>26</td>\n",
       "      <td>72</td>\n",
       "      <td>29</td>\n",
       "      <td>5</td>\n",
       "      <td>132</td>\n",
       "    </tr>\n",
       "  </tbody>\n",
       "</table>\n",
       "</div>"
      ],
      "text/plain": [
       "studytime   1    2   3   4  total\n",
       "0          79  126  36  22    263\n",
       "1          26   72  29   5    132"
      ]
     },
     "execution_count": 19,
     "metadata": {},
     "output_type": "execute_result"
    }
   ],
   "source": [
    "table2[\"total\"] = table2[\"1\"] + table2[\"2\"] + table2[\"3\"] + table2[\"4\"]\n",
    "table2\n"
   ]
  },
  {
   "cell_type": "markdown",
   "id": "cc86f523",
   "metadata": {
    "papermill": {
     "duration": 0.013097,
     "end_time": "2024-10-10T01:56:24.609449",
     "exception": false,
     "start_time": "2024-10-10T01:56:24.596352",
     "status": "completed"
    },
    "tags": []
   },
   "source": [
    "### It looks like those in romantic relationship have lesser study time, but let's look at the proportions"
   ]
  },
  {
   "cell_type": "code",
   "execution_count": 20,
   "id": "0e8454e0",
   "metadata": {
    "execution": {
     "iopub.execute_input": "2024-10-10T01:56:24.637823Z",
     "iopub.status.busy": "2024-10-10T01:56:24.637377Z",
     "iopub.status.idle": "2024-10-10T01:56:24.654768Z",
     "shell.execute_reply": "2024-10-10T01:56:24.653789Z"
    },
    "papermill": {
     "duration": 0.034257,
     "end_time": "2024-10-10T01:56:24.657030",
     "exception": false,
     "start_time": "2024-10-10T01:56:24.622773",
     "status": "completed"
    },
    "tags": []
   },
   "outputs": [
    {
     "data": {
      "text/html": [
       "<div>\n",
       "<style scoped>\n",
       "    .dataframe tbody tr th:only-of-type {\n",
       "        vertical-align: middle;\n",
       "    }\n",
       "\n",
       "    .dataframe tbody tr th {\n",
       "        vertical-align: top;\n",
       "    }\n",
       "\n",
       "    .dataframe thead th {\n",
       "        text-align: right;\n",
       "    }\n",
       "</style>\n",
       "<table border=\"1\" class=\"dataframe\">\n",
       "  <thead>\n",
       "    <tr style=\"text-align: right;\">\n",
       "      <th>studytime</th>\n",
       "      <th>&lt;2hours</th>\n",
       "      <th>2-5hours</th>\n",
       "      <th>5-10hours</th>\n",
       "      <th>&gt;10hours</th>\n",
       "    </tr>\n",
       "  </thead>\n",
       "  <tbody>\n",
       "    <tr>\n",
       "      <th>0</th>\n",
       "      <td>0.3</td>\n",
       "      <td>0.48</td>\n",
       "      <td>0.14</td>\n",
       "      <td>0.08</td>\n",
       "    </tr>\n",
       "    <tr>\n",
       "      <th>1</th>\n",
       "      <td>0.2</td>\n",
       "      <td>0.55</td>\n",
       "      <td>0.22</td>\n",
       "      <td>0.04</td>\n",
       "    </tr>\n",
       "  </tbody>\n",
       "</table>\n",
       "</div>"
      ],
      "text/plain": [
       "studytime  <2hours  2-5hours  5-10hours  >10hours\n",
       "0              0.3      0.48       0.14      0.08\n",
       "1              0.2      0.55       0.22      0.04"
      ]
     },
     "execution_count": 20,
     "metadata": {},
     "output_type": "execute_result"
    }
   ],
   "source": [
    "study_time = [\"<2hours\", \"2-5hours\", \"5-10hours\", \">10hours\"]\n",
    "# Calculating the proportions\n",
    "for i in range(1, 5):\n",
    "    a = str(i)\n",
    "    table2[study_time[i-1]] = round(table2[a]/table2[\"total\"], 2)\n",
    "    \n",
    "table2_prop = table2.iloc[:, 5:].copy()\n",
    "# print(table2_prop)\n",
    "table2_prop"
   ]
  },
  {
   "cell_type": "markdown",
   "id": "5c37842c",
   "metadata": {
    "papermill": {
     "duration": 0.013182,
     "end_time": "2024-10-10T01:56:24.683939",
     "exception": false,
     "start_time": "2024-10-10T01:56:24.670757",
     "status": "completed"
    },
    "tags": []
   },
   "source": [
    "### The proportions show that being in a relationship or not doesn't drastically affect student's time allocation for studying <br> and also few students engage in extensive studying"
   ]
  },
  {
   "cell_type": "code",
   "execution_count": null,
   "id": "b00c4b95",
   "metadata": {
    "papermill": {
     "duration": 0.013034,
     "end_time": "2024-10-10T01:56:24.710420",
     "exception": false,
     "start_time": "2024-10-10T01:56:24.697386",
     "status": "completed"
    },
    "tags": []
   },
   "outputs": [],
   "source": []
  },
  {
   "cell_type": "code",
   "execution_count": null,
   "id": "e27620ab",
   "metadata": {
    "papermill": {
     "duration": 0.013002,
     "end_time": "2024-10-10T01:56:24.736632",
     "exception": false,
     "start_time": "2024-10-10T01:56:24.723630",
     "status": "completed"
    },
    "tags": []
   },
   "outputs": [],
   "source": []
  }
 ],
 "metadata": {
  "kaggle": {
   "accelerator": "none",
   "dataSources": [
    {
     "datasetId": 2213802,
     "sourceId": 3700232,
     "sourceType": "datasetVersion"
    }
   ],
   "dockerImageVersionId": 30786,
   "isGpuEnabled": false,
   "isInternetEnabled": false,
   "language": "python",
   "sourceType": "notebook"
  },
  "kernelspec": {
   "display_name": "Python 3",
   "language": "python",
   "name": "python3"
  },
  "language_info": {
   "codemirror_mode": {
    "name": "ipython",
    "version": 3
   },
   "file_extension": ".py",
   "mimetype": "text/x-python",
   "name": "python",
   "nbconvert_exporter": "python",
   "pygments_lexer": "ipython3",
   "version": "3.10.14"
  },
  "papermill": {
   "default_parameters": {},
   "duration": 9.792125,
   "end_time": "2024-10-10T01:56:25.370040",
   "environment_variables": {},
   "exception": null,
   "input_path": "__notebook__.ipynb",
   "output_path": "__notebook__.ipynb",
   "parameters": {},
   "start_time": "2024-10-10T01:56:15.577915",
   "version": "2.6.0"
  }
 },
 "nbformat": 4,
 "nbformat_minor": 5
}
