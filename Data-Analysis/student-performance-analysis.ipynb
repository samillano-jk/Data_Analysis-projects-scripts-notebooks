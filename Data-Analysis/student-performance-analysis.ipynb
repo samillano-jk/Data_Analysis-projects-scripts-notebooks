{
 "cells": [
  {
   "cell_type": "markdown",
   "id": "e4ee1391",
   "metadata": {
    "papermill": {
     "duration": 0.02102,
     "end_time": "2024-10-14T04:31:25.982652",
     "exception": false,
     "start_time": "2024-10-14T04:31:25.961632",
     "status": "completed"
    },
    "tags": []
   },
   "source": [
    "### The task came from StrataScratch\n",
    "Link: https://platform.stratascratch.com/data-projects/student-performance-analysis\n",
    "### The data is in Kaggle\n",
    "Link: https://platform.stratascratch.com/data-projects/student-performance-analysis\n",
    "### The description is in UCI\n",
    "Link: https://archive.ics.uci.edu/dataset/320/student+performance"
   ]
  },
  {
   "cell_type": "code",
   "execution_count": 1,
   "id": "c4c8c31f",
   "metadata": {
    "_cell_guid": "b1076dfc-b9ad-4769-8c92-a6c4dae69d19",
    "_uuid": "8f2839f25d086af736a60e9eeb907d3b93b6e0e5",
    "execution": {
     "iopub.execute_input": "2024-10-14T04:31:26.029054Z",
     "iopub.status.busy": "2024-10-14T04:31:26.027936Z",
     "iopub.status.idle": "2024-10-14T04:31:28.035351Z",
     "shell.execute_reply": "2024-10-14T04:31:28.033777Z"
    },
    "papermill": {
     "duration": 2.032221,
     "end_time": "2024-10-14T04:31:28.037774",
     "exception": false,
     "start_time": "2024-10-14T04:31:26.005553",
     "status": "completed"
    },
    "tags": []
   },
   "outputs": [
    {
     "name": "stdout",
     "output_type": "stream",
     "text": [
      "/kaggle/input/student-performance-data/student_data.csv\n"
     ]
    }
   ],
   "source": [
    "# This Python 3 environment comes with many helpful analytics libraries installed\n",
    "# It is defined by the kaggle/python Docker image: https://github.com/kaggle/docker-python\n",
    "# For example, here's several helpful packages to load\n",
    "\n",
    "import numpy as np # linear algebra\n",
    "import pandas as pd # data processing, CSV file I/O (e.g. pd.read_csv)\n",
    "from scipy import stats\n",
    "import matplotlib.pyplot as plt\n",
    "\n",
    "# Input data files are available in the read-only \"../input/\" directory\n",
    "# For example, running this (by clicking run or pressing Shift+Enter) will list all files under the input directory\n",
    "\n",
    "import os\n",
    "for dirname, _, filenames in os.walk('/kaggle/input'):\n",
    "    for filename in filenames:\n",
    "        print(os.path.join(dirname, filename))\n",
    "\n",
    "# You can write up to 20GB to the current directory (/kaggle/working/) that gets preserved as output when you create a version using \"Save & Run All\" \n",
    "# You can also write temporary files to /kaggle/temp/, but they won't be saved outside of the current session"
   ]
  },
  {
   "cell_type": "code",
   "execution_count": 2,
   "id": "f128c5fd",
   "metadata": {
    "execution": {
     "iopub.execute_input": "2024-10-14T04:31:28.079624Z",
     "iopub.status.busy": "2024-10-14T04:31:28.079012Z",
     "iopub.status.idle": "2024-10-14T04:31:28.099421Z",
     "shell.execute_reply": "2024-10-14T04:31:28.098450Z"
    },
    "papermill": {
     "duration": 0.044138,
     "end_time": "2024-10-14T04:31:28.101927",
     "exception": false,
     "start_time": "2024-10-14T04:31:28.057789",
     "status": "completed"
    },
    "tags": []
   },
   "outputs": [],
   "source": [
    "df = pd.read_csv(\"/kaggle/input/student-performance-data/student_data.csv\")"
   ]
  },
  {
   "cell_type": "code",
   "execution_count": 3,
   "id": "793c7322",
   "metadata": {
    "execution": {
     "iopub.execute_input": "2024-10-14T04:31:28.143118Z",
     "iopub.status.busy": "2024-10-14T04:31:28.142676Z",
     "iopub.status.idle": "2024-10-14T04:31:28.175945Z",
     "shell.execute_reply": "2024-10-14T04:31:28.174911Z"
    },
    "papermill": {
     "duration": 0.056638,
     "end_time": "2024-10-14T04:31:28.178509",
     "exception": false,
     "start_time": "2024-10-14T04:31:28.121871",
     "status": "completed"
    },
    "tags": []
   },
   "outputs": [
    {
     "data": {
      "text/html": [
       "<div>\n",
       "<style scoped>\n",
       "    .dataframe tbody tr th:only-of-type {\n",
       "        vertical-align: middle;\n",
       "    }\n",
       "\n",
       "    .dataframe tbody tr th {\n",
       "        vertical-align: top;\n",
       "    }\n",
       "\n",
       "    .dataframe thead th {\n",
       "        text-align: right;\n",
       "    }\n",
       "</style>\n",
       "<table border=\"1\" class=\"dataframe\">\n",
       "  <thead>\n",
       "    <tr style=\"text-align: right;\">\n",
       "      <th></th>\n",
       "      <th>school</th>\n",
       "      <th>sex</th>\n",
       "      <th>age</th>\n",
       "      <th>address</th>\n",
       "      <th>famsize</th>\n",
       "      <th>Pstatus</th>\n",
       "      <th>Medu</th>\n",
       "      <th>Fedu</th>\n",
       "      <th>Mjob</th>\n",
       "      <th>Fjob</th>\n",
       "      <th>...</th>\n",
       "      <th>famrel</th>\n",
       "      <th>freetime</th>\n",
       "      <th>goout</th>\n",
       "      <th>Dalc</th>\n",
       "      <th>Walc</th>\n",
       "      <th>health</th>\n",
       "      <th>absences</th>\n",
       "      <th>G1</th>\n",
       "      <th>G2</th>\n",
       "      <th>G3</th>\n",
       "    </tr>\n",
       "  </thead>\n",
       "  <tbody>\n",
       "    <tr>\n",
       "      <th>0</th>\n",
       "      <td>GP</td>\n",
       "      <td>F</td>\n",
       "      <td>18</td>\n",
       "      <td>U</td>\n",
       "      <td>GT3</td>\n",
       "      <td>A</td>\n",
       "      <td>4</td>\n",
       "      <td>4</td>\n",
       "      <td>at_home</td>\n",
       "      <td>teacher</td>\n",
       "      <td>...</td>\n",
       "      <td>4</td>\n",
       "      <td>3</td>\n",
       "      <td>4</td>\n",
       "      <td>1</td>\n",
       "      <td>1</td>\n",
       "      <td>3</td>\n",
       "      <td>6</td>\n",
       "      <td>5</td>\n",
       "      <td>6</td>\n",
       "      <td>6</td>\n",
       "    </tr>\n",
       "    <tr>\n",
       "      <th>1</th>\n",
       "      <td>GP</td>\n",
       "      <td>F</td>\n",
       "      <td>17</td>\n",
       "      <td>U</td>\n",
       "      <td>GT3</td>\n",
       "      <td>T</td>\n",
       "      <td>1</td>\n",
       "      <td>1</td>\n",
       "      <td>at_home</td>\n",
       "      <td>other</td>\n",
       "      <td>...</td>\n",
       "      <td>5</td>\n",
       "      <td>3</td>\n",
       "      <td>3</td>\n",
       "      <td>1</td>\n",
       "      <td>1</td>\n",
       "      <td>3</td>\n",
       "      <td>4</td>\n",
       "      <td>5</td>\n",
       "      <td>5</td>\n",
       "      <td>6</td>\n",
       "    </tr>\n",
       "    <tr>\n",
       "      <th>2</th>\n",
       "      <td>GP</td>\n",
       "      <td>F</td>\n",
       "      <td>15</td>\n",
       "      <td>U</td>\n",
       "      <td>LE3</td>\n",
       "      <td>T</td>\n",
       "      <td>1</td>\n",
       "      <td>1</td>\n",
       "      <td>at_home</td>\n",
       "      <td>other</td>\n",
       "      <td>...</td>\n",
       "      <td>4</td>\n",
       "      <td>3</td>\n",
       "      <td>2</td>\n",
       "      <td>2</td>\n",
       "      <td>3</td>\n",
       "      <td>3</td>\n",
       "      <td>10</td>\n",
       "      <td>7</td>\n",
       "      <td>8</td>\n",
       "      <td>10</td>\n",
       "    </tr>\n",
       "    <tr>\n",
       "      <th>3</th>\n",
       "      <td>GP</td>\n",
       "      <td>F</td>\n",
       "      <td>15</td>\n",
       "      <td>U</td>\n",
       "      <td>GT3</td>\n",
       "      <td>T</td>\n",
       "      <td>4</td>\n",
       "      <td>2</td>\n",
       "      <td>health</td>\n",
       "      <td>services</td>\n",
       "      <td>...</td>\n",
       "      <td>3</td>\n",
       "      <td>2</td>\n",
       "      <td>2</td>\n",
       "      <td>1</td>\n",
       "      <td>1</td>\n",
       "      <td>5</td>\n",
       "      <td>2</td>\n",
       "      <td>15</td>\n",
       "      <td>14</td>\n",
       "      <td>15</td>\n",
       "    </tr>\n",
       "    <tr>\n",
       "      <th>4</th>\n",
       "      <td>GP</td>\n",
       "      <td>F</td>\n",
       "      <td>16</td>\n",
       "      <td>U</td>\n",
       "      <td>GT3</td>\n",
       "      <td>T</td>\n",
       "      <td>3</td>\n",
       "      <td>3</td>\n",
       "      <td>other</td>\n",
       "      <td>other</td>\n",
       "      <td>...</td>\n",
       "      <td>4</td>\n",
       "      <td>3</td>\n",
       "      <td>2</td>\n",
       "      <td>1</td>\n",
       "      <td>2</td>\n",
       "      <td>5</td>\n",
       "      <td>4</td>\n",
       "      <td>6</td>\n",
       "      <td>10</td>\n",
       "      <td>10</td>\n",
       "    </tr>\n",
       "  </tbody>\n",
       "</table>\n",
       "<p>5 rows × 33 columns</p>\n",
       "</div>"
      ],
      "text/plain": [
       "  school sex  age address famsize Pstatus  Medu  Fedu     Mjob      Fjob  ...  \\\n",
       "0     GP   F   18       U     GT3       A     4     4  at_home   teacher  ...   \n",
       "1     GP   F   17       U     GT3       T     1     1  at_home     other  ...   \n",
       "2     GP   F   15       U     LE3       T     1     1  at_home     other  ...   \n",
       "3     GP   F   15       U     GT3       T     4     2   health  services  ...   \n",
       "4     GP   F   16       U     GT3       T     3     3    other     other  ...   \n",
       "\n",
       "  famrel freetime  goout  Dalc  Walc health absences  G1  G2  G3  \n",
       "0      4        3      4     1     1      3        6   5   6   6  \n",
       "1      5        3      3     1     1      3        4   5   5   6  \n",
       "2      4        3      2     2     3      3       10   7   8  10  \n",
       "3      3        2      2     1     1      5        2  15  14  15  \n",
       "4      4        3      2     1     2      5        4   6  10  10  \n",
       "\n",
       "[5 rows x 33 columns]"
      ]
     },
     "execution_count": 3,
     "metadata": {},
     "output_type": "execute_result"
    }
   ],
   "source": [
    "df.head()"
   ]
  },
  {
   "cell_type": "markdown",
   "id": "77bf6b88",
   "metadata": {
    "papermill": {
     "duration": 0.020409,
     "end_time": "2024-10-14T04:31:28.219715",
     "exception": false,
     "start_time": "2024-10-14T04:31:28.199306",
     "status": "completed"
    },
    "tags": []
   },
   "source": [
    "# Features to analyze:\n",
    "1 school - student's school (binary: 'GP' - Gabriel Pereira or 'MS' - Mousinho da Silveira) <br>\n",
    "2 sex - student's sex (binary: 'F' - female or 'M' - male) <br>\n",
    "3 age - student's age (numeric: from 15 to 22) <br>\n",
    "4 address - student's home address type (binary: 'U' - urban or 'R' - rural) <br>\n",
    "5 Medu - mother's education (numeric: 0 - none,  1 - primary education (4th grade), 2 - 5th to 9th grade, 3 - secondary education or 4 - higher education) <br>\n",
    "6 Fedu - father's education (numeric: 0 - none,  1 - primary education (4th grade), 2 - 5th to 9th grade, 3 - secondary education or 4 - higher education) <br>\n",
    "7 studytime - weekly study time (numeric: 1 - <2 hours, 2 - 2 to 5 hours, 3 - 5 to 10 hours, or 4 - >10 hours) <br>\n",
    "8 failures - number of past class failures (numeric: n if 1<=n<3, else 4) <br>\n",
    "\n",
    "These grades are related with the course subject, Math or Portuguese: <br>\n",
    "9 G1 - first period grade (numeric: from 0 to 20) <br>\n",
    "10 G2 - second period grade (numeric: from 0 to 20) <br>\n",
    "11 G3 - final grade (numeric: from 0 to 20, output target) <br>\n",
    "\n",
    "Data description from UCI: https://archive.ics.uci.edu/dataset/320/student+performance"
   ]
  },
  {
   "cell_type": "code",
   "execution_count": 4,
   "id": "bd81e27c",
   "metadata": {
    "execution": {
     "iopub.execute_input": "2024-10-14T04:31:28.262447Z",
     "iopub.status.busy": "2024-10-14T04:31:28.261998Z",
     "iopub.status.idle": "2024-10-14T04:31:28.269302Z",
     "shell.execute_reply": "2024-10-14T04:31:28.268335Z"
    },
    "papermill": {
     "duration": 0.031312,
     "end_time": "2024-10-14T04:31:28.271534",
     "exception": false,
     "start_time": "2024-10-14T04:31:28.240222",
     "status": "completed"
    },
    "tags": []
   },
   "outputs": [
    {
     "data": {
      "text/plain": [
       "Index(['school', 'sex', 'age', 'address', 'famsize', 'Pstatus', 'Medu', 'Fedu',\n",
       "       'Mjob', 'Fjob', 'reason', 'guardian', 'traveltime', 'studytime',\n",
       "       'failures', 'schoolsup', 'famsup', 'paid', 'activities', 'nursery',\n",
       "       'higher', 'internet', 'romantic', 'famrel', 'freetime', 'goout', 'Dalc',\n",
       "       'Walc', 'health', 'absences', 'G1', 'G2', 'G3'],\n",
       "      dtype='object')"
      ]
     },
     "execution_count": 4,
     "metadata": {},
     "output_type": "execute_result"
    }
   ],
   "source": [
    "df.columns"
   ]
  },
  {
   "cell_type": "code",
   "execution_count": 5,
   "id": "23a33dd4",
   "metadata": {
    "execution": {
     "iopub.execute_input": "2024-10-14T04:31:28.314334Z",
     "iopub.status.busy": "2024-10-14T04:31:28.313899Z",
     "iopub.status.idle": "2024-10-14T04:31:28.320425Z",
     "shell.execute_reply": "2024-10-14T04:31:28.319444Z"
    },
    "papermill": {
     "duration": 0.030707,
     "end_time": "2024-10-14T04:31:28.323096",
     "exception": false,
     "start_time": "2024-10-14T04:31:28.292389",
     "status": "completed"
    },
    "tags": []
   },
   "outputs": [
    {
     "data": {
      "text/plain": [
       "(395, 33)"
      ]
     },
     "execution_count": 5,
     "metadata": {},
     "output_type": "execute_result"
    }
   ],
   "source": [
    "df.shape"
   ]
  },
  {
   "cell_type": "code",
   "execution_count": 6,
   "id": "0d0bddd1",
   "metadata": {
    "execution": {
     "iopub.execute_input": "2024-10-14T04:31:28.365531Z",
     "iopub.status.busy": "2024-10-14T04:31:28.364789Z",
     "iopub.status.idle": "2024-10-14T04:31:28.370491Z",
     "shell.execute_reply": "2024-10-14T04:31:28.369255Z"
    },
    "papermill": {
     "duration": 0.03057,
     "end_time": "2024-10-14T04:31:28.374002",
     "exception": false,
     "start_time": "2024-10-14T04:31:28.343432",
     "status": "completed"
    },
    "tags": []
   },
   "outputs": [],
   "source": [
    "data = [\"school\", \"sex\", \"age\", \"address\", \"Medu\", \"Fedu\", \"studytime\", \"activities\", \"romantic\", \"failures\", \"internet\", \"paid\", \"G1\", \"G2\", \"G3\"]"
   ]
  },
  {
   "cell_type": "code",
   "execution_count": null,
   "id": "247393cc",
   "metadata": {
    "papermill": {
     "duration": 0.020216,
     "end_time": "2024-10-14T04:31:28.415106",
     "exception": false,
     "start_time": "2024-10-14T04:31:28.394890",
     "status": "completed"
    },
    "tags": []
   },
   "outputs": [],
   "source": []
  },
  {
   "cell_type": "code",
   "execution_count": 7,
   "id": "59369db5",
   "metadata": {
    "execution": {
     "iopub.execute_input": "2024-10-14T04:31:28.458012Z",
     "iopub.status.busy": "2024-10-14T04:31:28.457580Z",
     "iopub.status.idle": "2024-10-14T04:31:28.475975Z",
     "shell.execute_reply": "2024-10-14T04:31:28.474870Z"
    },
    "papermill": {
     "duration": 0.042177,
     "end_time": "2024-10-14T04:31:28.478265",
     "exception": false,
     "start_time": "2024-10-14T04:31:28.436088",
     "status": "completed"
    },
    "tags": []
   },
   "outputs": [
    {
     "data": {
      "text/html": [
       "<div>\n",
       "<style scoped>\n",
       "    .dataframe tbody tr th:only-of-type {\n",
       "        vertical-align: middle;\n",
       "    }\n",
       "\n",
       "    .dataframe tbody tr th {\n",
       "        vertical-align: top;\n",
       "    }\n",
       "\n",
       "    .dataframe thead th {\n",
       "        text-align: right;\n",
       "    }\n",
       "</style>\n",
       "<table border=\"1\" class=\"dataframe\">\n",
       "  <thead>\n",
       "    <tr style=\"text-align: right;\">\n",
       "      <th></th>\n",
       "      <th>school</th>\n",
       "      <th>sex</th>\n",
       "      <th>age</th>\n",
       "      <th>address</th>\n",
       "      <th>Medu</th>\n",
       "      <th>Fedu</th>\n",
       "      <th>studytime</th>\n",
       "      <th>activities</th>\n",
       "      <th>romantic</th>\n",
       "      <th>failures</th>\n",
       "      <th>internet</th>\n",
       "      <th>paid</th>\n",
       "      <th>G1</th>\n",
       "      <th>G2</th>\n",
       "      <th>G3</th>\n",
       "    </tr>\n",
       "  </thead>\n",
       "  <tbody>\n",
       "    <tr>\n",
       "      <th>0</th>\n",
       "      <td>GP</td>\n",
       "      <td>F</td>\n",
       "      <td>18</td>\n",
       "      <td>U</td>\n",
       "      <td>4</td>\n",
       "      <td>4</td>\n",
       "      <td>2</td>\n",
       "      <td>no</td>\n",
       "      <td>no</td>\n",
       "      <td>0</td>\n",
       "      <td>no</td>\n",
       "      <td>no</td>\n",
       "      <td>5</td>\n",
       "      <td>6</td>\n",
       "      <td>6</td>\n",
       "    </tr>\n",
       "    <tr>\n",
       "      <th>1</th>\n",
       "      <td>GP</td>\n",
       "      <td>F</td>\n",
       "      <td>17</td>\n",
       "      <td>U</td>\n",
       "      <td>1</td>\n",
       "      <td>1</td>\n",
       "      <td>2</td>\n",
       "      <td>no</td>\n",
       "      <td>no</td>\n",
       "      <td>0</td>\n",
       "      <td>yes</td>\n",
       "      <td>no</td>\n",
       "      <td>5</td>\n",
       "      <td>5</td>\n",
       "      <td>6</td>\n",
       "    </tr>\n",
       "    <tr>\n",
       "      <th>2</th>\n",
       "      <td>GP</td>\n",
       "      <td>F</td>\n",
       "      <td>15</td>\n",
       "      <td>U</td>\n",
       "      <td>1</td>\n",
       "      <td>1</td>\n",
       "      <td>2</td>\n",
       "      <td>no</td>\n",
       "      <td>no</td>\n",
       "      <td>3</td>\n",
       "      <td>yes</td>\n",
       "      <td>yes</td>\n",
       "      <td>7</td>\n",
       "      <td>8</td>\n",
       "      <td>10</td>\n",
       "    </tr>\n",
       "    <tr>\n",
       "      <th>3</th>\n",
       "      <td>GP</td>\n",
       "      <td>F</td>\n",
       "      <td>15</td>\n",
       "      <td>U</td>\n",
       "      <td>4</td>\n",
       "      <td>2</td>\n",
       "      <td>3</td>\n",
       "      <td>yes</td>\n",
       "      <td>yes</td>\n",
       "      <td>0</td>\n",
       "      <td>yes</td>\n",
       "      <td>yes</td>\n",
       "      <td>15</td>\n",
       "      <td>14</td>\n",
       "      <td>15</td>\n",
       "    </tr>\n",
       "    <tr>\n",
       "      <th>4</th>\n",
       "      <td>GP</td>\n",
       "      <td>F</td>\n",
       "      <td>16</td>\n",
       "      <td>U</td>\n",
       "      <td>3</td>\n",
       "      <td>3</td>\n",
       "      <td>2</td>\n",
       "      <td>no</td>\n",
       "      <td>no</td>\n",
       "      <td>0</td>\n",
       "      <td>no</td>\n",
       "      <td>yes</td>\n",
       "      <td>6</td>\n",
       "      <td>10</td>\n",
       "      <td>10</td>\n",
       "    </tr>\n",
       "  </tbody>\n",
       "</table>\n",
       "</div>"
      ],
      "text/plain": [
       "  school sex  age address  Medu  Fedu  studytime activities romantic  \\\n",
       "0     GP   F   18       U     4     4          2         no       no   \n",
       "1     GP   F   17       U     1     1          2         no       no   \n",
       "2     GP   F   15       U     1     1          2         no       no   \n",
       "3     GP   F   15       U     4     2          3        yes      yes   \n",
       "4     GP   F   16       U     3     3          2         no       no   \n",
       "\n",
       "   failures internet paid  G1  G2  G3  \n",
       "0         0       no   no   5   6   6  \n",
       "1         0      yes   no   5   5   6  \n",
       "2         3      yes  yes   7   8  10  \n",
       "3         0      yes  yes  15  14  15  \n",
       "4         0       no  yes   6  10  10  "
      ]
     },
     "execution_count": 7,
     "metadata": {},
     "output_type": "execute_result"
    }
   ],
   "source": [
    "student = df[data]\n",
    "student.head()"
   ]
  },
  {
   "cell_type": "code",
   "execution_count": 8,
   "id": "3ef2e531",
   "metadata": {
    "execution": {
     "iopub.execute_input": "2024-10-14T04:31:28.521254Z",
     "iopub.status.busy": "2024-10-14T04:31:28.520808Z",
     "iopub.status.idle": "2024-10-14T04:31:28.530897Z",
     "shell.execute_reply": "2024-10-14T04:31:28.529590Z"
    },
    "papermill": {
     "duration": 0.034485,
     "end_time": "2024-10-14T04:31:28.533361",
     "exception": false,
     "start_time": "2024-10-14T04:31:28.498876",
     "status": "completed"
    },
    "tags": []
   },
   "outputs": [
    {
     "data": {
      "text/plain": [
       "school        0\n",
       "sex           0\n",
       "age           0\n",
       "address       0\n",
       "Medu          0\n",
       "Fedu          0\n",
       "studytime     0\n",
       "activities    0\n",
       "romantic      0\n",
       "failures      0\n",
       "internet      0\n",
       "paid          0\n",
       "G1            0\n",
       "G2            0\n",
       "G3            0\n",
       "dtype: int64"
      ]
     },
     "execution_count": 8,
     "metadata": {},
     "output_type": "execute_result"
    }
   ],
   "source": [
    "# Check for null values\n",
    "student.isna().sum()"
   ]
  },
  {
   "cell_type": "code",
   "execution_count": 9,
   "id": "8e887d4b",
   "metadata": {
    "execution": {
     "iopub.execute_input": "2024-10-14T04:31:28.576565Z",
     "iopub.status.busy": "2024-10-14T04:31:28.576120Z",
     "iopub.status.idle": "2024-10-14T04:31:28.592055Z",
     "shell.execute_reply": "2024-10-14T04:31:28.590888Z"
    },
    "papermill": {
     "duration": 0.04071,
     "end_time": "2024-10-14T04:31:28.594788",
     "exception": false,
     "start_time": "2024-10-14T04:31:28.554078",
     "status": "completed"
    },
    "tags": []
   },
   "outputs": [
    {
     "name": "stdout",
     "output_type": "stream",
     "text": [
      "school: ['GP' 'MS']\n",
      "sex: ['F' 'M']\n",
      "age: [18 17 15 16 19 22 20 21]\n",
      "address: ['U' 'R']\n",
      "Medu: [4 1 3 2 0]\n",
      "Fedu: [4 1 2 3 0]\n",
      "studytime: [2 3 1 4]\n",
      "activities: ['no' 'yes']\n",
      "romantic: ['no' 'yes']\n",
      "failures: [0 3 2 1]\n",
      "internet: ['no' 'yes']\n",
      "paid: ['no' 'yes']\n",
      "G1: [ 5  7 15  6 12 16 14 10 13  8 11  9 17 19 18  4  3]\n",
      "G2: [ 6  5  8 14 10 15 12 18 16 13  9 11  7 19 17  4  0]\n",
      "G3: [ 6 10 15 11 19  9 12 14 16  5  8 17 18 13 20  7  0  4]\n"
     ]
    }
   ],
   "source": [
    "# Check for unique values\n",
    "for col in student.columns:\n",
    "    print(f\"{col}: {student[col].unique()}\")"
   ]
  },
  {
   "cell_type": "code",
   "execution_count": 10,
   "id": "f14221a5",
   "metadata": {
    "execution": {
     "iopub.execute_input": "2024-10-14T04:31:28.638780Z",
     "iopub.status.busy": "2024-10-14T04:31:28.637754Z",
     "iopub.status.idle": "2024-10-14T04:31:28.655335Z",
     "shell.execute_reply": "2024-10-14T04:31:28.654213Z"
    },
    "papermill": {
     "duration": 0.042291,
     "end_time": "2024-10-14T04:31:28.657965",
     "exception": false,
     "start_time": "2024-10-14T04:31:28.615674",
     "status": "completed"
    },
    "tags": []
   },
   "outputs": [
    {
     "name": "stderr",
     "output_type": "stream",
     "text": [
      "/tmp/ipykernel_17/4213476435.py:1: FutureWarning: Setting an item of incompatible dtype is deprecated and will raise in a future error of pandas. Value '['4' '1' '1' '4' '3' '4' '2' '4' '3' '3' '4' '2' '4' '4' '2' '4' '4' '3'\n",
      " '3' '4' '4' '4' '4' '2' '2' '2' '2' '4' '3' '4' '4' '4' '4' '3' '3' '2'\n",
      " '4' '4' '3' '2' '2' '4' '4' '2' '2' '4' '3' '4' '4' '4' '2' '4' '4' '4'\n",
      " '3' '2' '4' '4' '1' '4' '4' '1' '1' '4' '4' '4' '4' '3' '2' '3' '3' '4'\n",
      " '1' '3' '3' '4' '4' '2' '2' '3' '2' '2' '3' '2' '1' '4' '2' '4' '2' '4'\n",
      " '3' '4' '3' '4' '2' '1' '4' '2' '4' '4' '4' '4' '4' '3' '3' '3' '2' '3'\n",
      " '4' '4' '4' '3' '2' '4' '2' '4' '4' '3' '1' '3' '1' '2' '2' '4' '2' '3'\n",
      " '3' '0' '2' '4' '3' '1' '2' '3' '3' '4' '3' '3' '1' '4' '4' '2' '4' '1'\n",
      " '2' '1' '3' '1' '4' '2' '1' '2' '3' '3' '4' '2' '1' '1' '2' '3' '2' '3'\n",
      " '1' '1' '1' '3' '2' '4' '2' '4' '3' '1' '4' '1' '3' '4' '2' '3' '4' '4'\n",
      " '4' '3' '2' '3' '3' '3' '1' '2' '3' '1' '2' '1' '1' '3' '2' '2' '4' '3'\n",
      " '4' '4' '4' '2' '1' '2' '2' '3' '3' '4' '1' '4' '3' '4' '2' '2' '4' '3'\n",
      " '4' '3' '2' '2' '2' '1' '2' '2' '4' '3' '3' '2' '2' '2' '4' '2' '4' '4'\n",
      " '1' '3' '2' '2' '2' '2' '4' '4' '4' '4' '2' '2' '2' '3' '3' '0' '3' '3'\n",
      " '2' '2' '2' '1' '4' '4' '2' '2' '4' '4' '3' '3' '2' '3' '3' '4' '4' '2'\n",
      " '3' '2' '1' '1' '2' '2' '3' '4' '4' '4' '4' '3' '1' '1' '2' '1' '2' '1'\n",
      " '2' '4' '4' '4' '2' '3' '3' '3' '4' '4' '4' '4' '4' '4' '4' '3' '3' '2'\n",
      " '3' '4' '3' '1' '1' '2' '1' '3' '1' '2' '2' '4' '3' '4' '4' '2' '2' '3'\n",
      " '0' '4' '3' '2' '4' '4' '2' '2' '3' '2' '2' '3' '3' '3' '3' '3' '2' '4'\n",
      " '3' '2' '2' '3' '4' '4' '4' '3' '1' '3' '1' '1' '4' '3' '4' '3' '1' '1'\n",
      " '1' '1' '3' '4' '1' '1' '4' '1' '2' '4' '3' '1' '2' '1' '4' '1' '4' '4'\n",
      " '3' '3' '4' '2' '2' '1' '4' '2' '4' '2' '3' '1' '2' '3' '1' '3' '1']' has dtype incompatible with int64, please explicitly cast to a compatible dtype first.\n",
      "  student.loc[:, [\"Medu\", \"Fedu\", \"studytime\"]] = student.loc[:, [\"Medu\", \"Fedu\", \"studytime\"]].astype(str)\n",
      "/tmp/ipykernel_17/4213476435.py:1: FutureWarning: Setting an item of incompatible dtype is deprecated and will raise in a future error of pandas. Value '['4' '1' '1' '2' '3' '3' '2' '4' '2' '4' '4' '1' '4' '3' '2' '4' '4' '3'\n",
      " '2' '3' '3' '4' '2' '2' '4' '2' '2' '2' '4' '4' '4' '4' '3' '3' '2' '3'\n",
      " '3' '4' '4' '2' '2' '4' '4' '2' '2' '3' '3' '3' '2' '4' '2' '2' '2' '4'\n",
      " '3' '1' '3' '4' '2' '2' '4' '1' '2' '3' '3' '3' '4' '1' '2' '1' '1' '2'\n",
      " '1' '1' '3' '3' '0' '2' '1' '4' '3' '3' '2' '2' '1' '4' '2' '2' '2' '4'\n",
      " '3' '3' '1' '2' '2' '1' '3' '1' '4' '3' '4' '4' '4' '2' '4' '3' '2' '3'\n",
      " '4' '4' '4' '3' '2' '2' '1' '4' '4' '3' '3' '4' '2' '2' '4' '4' '2' '4'\n",
      " '4' '1' '2' '4' '4' '1' '2' '4' '4' '4' '4' '3' '1' '4' '3' '2' '4' '1'\n",
      " '1' '1' '2' '2' '4' '1' '1' '1' '3' '2' '4' '3' '2' '1' '2' '3' '1' '2'\n",
      " '2' '3' '1' '2' '2' '2' '2' '4' '4' '0' '4' '3' '3' '3' '2' '3' '2' '3'\n",
      " '3' '3' '4' '3' '2' '3' '2' '1' '3' '2' '3' '1' '2' '3' '3' '4' '4' '3'\n",
      " '4' '4' '3' '3' '1' '2' '2' '4' '1' '3' '1' '3' '3' '4' '2' '2' '4' '2'\n",
      " '3' '3' '3' '2' '1' '1' '3' '2' '4' '1' '2' '3' '1' '1' '3' '2' '4' '4'\n",
      " '1' '2' '2' '1' '1' '2' '3' '4' '3' '4' '1' '1' '3' '1' '3' '2' '2' '3'\n",
      " '1' '1' '1' '1' '2' '3' '1' '2' '3' '3' '2' '3' '2' '4' '1' '4' '2' '1'\n",
      " '3' '3' '1' '2' '4' '2' '2' '4' '4' '3' '1' '2' '1' '1' '2' '1' '2' '1'\n",
      " '1' '4' '2' '3' '1' '1' '2' '3' '4' '3' '3' '4' '4' '4' '2' '2' '3' '4'\n",
      " '2' '4' '3' '1' '2' '1' '2' '2' '1' '3' '1' '3' '4' '4' '3' '2' '2' '1'\n",
      " '2' '4' '3' '2' '4' '4' '2' '4' '3' '2' '2' '4' '1' '2' '3' '2' '1' '4'\n",
      " '4' '2' '3' '2' '3' '3' '3' '2' '1' '3' '3' '1' '3' '3' '4' '2' '1' '1'\n",
      " '4' '1' '3' '4' '2' '3' '4' '1' '3' '4' '2' '2' '2' '2' '4' '1' '2' '4'\n",
      " '3' '1' '4' '1' '3' '1' '2' '2' '4' '3' '1' '1' '2' '1' '1' '2' '1']' has dtype incompatible with int64, please explicitly cast to a compatible dtype first.\n",
      "  student.loc[:, [\"Medu\", \"Fedu\", \"studytime\"]] = student.loc[:, [\"Medu\", \"Fedu\", \"studytime\"]].astype(str)\n",
      "/tmp/ipykernel_17/4213476435.py:1: FutureWarning: Setting an item of incompatible dtype is deprecated and will raise in a future error of pandas. Value '['2' '2' '2' '3' '2' '2' '2' '2' '2' '2' '2' '3' '1' '2' '3' '1' '3' '2'\n",
      " '1' '1' '2' '1' '2' '2' '3' '1' '1' '1' '2' '2' '2' '2' '2' '2' '1' '1'\n",
      " '3' '3' '3' '1' '2' '1' '2' '1' '2' '2' '2' '4' '2' '2' '2' '2' '1' '1'\n",
      " '1' '2' '2' '2' '2' '2' '2' '1' '2' '3' '2' '2' '4' '4' '2' '4' '4' '4'\n",
      " '2' '1' '2' '2' '4' '4' '1' '2' '1' '3' '2' '2' '2' '2' '2' '3' '2' '2'\n",
      " '3' '1' '2' '2' '4' '4' '1' '2' '1' '3' '1' '3' '1' '2' '2' '4' '4' '3'\n",
      " '4' '3' '1' '3' '2' '1' '2' '2' '2' '1' '2' '1' '2' '4' '2' '1' '2' '1'\n",
      " '2' '2' '1' '1' '3' '1' '1' '1' '2' '3' '2' '1' '2' '1' '4' '1' '3' '1'\n",
      " '1' '2' '2' '2' '1' '1' '1' '1' '3' '1' '1' '2' '1' '1' '1' '2' '1' '2'\n",
      " '1' '1' '2' '1' '2' '2' '2' '2' '1' '2' '2' '2' '2' '2' '2' '2' '1' '2'\n",
      " '2' '2' '2' '2' '2' '2' '1' '2' '2' '2' '2' '2' '2' '1' '1' '2' '1' '1'\n",
      " '1' '2' '2' '2' '2' '1' '4' '3' '2' '2' '1' '3' '4' '2' '2' '2' '1' '2'\n",
      " '2' '2' '1' '3' '2' '3' '2' '2' '3' '2' '2' '2' '2' '3' '2' '2' '2' '2'\n",
      " '2' '3' '2' '1' '2' '2' '2' '2' '1' '1' '3' '1' '1' '1' '2' '1' '1' '2'\n",
      " '1' '1' '1' '1' '4' '2' '2' '4' '2' '2' '3' '3' '3' '2' '2' '2' '2' '2'\n",
      " '2' '4' '2' '2' '2' '2' '2' '1' '2' '1' '1' '1' '4' '2' '2' '2' '3' '3'\n",
      " '3' '2' '2' '3' '2' '4' '3' '1' '2' '2' '4' '1' '2' '1' '3' '4' '2' '2'\n",
      " '1' '1' '2' '2' '2' '2' '2' '2' '3' '3' '2' '3' '3' '2' '2' '2' '3' '3'\n",
      " '3' '3' '1' '1' '3' '3' '4' '3' '2' '2' '4' '3' '3' '2' '4' '2' '3' '2'\n",
      " '2' '2' '3' '3' '3' '3' '3' '1' '2' '2' '1' '1' '2' '2' '2' '2' '1' '3'\n",
      " '2' '2' '2' '2' '2' '2' '3' '1' '1' '2' '2' '1' '3' '1' '3' '3' '3' '2'\n",
      " '2' '2' '2' '1' '2' '1' '1' '3' '1' '3' '2' '2' '2' '1' '1' '1' '1']' has dtype incompatible with int64, please explicitly cast to a compatible dtype first.\n",
      "  student.loc[:, [\"Medu\", \"Fedu\", \"studytime\"]] = student.loc[:, [\"Medu\", \"Fedu\", \"studytime\"]].astype(str)\n"
     ]
    }
   ],
   "source": [
    "student.loc[:, [\"Medu\", \"Fedu\", \"studytime\"]] = student.loc[:, [\"Medu\", \"Fedu\", \"studytime\"]].astype(str)"
   ]
  },
  {
   "cell_type": "code",
   "execution_count": 11,
   "id": "0b2b5cd7",
   "metadata": {
    "execution": {
     "iopub.execute_input": "2024-10-14T04:31:28.702276Z",
     "iopub.status.busy": "2024-10-14T04:31:28.701305Z",
     "iopub.status.idle": "2024-10-14T04:31:28.730528Z",
     "shell.execute_reply": "2024-10-14T04:31:28.729495Z"
    },
    "papermill": {
     "duration": 0.054026,
     "end_time": "2024-10-14T04:31:28.732962",
     "exception": false,
     "start_time": "2024-10-14T04:31:28.678936",
     "status": "completed"
    },
    "tags": []
   },
   "outputs": [
    {
     "data": {
      "text/html": [
       "<div>\n",
       "<style scoped>\n",
       "    .dataframe tbody tr th:only-of-type {\n",
       "        vertical-align: middle;\n",
       "    }\n",
       "\n",
       "    .dataframe tbody tr th {\n",
       "        vertical-align: top;\n",
       "    }\n",
       "\n",
       "    .dataframe thead th {\n",
       "        text-align: right;\n",
       "    }\n",
       "</style>\n",
       "<table border=\"1\" class=\"dataframe\">\n",
       "  <thead>\n",
       "    <tr style=\"text-align: right;\">\n",
       "      <th></th>\n",
       "      <th>age</th>\n",
       "      <th>failures</th>\n",
       "      <th>G1</th>\n",
       "      <th>G2</th>\n",
       "      <th>G3</th>\n",
       "    </tr>\n",
       "  </thead>\n",
       "  <tbody>\n",
       "    <tr>\n",
       "      <th>count</th>\n",
       "      <td>395.000000</td>\n",
       "      <td>395.000000</td>\n",
       "      <td>395.000000</td>\n",
       "      <td>395.000000</td>\n",
       "      <td>395.000000</td>\n",
       "    </tr>\n",
       "    <tr>\n",
       "      <th>mean</th>\n",
       "      <td>16.696203</td>\n",
       "      <td>0.334177</td>\n",
       "      <td>10.908861</td>\n",
       "      <td>10.713924</td>\n",
       "      <td>10.415190</td>\n",
       "    </tr>\n",
       "    <tr>\n",
       "      <th>std</th>\n",
       "      <td>1.276043</td>\n",
       "      <td>0.743651</td>\n",
       "      <td>3.319195</td>\n",
       "      <td>3.761505</td>\n",
       "      <td>4.581443</td>\n",
       "    </tr>\n",
       "    <tr>\n",
       "      <th>min</th>\n",
       "      <td>15.000000</td>\n",
       "      <td>0.000000</td>\n",
       "      <td>3.000000</td>\n",
       "      <td>0.000000</td>\n",
       "      <td>0.000000</td>\n",
       "    </tr>\n",
       "    <tr>\n",
       "      <th>25%</th>\n",
       "      <td>16.000000</td>\n",
       "      <td>0.000000</td>\n",
       "      <td>8.000000</td>\n",
       "      <td>9.000000</td>\n",
       "      <td>8.000000</td>\n",
       "    </tr>\n",
       "    <tr>\n",
       "      <th>50%</th>\n",
       "      <td>17.000000</td>\n",
       "      <td>0.000000</td>\n",
       "      <td>11.000000</td>\n",
       "      <td>11.000000</td>\n",
       "      <td>11.000000</td>\n",
       "    </tr>\n",
       "    <tr>\n",
       "      <th>75%</th>\n",
       "      <td>18.000000</td>\n",
       "      <td>0.000000</td>\n",
       "      <td>13.000000</td>\n",
       "      <td>13.000000</td>\n",
       "      <td>14.000000</td>\n",
       "    </tr>\n",
       "    <tr>\n",
       "      <th>max</th>\n",
       "      <td>22.000000</td>\n",
       "      <td>3.000000</td>\n",
       "      <td>19.000000</td>\n",
       "      <td>19.000000</td>\n",
       "      <td>20.000000</td>\n",
       "    </tr>\n",
       "  </tbody>\n",
       "</table>\n",
       "</div>"
      ],
      "text/plain": [
       "              age    failures          G1          G2          G3\n",
       "count  395.000000  395.000000  395.000000  395.000000  395.000000\n",
       "mean    16.696203    0.334177   10.908861   10.713924   10.415190\n",
       "std      1.276043    0.743651    3.319195    3.761505    4.581443\n",
       "min     15.000000    0.000000    3.000000    0.000000    0.000000\n",
       "25%     16.000000    0.000000    8.000000    9.000000    8.000000\n",
       "50%     17.000000    0.000000   11.000000   11.000000   11.000000\n",
       "75%     18.000000    0.000000   13.000000   13.000000   14.000000\n",
       "max     22.000000    3.000000   19.000000   19.000000   20.000000"
      ]
     },
     "execution_count": 11,
     "metadata": {},
     "output_type": "execute_result"
    }
   ],
   "source": [
    "student.describe()"
   ]
  },
  {
   "cell_type": "code",
   "execution_count": 12,
   "id": "e1fb0181",
   "metadata": {
    "execution": {
     "iopub.execute_input": "2024-10-14T04:31:28.777500Z",
     "iopub.status.busy": "2024-10-14T04:31:28.777102Z",
     "iopub.status.idle": "2024-10-14T04:31:28.810306Z",
     "shell.execute_reply": "2024-10-14T04:31:28.809243Z"
    },
    "papermill": {
     "duration": 0.058499,
     "end_time": "2024-10-14T04:31:28.812817",
     "exception": false,
     "start_time": "2024-10-14T04:31:28.754318",
     "status": "completed"
    },
    "tags": []
   },
   "outputs": [
    {
     "data": {
      "text/html": [
       "<div>\n",
       "<style scoped>\n",
       "    .dataframe tbody tr th:only-of-type {\n",
       "        vertical-align: middle;\n",
       "    }\n",
       "\n",
       "    .dataframe tbody tr th {\n",
       "        vertical-align: top;\n",
       "    }\n",
       "\n",
       "    .dataframe thead th {\n",
       "        text-align: right;\n",
       "    }\n",
       "</style>\n",
       "<table border=\"1\" class=\"dataframe\">\n",
       "  <thead>\n",
       "    <tr style=\"text-align: right;\">\n",
       "      <th></th>\n",
       "      <th>school</th>\n",
       "      <th>sex</th>\n",
       "      <th>address</th>\n",
       "      <th>Medu</th>\n",
       "      <th>Fedu</th>\n",
       "      <th>studytime</th>\n",
       "      <th>activities</th>\n",
       "      <th>romantic</th>\n",
       "      <th>internet</th>\n",
       "      <th>paid</th>\n",
       "    </tr>\n",
       "  </thead>\n",
       "  <tbody>\n",
       "    <tr>\n",
       "      <th>count</th>\n",
       "      <td>395</td>\n",
       "      <td>395</td>\n",
       "      <td>395</td>\n",
       "      <td>395</td>\n",
       "      <td>395</td>\n",
       "      <td>395</td>\n",
       "      <td>395</td>\n",
       "      <td>395</td>\n",
       "      <td>395</td>\n",
       "      <td>395</td>\n",
       "    </tr>\n",
       "    <tr>\n",
       "      <th>unique</th>\n",
       "      <td>2</td>\n",
       "      <td>2</td>\n",
       "      <td>2</td>\n",
       "      <td>5</td>\n",
       "      <td>5</td>\n",
       "      <td>4</td>\n",
       "      <td>2</td>\n",
       "      <td>2</td>\n",
       "      <td>2</td>\n",
       "      <td>2</td>\n",
       "    </tr>\n",
       "    <tr>\n",
       "      <th>top</th>\n",
       "      <td>GP</td>\n",
       "      <td>F</td>\n",
       "      <td>U</td>\n",
       "      <td>4</td>\n",
       "      <td>2</td>\n",
       "      <td>2</td>\n",
       "      <td>yes</td>\n",
       "      <td>no</td>\n",
       "      <td>yes</td>\n",
       "      <td>no</td>\n",
       "    </tr>\n",
       "    <tr>\n",
       "      <th>freq</th>\n",
       "      <td>349</td>\n",
       "      <td>208</td>\n",
       "      <td>307</td>\n",
       "      <td>131</td>\n",
       "      <td>115</td>\n",
       "      <td>198</td>\n",
       "      <td>201</td>\n",
       "      <td>263</td>\n",
       "      <td>329</td>\n",
       "      <td>214</td>\n",
       "    </tr>\n",
       "  </tbody>\n",
       "</table>\n",
       "</div>"
      ],
      "text/plain": [
       "       school  sex address Medu Fedu studytime activities romantic internet  \\\n",
       "count     395  395     395  395  395       395        395      395      395   \n",
       "unique      2    2       2    5    5         4          2        2        2   \n",
       "top        GP    F       U    4    2         2        yes       no      yes   \n",
       "freq      349  208     307  131  115       198        201      263      329   \n",
       "\n",
       "       paid  \n",
       "count   395  \n",
       "unique    2  \n",
       "top      no  \n",
       "freq    214  "
      ]
     },
     "execution_count": 12,
     "metadata": {},
     "output_type": "execute_result"
    }
   ],
   "source": [
    "student.describe(include=\"object\")"
   ]
  },
  {
   "cell_type": "markdown",
   "id": "ee169d90",
   "metadata": {
    "papermill": {
     "duration": 0.021296,
     "end_time": "2024-10-14T04:31:28.856023",
     "exception": false,
     "start_time": "2024-10-14T04:31:28.834727",
     "status": "completed"
    },
    "tags": []
   },
   "source": [
    "# Data Visualization"
   ]
  },
  {
   "cell_type": "code",
   "execution_count": 13,
   "id": "25426dfe",
   "metadata": {
    "execution": {
     "iopub.execute_input": "2024-10-14T04:31:28.901492Z",
     "iopub.status.busy": "2024-10-14T04:31:28.900470Z",
     "iopub.status.idle": "2024-10-14T04:31:28.907316Z",
     "shell.execute_reply": "2024-10-14T04:31:28.906115Z"
    },
    "papermill": {
     "duration": 0.031885,
     "end_time": "2024-10-14T04:31:28.909558",
     "exception": false,
     "start_time": "2024-10-14T04:31:28.877673",
     "status": "completed"
    },
    "tags": []
   },
   "outputs": [],
   "source": [
    "student_num = student[[\"age\", \"failures\", \"G1\", \"G2\", \"G3\"]]"
   ]
  },
  {
   "cell_type": "markdown",
   "id": "c7400f48",
   "metadata": {
    "papermill": {
     "duration": 0.021341,
     "end_time": "2024-10-14T04:31:28.952357",
     "exception": false,
     "start_time": "2024-10-14T04:31:28.931016",
     "status": "completed"
    },
    "tags": []
   },
   "source": [
    "## Histograms\n",
    "To understand data distribution"
   ]
  },
  {
   "cell_type": "code",
   "execution_count": 14,
   "id": "db867f64",
   "metadata": {
    "execution": {
     "iopub.execute_input": "2024-10-14T04:31:28.997598Z",
     "iopub.status.busy": "2024-10-14T04:31:28.996628Z",
     "iopub.status.idle": "2024-10-14T04:31:30.559974Z",
     "shell.execute_reply": "2024-10-14T04:31:30.558922Z"
    },
    "papermill": {
     "duration": 1.588603,
     "end_time": "2024-10-14T04:31:30.562500",
     "exception": false,
     "start_time": "2024-10-14T04:31:28.973897",
     "status": "completed"
    },
    "tags": []
   },
   "outputs": [
    {
     "name": "stdout",
     "output_type": "stream",
     "text": [
      "Age mean: 16.6962\n"
     ]
    },
    {
     "data": {
      "image/png": "[encoded data removed]",
      "text/plain": [
       "<Figure size 640x480 with 1 Axes>"
      ]
     },
     "metadata": {},
     "output_type": "display_data"
    },
    {
     "name": "stdout",
     "output_type": "stream",
     "text": [
      "Failures mean: 0.3342\n"
     ]
    },
    {
     "data": {
      "image/png": "[encoded data removed]",
      "text/plain": [
       "<Figure size 640x480 with 1 Axes>"
      ]
     },
     "metadata": {},
     "output_type": "display_data"
    },
    {
     "name": "stdout",
     "output_type": "stream",
     "text": [
      "G1 mean: 10.9089\n"
     ]
    },
    {
     "data": {
      "image/png": "[encoded data removed]",
      "text/plain": [
       "<Figure size 640x480 with 1 Axes>"
      ]
     },
     "metadata": {},
     "output_type": "display_data"
    },
    {
     "name": "stdout",
     "output_type": "stream",
     "text": [
      "G2 mean: 10.7139\n"
     ]
    },
    {
     "data": {
      "image/png": "[encoded data removed]",
      "text/plain": [
       "<Figure size 640x480 with 1 Axes>"
      ]
     },
     "metadata": {},
     "output_type": "display_data"
    },
    {
     "name": "stdout",
     "output_type": "stream",
     "text": [
      "G3 mean: 10.4152\n"
     ]
    },
    {
     "data": {
      "image/png": "[encoded data removed]",
      "text/plain": [
       "<Figure size 640x480 with 1 Axes>"
      ]
     },
     "metadata": {},
     "output_type": "display_data"
    }
   ],
   "source": [
    "for col in student_num.columns:\n",
    "    mean = student[col].mean()\n",
    "    print(f\"{col.capitalize()} mean: {round(mean, 4)}\")\n",
    "    student_num[col].plot(kind=\"hist\", xlabel=col)\n",
    "#     student_num[col].plot(kind=\"density\")\n",
    "    plt.axvline(mean, color=\"red\", label=\"Mean\")\n",
    "    plt.legend()\n",
    "    plt.show()"
   ]
  },
  {
   "cell_type": "markdown",
   "id": "70241e8f",
   "metadata": {
    "papermill": {
     "duration": 0.02355,
     "end_time": "2024-10-14T04:31:30.610560",
     "exception": false,
     "start_time": "2024-10-14T04:31:30.587010",
     "status": "completed"
    },
    "tags": []
   },
   "source": [
    "## Boxplots\n",
    "For outlier detection and spread of data"
   ]
  },
  {
   "cell_type": "code",
   "execution_count": 15,
   "id": "bef6b854",
   "metadata": {
    "execution": {
     "iopub.execute_input": "2024-10-14T04:31:30.660075Z",
     "iopub.status.busy": "2024-10-14T04:31:30.659636Z",
     "iopub.status.idle": "2024-10-14T04:31:30.869534Z",
     "shell.execute_reply": "2024-10-14T04:31:30.868041Z"
    },
    "papermill": {
     "duration": 0.237574,
     "end_time": "2024-10-14T04:31:30.872016",
     "exception": false,
     "start_time": "2024-10-14T04:31:30.634442",
     "status": "completed"
    },
    "tags": []
   },
   "outputs": [
    {
     "data": {
      "image/png": "[encoded data removed]",
      "text/plain": [
       "<Figure size 640x480 with 1 Axes>"
      ]
     },
     "metadata": {},
     "output_type": "display_data"
    },
    {
     "name": "stdout",
     "output_type": "stream",
     "text": [
      "age\n",
      "22     1\n",
      "Name: count, dtype: int64\n",
      "\n",
      "failures\n",
      "1           50\n",
      "2           17\n",
      "3           16\n",
      "Name: count, dtype: int64\n",
      "\n",
      "G1: No outliers\n",
      "\n",
      "G2\n",
      "0     13\n",
      "Name: count, dtype: int64\n",
      "\n",
      "G3: No outliers\n",
      "\n"
     ]
    }
   ],
   "source": [
    "box = student_num.plot(kind=\"box\")\n",
    "plt.show()\n",
    "\n",
    "for col in student_num.columns:\n",
    "    q1, q3 = student_num[col].quantile(.25), student_num[col].quantile(.75)\n",
    "    iqr = q3 - q1\n",
    "    lower_bound, upper_bound = q1 - 1.5 * iqr, q3 + 1.5 * iqr\n",
    "    outlier = pd.DataFrame(student_num.loc[(student_num[col]<lower_bound) | (student_num[col]>upper_bound), col])\n",
    "    \n",
    "    if not outlier.empty:\n",
    "        print(outlier.value_counts())\n",
    "        print()\n",
    "    else: \n",
    "        print(f\"{col}: No outliers\\n\")\n",
    "        "
   ]
  },
  {
   "cell_type": "markdown",
   "id": "8917926c",
   "metadata": {
    "papermill": {
     "duration": 0.023979,
     "end_time": "2024-10-14T04:31:30.920432",
     "exception": false,
     "start_time": "2024-10-14T04:31:30.896453",
     "status": "completed"
    },
    "tags": []
   },
   "source": [
    "## Bar Charts\n",
    "To compare averages in each categories"
   ]
  },
  {
   "cell_type": "code",
   "execution_count": 16,
   "id": "1f69fe5a",
   "metadata": {
    "execution": {
     "iopub.execute_input": "2024-10-14T04:31:30.970809Z",
     "iopub.status.busy": "2024-10-14T04:31:30.970365Z",
     "iopub.status.idle": "2024-10-14T04:31:30.992670Z",
     "shell.execute_reply": "2024-10-14T04:31:30.991536Z"
    },
    "papermill": {
     "duration": 0.050516,
     "end_time": "2024-10-14T04:31:30.995083",
     "exception": false,
     "start_time": "2024-10-14T04:31:30.944567",
     "status": "completed"
    },
    "tags": []
   },
   "outputs": [
    {
     "data": {
      "text/html": [
       "<div>\n",
       "<style scoped>\n",
       "    .dataframe tbody tr th:only-of-type {\n",
       "        vertical-align: middle;\n",
       "    }\n",
       "\n",
       "    .dataframe tbody tr th {\n",
       "        vertical-align: top;\n",
       "    }\n",
       "\n",
       "    .dataframe thead th {\n",
       "        text-align: right;\n",
       "    }\n",
       "</style>\n",
       "<table border=\"1\" class=\"dataframe\">\n",
       "  <thead>\n",
       "    <tr style=\"text-align: right;\">\n",
       "      <th></th>\n",
       "      <th>school</th>\n",
       "      <th>sex</th>\n",
       "      <th>address</th>\n",
       "      <th>Medu</th>\n",
       "      <th>Fedu</th>\n",
       "      <th>studytime</th>\n",
       "      <th>activities</th>\n",
       "      <th>romantic</th>\n",
       "      <th>internet</th>\n",
       "      <th>paid</th>\n",
       "      <th>overall_avg</th>\n",
       "    </tr>\n",
       "  </thead>\n",
       "  <tbody>\n",
       "    <tr>\n",
       "      <th>0</th>\n",
       "      <td>GP</td>\n",
       "      <td>F</td>\n",
       "      <td>U</td>\n",
       "      <td>4</td>\n",
       "      <td>4</td>\n",
       "      <td>2</td>\n",
       "      <td>no</td>\n",
       "      <td>no</td>\n",
       "      <td>no</td>\n",
       "      <td>no</td>\n",
       "      <td>5.666667</td>\n",
       "    </tr>\n",
       "    <tr>\n",
       "      <th>1</th>\n",
       "      <td>GP</td>\n",
       "      <td>F</td>\n",
       "      <td>U</td>\n",
       "      <td>1</td>\n",
       "      <td>1</td>\n",
       "      <td>2</td>\n",
       "      <td>no</td>\n",
       "      <td>no</td>\n",
       "      <td>yes</td>\n",
       "      <td>no</td>\n",
       "      <td>5.333333</td>\n",
       "    </tr>\n",
       "    <tr>\n",
       "      <th>2</th>\n",
       "      <td>GP</td>\n",
       "      <td>F</td>\n",
       "      <td>U</td>\n",
       "      <td>1</td>\n",
       "      <td>1</td>\n",
       "      <td>2</td>\n",
       "      <td>no</td>\n",
       "      <td>no</td>\n",
       "      <td>yes</td>\n",
       "      <td>yes</td>\n",
       "      <td>8.333333</td>\n",
       "    </tr>\n",
       "    <tr>\n",
       "      <th>3</th>\n",
       "      <td>GP</td>\n",
       "      <td>F</td>\n",
       "      <td>U</td>\n",
       "      <td>4</td>\n",
       "      <td>2</td>\n",
       "      <td>3</td>\n",
       "      <td>yes</td>\n",
       "      <td>yes</td>\n",
       "      <td>yes</td>\n",
       "      <td>yes</td>\n",
       "      <td>14.666667</td>\n",
       "    </tr>\n",
       "    <tr>\n",
       "      <th>4</th>\n",
       "      <td>GP</td>\n",
       "      <td>F</td>\n",
       "      <td>U</td>\n",
       "      <td>3</td>\n",
       "      <td>3</td>\n",
       "      <td>2</td>\n",
       "      <td>no</td>\n",
       "      <td>no</td>\n",
       "      <td>no</td>\n",
       "      <td>yes</td>\n",
       "      <td>8.666667</td>\n",
       "    </tr>\n",
       "  </tbody>\n",
       "</table>\n",
       "</div>"
      ],
      "text/plain": [
       "  school sex address Medu Fedu studytime activities romantic internet paid  \\\n",
       "0     GP   F       U    4    4         2         no       no       no   no   \n",
       "1     GP   F       U    1    1         2         no       no      yes   no   \n",
       "2     GP   F       U    1    1         2         no       no      yes  yes   \n",
       "3     GP   F       U    4    2         3        yes      yes      yes  yes   \n",
       "4     GP   F       U    3    3         2         no       no       no  yes   \n",
       "\n",
       "   overall_avg  \n",
       "0     5.666667  \n",
       "1     5.333333  \n",
       "2     8.333333  \n",
       "3    14.666667  \n",
       "4     8.666667  "
      ]
     },
     "execution_count": 16,
     "metadata": {},
     "output_type": "execute_result"
    }
   ],
   "source": [
    "cat_cols = [\"school\", \"sex\", \"address\", \"Medu\", \"Fedu\", \"studytime\", \"activities\", \"romantic\", \"internet\", \"paid\"]\n",
    "student_cat = student[cat_cols].astype(str)\n",
    "\n",
    "overall_avg = (student.G1 + student.G2 + student.G3) / 3\n",
    "\n",
    "student_cat_avg = pd.concat([student_cat, overall_avg.rename(\"overall_avg\")], axis=1)\n",
    "\n",
    "student_cat_avg.head()"
   ]
  },
  {
   "cell_type": "code",
   "execution_count": 17,
   "id": "8f6818e1",
   "metadata": {
    "execution": {
     "iopub.execute_input": "2024-10-14T04:31:31.048497Z",
     "iopub.status.busy": "2024-10-14T04:31:31.047371Z",
     "iopub.status.idle": "2024-10-14T04:31:31.069452Z",
     "shell.execute_reply": "2024-10-14T04:31:31.068339Z"
    },
    "papermill": {
     "duration": 0.051527,
     "end_time": "2024-10-14T04:31:31.072147",
     "exception": false,
     "start_time": "2024-10-14T04:31:31.020620",
     "status": "completed"
    },
    "tags": []
   },
   "outputs": [],
   "source": [
    "# Aggregate \n",
    "avg_school = student_cat_avg.groupby(\"school\")[\"overall_avg\"].mean()\n",
    "avg_sex = student_cat_avg.groupby(\"sex\")[\"overall_avg\"].mean()\n",
    "avg_address = student_cat_avg.groupby(\"address\")[\"overall_avg\"].mean()\n",
    "avg_Medu = student_cat_avg.groupby(\"Medu\")[\"overall_avg\"].mean()\n",
    "avg_Fedu = student_cat_avg.groupby(\"Fedu\")[\"overall_avg\"].mean()\n",
    "avg_studytime = student_cat_avg.groupby(\"studytime\")[\"overall_avg\"].mean()\n",
    "avg_activities = student_cat_avg.groupby(\"activities\")[\"overall_avg\"].mean()\n",
    "avg_romantic = student_cat_avg.groupby(\"romantic\")[\"overall_avg\"].mean()\n",
    "avg_internet = student_cat_avg.groupby(\"internet\")[\"overall_avg\"].mean()\n",
    "avg_paid = student_cat_avg.groupby(\"paid\")[\"overall_avg\"].mean()\n",
    "\n",
    "avg_cats = [avg_school, avg_sex, avg_address, avg_Medu, avg_Fedu, avg_studytime, avg_activities, avg_romantic, avg_internet, avg_paid]\n",
    "\n",
    "for i in range(len(avg_cats)):\n",
    "    avg_cats[i].name = cat_cols[i]"
   ]
  },
  {
   "cell_type": "code",
   "execution_count": 18,
   "id": "27c266bb",
   "metadata": {
    "execution": {
     "iopub.execute_input": "2024-10-14T04:31:31.124359Z",
     "iopub.status.busy": "2024-10-14T04:31:31.123871Z",
     "iopub.status.idle": "2024-10-14T04:31:33.234499Z",
     "shell.execute_reply": "2024-10-14T04:31:33.233381Z"
    },
    "papermill": {
     "duration": 2.139406,
     "end_time": "2024-10-14T04:31:33.236869",
     "exception": false,
     "start_time": "2024-10-14T04:31:31.097463",
     "status": "completed"
    },
    "tags": []
   },
   "outputs": [
    {
     "data": {
      "image/png": "[encoded data removed]",
      "text/plain": [
       "<Figure size 640x480 with 1 Axes>"
      ]
     },
     "metadata": {},
     "output_type": "display_data"
    },
    {
     "data": {
      "image/png": "[encoded data removed]",
      "text/plain": [
       "<Figure size 640x480 with 1 Axes>"
      ]
     },
     "metadata": {},
     "output_type": "display_data"
    },
    {
     "data": {
      "image/png": "[encoded data removed]",
      "text/plain": [
       "<Figure size 640x480 with 1 Axes>"
      ]
     },
     "metadata": {},
     "output_type": "display_data"
    },
    {
     "data": {
      "image/png": "[encoded data removed]",
      "text/plain": [
       "<Figure size 640x480 with 1 Axes>"
      ]
     },
     "metadata": {},
     "output_type": "display_data"
    },
    {
     "data": {
      "image/png": "[encoded data removed]",
      "text/plain": [
       "<Figure size 640x480 with 1 Axes>"
      ]
     },
     "metadata": {},
     "output_type": "display_data"
    },
    {
     "data": {
      "image/png": "[encoded data removed]",
      "text/plain": [
       "<Figure size 640x480 with 1 Axes>"
      ]
     },
     "metadata": {},
     "output_type": "display_data"
    },
    {
     "data": {
      "image/png": "[encoded data removed]",
      "text/plain": [
       "<Figure size 640x480 with 1 Axes>"
      ]
     },
     "metadata": {},
     "output_type": "display_data"
    },
    {
     "data": {
      "image/png": "[encoded data removed]",
      "text/plain": [
       "<Figure size 640x480 with 1 Axes>"
      ]
     },
     "metadata": {},
     "output_type": "display_data"
    },
    {
     "data": {
      "image/png": "[encoded data removed]",
      "text/plain": [
       "<Figure size 640x480 with 1 Axes>"
      ]
     },
     "metadata": {},
     "output_type": "display_data"
    },
    {
     "data": {
      "image/png": "[encoded data removed]",
      "text/plain": [
       "<Figure size 640x480 with 1 Axes>"
      ]
     },
     "metadata": {},
     "output_type": "display_data"
    }
   ],
   "source": [
    "for col in avg_cats:\n",
    "    col.plot(kind=\"bar\", ylabel=\"overall average\", xlabel=\"\")\n",
    "    plt.title(col.name.capitalize())\n",
    "    plt.show()"
   ]
  },
  {
   "cell_type": "markdown",
   "id": "8f235cb5",
   "metadata": {
    "papermill": {
     "duration": 0.029201,
     "end_time": "2024-10-14T04:31:33.294492",
     "exception": false,
     "start_time": "2024-10-14T04:31:33.265291",
     "status": "completed"
    },
    "tags": []
   },
   "source": [
    "# Statistical Tests"
   ]
  },
  {
   "cell_type": "markdown",
   "id": "aad7a781",
   "metadata": {
    "papermill": {
     "duration": 0.027266,
     "end_time": "2024-10-14T04:31:33.349455",
     "exception": false,
     "start_time": "2024-10-14T04:31:33.322189",
     "status": "completed"
    },
    "tags": []
   },
   "source": [
    "## Chi-Square Test of Independence"
   ]
  },
  {
   "cell_type": "code",
   "execution_count": 19,
   "id": "8035a2f2",
   "metadata": {
    "execution": {
     "iopub.execute_input": "2024-10-14T04:31:33.408779Z",
     "iopub.status.busy": "2024-10-14T04:31:33.407963Z",
     "iopub.status.idle": "2024-10-14T04:31:33.415466Z",
     "shell.execute_reply": "2024-10-14T04:31:33.414490Z"
    },
    "papermill": {
     "duration": 0.040368,
     "end_time": "2024-10-14T04:31:33.417704",
     "exception": false,
     "start_time": "2024-10-14T04:31:33.377336",
     "status": "completed"
    },
    "tags": []
   },
   "outputs": [
    {
     "data": {
      "text/plain": [
       "Index(['school', 'sex', 'address', 'Medu', 'Fedu', 'studytime', 'activities',\n",
       "       'romantic', 'internet', 'paid'],\n",
       "      dtype='object')"
      ]
     },
     "execution_count": 19,
     "metadata": {},
     "output_type": "execute_result"
    }
   ],
   "source": [
    "student_cat.columns"
   ]
  },
  {
   "cell_type": "code",
   "execution_count": 20,
   "id": "84c2c300",
   "metadata": {
    "execution": {
     "iopub.execute_input": "2024-10-14T04:31:33.476559Z",
     "iopub.status.busy": "2024-10-14T04:31:33.476124Z",
     "iopub.status.idle": "2024-10-14T04:31:33.484110Z",
     "shell.execute_reply": "2024-10-14T04:31:33.482951Z"
    },
    "papermill": {
     "duration": 0.039845,
     "end_time": "2024-10-14T04:31:33.486471",
     "exception": false,
     "start_time": "2024-10-14T04:31:33.446626",
     "status": "completed"
    },
    "tags": []
   },
   "outputs": [],
   "source": [
    "from scipy.stats import chi2_contingency\n",
    "\n",
    "def chi_square(col_1, col_2, display=True):\n",
    "    \"\"\"\n",
    "    Calculates the chi-square stats\n",
    "    \n",
    "    parameters:\n",
    "    col1: DataFrame column\n",
    "    col2: DataFrame column\n",
    "    \n",
    "    returns:\n",
    "    chi2: chi-square stat\n",
    "    p: p-value\n",
    "    dof: degrees of freedom\n",
    "    expected: expected frequencies\n",
    "    \n",
    "    \"\"\"\n",
    "    contingency_table = pd.crosstab(col_1, col_2)\n",
    "    chi2, p, dof, expected = chi2_contingency(contingency_table)\n",
    "    contingency_table.reset_index(drop=True, inplace=True)\n",
    "    if display:\n",
    "        print(f\"Chi2 : {chi2}\")\n",
    "        print(f\"p-value : {p}\")\n",
    "        print(f\"Degrees of freedom : {dof}\")\n",
    "        \n",
    "    \n",
    "    return contingency_table, chi2, p, dof, expected"
   ]
  },
  {
   "cell_type": "code",
   "execution_count": 21,
   "id": "90a65c81",
   "metadata": {
    "execution": {
     "iopub.execute_input": "2024-10-14T04:31:33.544320Z",
     "iopub.status.busy": "2024-10-14T04:31:33.543573Z",
     "iopub.status.idle": "2024-10-14T04:31:33.601275Z",
     "shell.execute_reply": "2024-10-14T04:31:33.600094Z"
    },
    "papermill": {
     "duration": 0.089673,
     "end_time": "2024-10-14T04:31:33.604074",
     "exception": false,
     "start_time": "2024-10-14T04:31:33.514401",
     "status": "completed"
    },
    "tags": []
   },
   "outputs": [
    {
     "name": "stdout",
     "output_type": "stream",
     "text": [
      "Level of significance: .05\n",
      "\n",
      "Address and StudyTime Chi-square test of Independence\n",
      "Chi2 : 5.159194559457368\n",
      "p-value : 0.16050445310206335\n",
      "Degrees of freedom : 3\n",
      "\n",
      "Romantic and StudyTime Chi-square test of Independence\n",
      "Chi2 : 10.664622810031268\n",
      "p-value : 0.013684756707976984\n",
      "Degrees of freedom : 3\n",
      "\n",
      "Romantic and Activities Chi-square test of Independence\n",
      "Chi2 : 0.08057773757642686\n",
      "p-value : 0.776516000281584\n",
      "Degrees of freedom : 1\n",
      "\n",
      "Paid and Internet Chi-square test of Independence\n",
      "Chi2 : 8.456941510245814\n",
      "p-value : 0.0036365285097773137\n",
      "Degrees of freedom : 1\n",
      "\n",
      "Medu and Paid Chi-square test of Independence\n",
      "Chi2 : 13.827582301676538\n",
      "p-value : 0.00786616838858245\n",
      "Degrees of freedom : 4\n",
      "\n",
      "Fedu and Paid Chi-square test of Independence\n",
      "Chi2 : 5.686558139421179\n",
      "p-value : 0.2238110425669106\n",
      "Degrees of freedom : 4\n"
     ]
    }
   ],
   "source": [
    "print(\"Level of significance: .05\\n\")\n",
    "\n",
    "print(\"Address and StudyTime Chi-square test of Independence\")\n",
    "table1, chi1, p1, dof1, expected1 = chi_square(student_cat.address, student_cat.studytime)\n",
    "\n",
    "print()\n",
    "\n",
    "print(\"Romantic and StudyTime Chi-square test of Independence\")\n",
    "table2, chi2, p2, dof2, expected2 = chi_square(student_cat.romantic, student_cat.studytime)\n",
    "\n",
    "print()\n",
    "\n",
    "print(\"Romantic and Activities Chi-square test of Independence\")\n",
    "table3, chi3, p3, dof3, expected3 = chi_square(student_cat.romantic, student_cat.activities)\n",
    "\n",
    "print()\n",
    "\n",
    "print(\"Paid and Internet Chi-square test of Independence\")\n",
    "table4, chi4, p4, dof4, expected4 = chi_square(student_cat.paid, student_cat.internet)\n",
    "\n",
    "print()\n",
    "\n",
    "print(\"Medu and Paid Chi-square test of Independence\")\n",
    "table5, chi5, p5, dof5, expected5 = chi_square(student_cat.paid, student_cat.Medu)\n",
    "\n",
    "print()\n",
    "\n",
    "print(\"Fedu and Paid Chi-square test of Independence\")\n",
    "table6, chi6, p6, dof6, expected6 = chi_square(student_cat.paid, student_cat.Fedu)\n"
   ]
  },
  {
   "cell_type": "markdown",
   "id": "5221eabd",
   "metadata": {
    "papermill": {
     "duration": 0.028061,
     "end_time": "2024-10-14T04:31:33.660416",
     "exception": false,
     "start_time": "2024-10-14T04:31:33.632355",
     "status": "completed"
    },
    "tags": []
   },
   "source": [
    "### Relationship - Studytime association"
   ]
  },
  {
   "cell_type": "code",
   "execution_count": 22,
   "id": "8c0799ba",
   "metadata": {
    "execution": {
     "iopub.execute_input": "2024-10-14T04:31:33.718951Z",
     "iopub.status.busy": "2024-10-14T04:31:33.718126Z",
     "iopub.status.idle": "2024-10-14T04:31:33.731688Z",
     "shell.execute_reply": "2024-10-14T04:31:33.730420Z"
    },
    "papermill": {
     "duration": 0.045371,
     "end_time": "2024-10-14T04:31:33.733897",
     "exception": false,
     "start_time": "2024-10-14T04:31:33.688526",
     "status": "completed"
    },
    "tags": []
   },
   "outputs": [
    {
     "data": {
      "text/html": [
       "<div>\n",
       "<style scoped>\n",
       "    .dataframe tbody tr th:only-of-type {\n",
       "        vertical-align: middle;\n",
       "    }\n",
       "\n",
       "    .dataframe tbody tr th {\n",
       "        vertical-align: top;\n",
       "    }\n",
       "\n",
       "    .dataframe thead th {\n",
       "        text-align: right;\n",
       "    }\n",
       "</style>\n",
       "<table border=\"1\" class=\"dataframe\">\n",
       "  <thead>\n",
       "    <tr style=\"text-align: right;\">\n",
       "      <th>studytime</th>\n",
       "      <th>1</th>\n",
       "      <th>2</th>\n",
       "      <th>3</th>\n",
       "      <th>4</th>\n",
       "      <th>total</th>\n",
       "    </tr>\n",
       "  </thead>\n",
       "  <tbody>\n",
       "    <tr>\n",
       "      <th>0</th>\n",
       "      <td>79</td>\n",
       "      <td>126</td>\n",
       "      <td>36</td>\n",
       "      <td>22</td>\n",
       "      <td>263</td>\n",
       "    </tr>\n",
       "    <tr>\n",
       "      <th>1</th>\n",
       "      <td>26</td>\n",
       "      <td>72</td>\n",
       "      <td>29</td>\n",
       "      <td>5</td>\n",
       "      <td>132</td>\n",
       "    </tr>\n",
       "  </tbody>\n",
       "</table>\n",
       "</div>"
      ],
      "text/plain": [
       "studytime   1    2   3   4  total\n",
       "0          79  126  36  22    263\n",
       "1          26   72  29   5    132"
      ]
     },
     "execution_count": 22,
     "metadata": {},
     "output_type": "execute_result"
    }
   ],
   "source": [
    "table2[\"total\"] = table2.iloc[:, :4].sum(axis=1)\n",
    "table2"
   ]
  },
  {
   "cell_type": "markdown",
   "id": "fa212f8a",
   "metadata": {
    "papermill": {
     "duration": 0.0279,
     "end_time": "2024-10-14T04:31:33.790280",
     "exception": false,
     "start_time": "2024-10-14T04:31:33.762380",
     "status": "completed"
    },
    "tags": []
   },
   "source": [
    "#### It looks like those in romantic relationship have lesser study time, but let's look at the proportions"
   ]
  },
  {
   "cell_type": "code",
   "execution_count": 23,
   "id": "7c0538ce",
   "metadata": {
    "execution": {
     "iopub.execute_input": "2024-10-14T04:31:33.848139Z",
     "iopub.status.busy": "2024-10-14T04:31:33.847689Z",
     "iopub.status.idle": "2024-10-14T04:31:33.866301Z",
     "shell.execute_reply": "2024-10-14T04:31:33.865315Z"
    },
    "papermill": {
     "duration": 0.050252,
     "end_time": "2024-10-14T04:31:33.868562",
     "exception": false,
     "start_time": "2024-10-14T04:31:33.818310",
     "status": "completed"
    },
    "tags": []
   },
   "outputs": [
    {
     "data": {
      "text/html": [
       "<div>\n",
       "<style scoped>\n",
       "    .dataframe tbody tr th:only-of-type {\n",
       "        vertical-align: middle;\n",
       "    }\n",
       "\n",
       "    .dataframe tbody tr th {\n",
       "        vertical-align: top;\n",
       "    }\n",
       "\n",
       "    .dataframe thead th {\n",
       "        text-align: right;\n",
       "    }\n",
       "</style>\n",
       "<table border=\"1\" class=\"dataframe\">\n",
       "  <thead>\n",
       "    <tr style=\"text-align: right;\">\n",
       "      <th>studytime</th>\n",
       "      <th>&lt;2hours</th>\n",
       "      <th>2-5hours</th>\n",
       "      <th>5-10hours</th>\n",
       "      <th>&gt;10hours</th>\n",
       "    </tr>\n",
       "  </thead>\n",
       "  <tbody>\n",
       "    <tr>\n",
       "      <th>0</th>\n",
       "      <td>0.3</td>\n",
       "      <td>0.48</td>\n",
       "      <td>0.14</td>\n",
       "      <td>0.08</td>\n",
       "    </tr>\n",
       "    <tr>\n",
       "      <th>1</th>\n",
       "      <td>0.2</td>\n",
       "      <td>0.55</td>\n",
       "      <td>0.22</td>\n",
       "      <td>0.04</td>\n",
       "    </tr>\n",
       "  </tbody>\n",
       "</table>\n",
       "</div>"
      ],
      "text/plain": [
       "studytime  <2hours  2-5hours  5-10hours  >10hours\n",
       "0              0.3      0.48       0.14      0.08\n",
       "1              0.2      0.55       0.22      0.04"
      ]
     },
     "execution_count": 23,
     "metadata": {},
     "output_type": "execute_result"
    }
   ],
   "source": [
    "study_time = [\"<2hours\", \"2-5hours\", \"5-10hours\", \">10hours\"]\n",
    "# Calculating the proportions\n",
    "for i in range(1, 5):\n",
    "    a = str(i)\n",
    "    table2[study_time[i-1]] = round(table2[a]/table2[\"total\"], 2)\n",
    "    \n",
    "table2_prop = table2.iloc[:, 5:].copy()\n",
    "# print(table2_prop)\n",
    "table2_prop"
   ]
  },
  {
   "cell_type": "markdown",
   "id": "f78a4a2f",
   "metadata": {
    "papermill": {
     "duration": 0.028586,
     "end_time": "2024-10-14T04:31:33.925474",
     "exception": false,
     "start_time": "2024-10-14T04:31:33.896888",
     "status": "completed"
    },
    "tags": []
   },
   "source": [
    "#### 1) The proportions show that being in a relationship or not doesn't drastically affect student's time allocation for studying \n",
    "#### 2) Most students study 2 to 5 hours a week, regardless of their relationship status\n",
    "#### 3) Few students engage in extensive studying"
   ]
  },
  {
   "cell_type": "code",
   "execution_count": null,
   "id": "4cf52a41",
   "metadata": {
    "papermill": {
     "duration": 0.028111,
     "end_time": "2024-10-14T04:31:33.981776",
     "exception": false,
     "start_time": "2024-10-14T04:31:33.953665",
     "status": "completed"
    },
    "tags": []
   },
   "outputs": [],
   "source": []
  },
  {
   "cell_type": "code",
   "execution_count": null,
   "id": "ec9f5e44",
   "metadata": {
    "papermill": {
     "duration": 0.029041,
     "end_time": "2024-10-14T04:31:34.039145",
     "exception": false,
     "start_time": "2024-10-14T04:31:34.010104",
     "status": "completed"
    },
    "tags": []
   },
   "outputs": [],
   "source": []
  },
  {
   "cell_type": "markdown",
   "id": "6cd29c75",
   "metadata": {
    "papermill": {
     "duration": 0.02824,
     "end_time": "2024-10-14T04:31:34.095845",
     "exception": false,
     "start_time": "2024-10-14T04:31:34.067605",
     "status": "completed"
    },
    "tags": []
   },
   "source": [
    "## Independent T test"
   ]
  },
  {
   "cell_type": "code",
   "execution_count": 24,
   "id": "8533f5c6",
   "metadata": {
    "execution": {
     "iopub.execute_input": "2024-10-14T04:31:34.154931Z",
     "iopub.status.busy": "2024-10-14T04:31:34.154482Z",
     "iopub.status.idle": "2024-10-14T04:31:34.167402Z",
     "shell.execute_reply": "2024-10-14T04:31:34.166351Z"
    },
    "papermill": {
     "duration": 0.045538,
     "end_time": "2024-10-14T04:31:34.169803",
     "exception": false,
     "start_time": "2024-10-14T04:31:34.124265",
     "status": "completed"
    },
    "tags": []
   },
   "outputs": [],
   "source": [
    "from math import sqrt\n",
    "from typing import Dict\n",
    "import pandas as pd\n",
    "from scipy import stats\n",
    "from scipy.stats import ttest_ind\n",
    "\n",
    "\n",
    "def t_test(col1: pd.Series, col2: pd.Series, cl: float = .95) -> Dict[str, float]:\n",
    "    \n",
    "    \"\"\"\n",
    "    Perform an independent two-sample t-test on two numerical pandas Series.\n",
    "    \n",
    "    This function calculates the t-statistic, p-value, and confidence interval \n",
    "    for the difference in means between two groups.\n",
    "\n",
    "    Parameters:\n",
    "    - col1 (pd.Series): The first numerical data series.\n",
    "    - col2 (pd.Series): The second numerical data series.\n",
    "    - cl (float): The confidence level for the test (default is 0.95).\n",
    "\n",
    "    Raises:\n",
    "    - ValueError: If either of the provided columns is not of a numerical type,\n",
    "      or if the confidence level is not between 0 and 1.\n",
    "      \n",
    "    Returns:\n",
    "    - A dictionary containing the t-statistic, p-value, confidence level, and confidence interval.\n",
    "    \"\"\"\n",
    "        \n",
    "    if not pd.api.types.is_numeric_dtype(col1) or not pd.api.types.is_numeric_dtype(col2):\n",
    "        raise ValueError(\"Both columns must be of a numerical type.\")\n",
    "        \n",
    "    if not (0<cl<1):\n",
    "        raise ValueError(\"Confidence interval must be between 0 and 1\")\n",
    "    \n",
    "        \n",
    "    mean_diff = col1.mean() - col2.mean()\n",
    "    t_stat, p_value = ttest_ind(col1, col2) # Independent samples\n",
    "\n",
    "    # Standard deviation with df=1\n",
    "    std1 = col1.std(axis=0, ddof=1)\n",
    "    std2 = col2.std(axis=0, ddof=1)\n",
    "    \n",
    "    # Standard Error\n",
    "    se = sqrt((std1**2/col1.shape[0])+(std2**2/col2.shape[0]))\n",
    "    \n",
    "    # Degrees of Freedom\n",
    "    df = col1.shape[0] + col2.shape[0] - 2 \n",
    "\n",
    "    # Find critical value (t) for 95% confidence level\n",
    "    t_critical = stats.t.ppf(1-(1-cl)/2, df)  # two-tailed test\n",
    "    \n",
    "    # Cohen's d\n",
    "    cd = mean_diff/pd.concat([col1, col2], axis=0).std()\n",
    "    \n",
    "\n",
    "    # Margin of Error\n",
    "    me = t_critical * se\n",
    "\n",
    "    ci = (mean_diff - me, mean_diff + me)\n",
    "    \n",
    "    return {\n",
    "        \"t-statistic\": t_stat,\n",
    "        \"p-value\": p_value,\n",
    "        \"confidence_level\": cl,\n",
    "        \"confidence_interval\": ci,\n",
    "        \"mean_diff\": mean_diff,\n",
    "        \"effect_size\": cd\n",
    "    }\n",
    "    \n",
    "        \n",
    "    "
   ]
  },
  {
   "cell_type": "code",
   "execution_count": 25,
   "id": "f48976aa",
   "metadata": {
    "execution": {
     "iopub.execute_input": "2024-10-14T04:31:34.228513Z",
     "iopub.status.busy": "2024-10-14T04:31:34.228087Z",
     "iopub.status.idle": "2024-10-14T04:31:34.232643Z",
     "shell.execute_reply": "2024-10-14T04:31:34.231653Z"
    },
    "papermill": {
     "duration": 0.036641,
     "end_time": "2024-10-14T04:31:34.235073",
     "exception": false,
     "start_time": "2024-10-14T04:31:34.198432",
     "status": "completed"
    },
    "tags": []
   },
   "outputs": [],
   "source": [
    "alpha = .05"
   ]
  },
  {
   "cell_type": "markdown",
   "id": "fc67e11f",
   "metadata": {
    "papermill": {
     "duration": 0.028807,
     "end_time": "2024-10-14T04:31:34.292432",
     "exception": false,
     "start_time": "2024-10-14T04:31:34.263625",
     "status": "completed"
    },
    "tags": []
   },
   "source": [
    "### Difference in Mean grades between students living in Urban and Rural areas"
   ]
  },
  {
   "cell_type": "markdown",
   "id": "77e319d8",
   "metadata": {
    "papermill": {
     "duration": 0.028289,
     "end_time": "2024-10-14T04:31:34.349565",
     "exception": false,
     "start_time": "2024-10-14T04:31:34.321276",
     "status": "completed"
    },
    "tags": []
   },
   "source": [
    "#### To find out if the difference in address affects the mean grade of students"
   ]
  },
  {
   "cell_type": "code",
   "execution_count": 26,
   "id": "c24c83e1",
   "metadata": {
    "execution": {
     "iopub.execute_input": "2024-10-14T04:31:34.409530Z",
     "iopub.status.busy": "2024-10-14T04:31:34.409086Z",
     "iopub.status.idle": "2024-10-14T04:31:34.416754Z",
     "shell.execute_reply": "2024-10-14T04:31:34.415630Z"
    },
    "papermill": {
     "duration": 0.041289,
     "end_time": "2024-10-14T04:31:34.419437",
     "exception": false,
     "start_time": "2024-10-14T04:31:34.378148",
     "status": "completed"
    },
    "tags": []
   },
   "outputs": [
    {
     "data": {
      "text/plain": [
       "array(['U', 'R'], dtype=object)"
      ]
     },
     "execution_count": 26,
     "metadata": {},
     "output_type": "execute_result"
    }
   ],
   "source": [
    "student.address.unique()"
   ]
  },
  {
   "cell_type": "code",
   "execution_count": 27,
   "id": "b582e46e",
   "metadata": {
    "execution": {
     "iopub.execute_input": "2024-10-14T04:31:34.480973Z",
     "iopub.status.busy": "2024-10-14T04:31:34.479970Z",
     "iopub.status.idle": "2024-10-14T04:31:34.493726Z",
     "shell.execute_reply": "2024-10-14T04:31:34.492621Z"
    },
    "papermill": {
     "duration": 0.047517,
     "end_time": "2024-10-14T04:31:34.496241",
     "exception": false,
     "start_time": "2024-10-14T04:31:34.448724",
     "status": "completed"
    },
    "tags": []
   },
   "outputs": [],
   "source": [
    "urban_grades = student.loc[student[\"address\"]==\"U\", [\"G1\", \"G2\", \"G3\"]]\n",
    "rural_grades = student.loc[student[\"address\"]==\"R\", [\"G1\", \"G2\", \"G3\"]]\n",
    "\n",
    "\n",
    "urban_grades[\"avg\"] = urban_grades[[\"G1\", \"G2\", \"G3\"]].mean(axis=1)\n",
    "rural_grades[\"avg\"] = rural_grades[[\"G1\", \"G2\", \"G3\"]].mean(axis=1)"
   ]
  },
  {
   "cell_type": "code",
   "execution_count": 28,
   "id": "8d994e74",
   "metadata": {
    "execution": {
     "iopub.execute_input": "2024-10-14T04:31:34.556619Z",
     "iopub.status.busy": "2024-10-14T04:31:34.555639Z",
     "iopub.status.idle": "2024-10-14T04:31:34.567693Z",
     "shell.execute_reply": "2024-10-14T04:31:34.566462Z"
    },
    "papermill": {
     "duration": 0.044809,
     "end_time": "2024-10-14T04:31:34.570003",
     "exception": false,
     "start_time": "2024-10-14T04:31:34.525194",
     "status": "completed"
    },
    "tags": []
   },
   "outputs": [
    {
     "name": "stdout",
     "output_type": "stream",
     "text": [
      "Urban Rural mean grade t-test: alpha=.05\n",
      "Mean grade difference: 0.9520284275984618\n",
      "T_stat: 2.139440697385603\n",
      "P value: 0.033015481267113\n"
     ]
    }
   ],
   "source": [
    "t_stat, p_value = ttest_ind(urban_grades[\"avg\"], rural_grades[\"avg\"])\n",
    "print(\"Urban Rural mean grade t-test: alpha=.05\")\n",
    "print(f'Mean grade difference: {urban_grades[\"avg\"].mean() - rural_grades[\"avg\"].mean()}')\n",
    "print(f\"T_stat: {t_stat}\")\n",
    "print(f\"P value: {p_value}\")"
   ]
  },
  {
   "cell_type": "code",
   "execution_count": 29,
   "id": "c6228c8a",
   "metadata": {
    "execution": {
     "iopub.execute_input": "2024-10-14T04:31:34.629542Z",
     "iopub.status.busy": "2024-10-14T04:31:34.629107Z",
     "iopub.status.idle": "2024-10-14T04:31:34.640876Z",
     "shell.execute_reply": "2024-10-14T04:31:34.639543Z"
    },
    "papermill": {
     "duration": 0.044268,
     "end_time": "2024-10-14T04:31:34.643221",
     "exception": false,
     "start_time": "2024-10-14T04:31:34.598953",
     "status": "completed"
    },
    "tags": []
   },
   "outputs": [
    {
     "name": "stdout",
     "output_type": "stream",
     "text": [
      "{'t-statistic': 2.139440697385603, 'p-value': 0.033015481267113, 'confidence_level': 0.95, 'confidence_interval': (0.0715728232862538, 1.8324840319106699), 'mean_diff': 0.9520284275984618, 'effect_size': 0.25752870789305404}\n"
     ]
    }
   ],
   "source": [
    "address_test = t_test(urban_grades[\"avg\"], rural_grades[\"avg\"])\n",
    "print(address_test)\n"
   ]
  },
  {
   "cell_type": "markdown",
   "id": "dd89cb92",
   "metadata": {
    "papermill": {
     "duration": 0.029263,
     "end_time": "2024-10-14T04:31:34.702966",
     "exception": false,
     "start_time": "2024-10-14T04:31:34.673703",
     "status": "completed"
    },
    "tags": []
   },
   "source": [
    "#### The **p-value of 0.03** shows that there is enough evidence that students in urban areas have statistically significant higher grades than those in rural areas. \n",
    "\n",
    "#### However, the confidence interval of mean difference is from .07 to 1.8 on a grading scale of 0 to 20, this suggests that the practical impact of this difference is limited, reinforced by **Cohen's d = .25** meaning that the difference is small. \n",
    "#### Additionally, while address does influence mean grades, its overall effect appears to be modest."
   ]
  },
  {
   "cell_type": "code",
   "execution_count": null,
   "id": "879374f7",
   "metadata": {
    "papermill": {
     "duration": 0.029405,
     "end_time": "2024-10-14T04:31:34.761322",
     "exception": false,
     "start_time": "2024-10-14T04:31:34.731917",
     "status": "completed"
    },
    "tags": []
   },
   "outputs": [],
   "source": []
  },
  {
   "cell_type": "markdown",
   "id": "87ed91f1",
   "metadata": {
    "papermill": {
     "duration": 0.028668,
     "end_time": "2024-10-14T04:31:34.819140",
     "exception": false,
     "start_time": "2024-10-14T04:31:34.790472",
     "status": "completed"
    },
    "tags": []
   },
   "source": [
    "### Difference in Mean grades between students living in Urban and Rural areas \n",
    "* #### To find out if the mean grade of a school is statistically significant higher than the other"
   ]
  },
  {
   "cell_type": "code",
   "execution_count": 30,
   "id": "c1b75df0",
   "metadata": {
    "execution": {
     "iopub.execute_input": "2024-10-14T04:31:34.878718Z",
     "iopub.status.busy": "2024-10-14T04:31:34.878283Z",
     "iopub.status.idle": "2024-10-14T04:31:34.886574Z",
     "shell.execute_reply": "2024-10-14T04:31:34.885442Z"
    },
    "papermill": {
     "duration": 0.040981,
     "end_time": "2024-10-14T04:31:34.888885",
     "exception": false,
     "start_time": "2024-10-14T04:31:34.847904",
     "status": "completed"
    },
    "tags": []
   },
   "outputs": [
    {
     "data": {
      "text/plain": [
       "array(['GP', 'MS'], dtype=object)"
      ]
     },
     "execution_count": 30,
     "metadata": {},
     "output_type": "execute_result"
    }
   ],
   "source": [
    "student.school.unique()"
   ]
  },
  {
   "cell_type": "code",
   "execution_count": 31,
   "id": "e5d9e61a",
   "metadata": {
    "execution": {
     "iopub.execute_input": "2024-10-14T04:31:34.949452Z",
     "iopub.status.busy": "2024-10-14T04:31:34.948648Z",
     "iopub.status.idle": "2024-10-14T04:31:34.967346Z",
     "shell.execute_reply": "2024-10-14T04:31:34.966388Z"
    },
    "papermill": {
     "duration": 0.051514,
     "end_time": "2024-10-14T04:31:34.969625",
     "exception": false,
     "start_time": "2024-10-14T04:31:34.918111",
     "status": "completed"
    },
    "tags": []
   },
   "outputs": [
    {
     "name": "stdout",
     "output_type": "stream",
     "text": [
      "Ms school vs Gp school mean grade t-test: alpha=.05\n",
      "Grade difference: -0.4982143598687756\n",
      "T_stat: -0.858895732254872\n",
      "P value: 0.3909216045891275\n"
     ]
    }
   ],
   "source": [
    "ms_grades = student.loc[student[\"school\"]==\"MS\", [\"G1\", \"G2\", \"G3\"]]\n",
    "gp_grades = student.loc[student[\"school\"]==\"GP\", [\"G1\", \"G2\", \"G3\"]]\n",
    "\n",
    "ms_grades[\"avg\"] = ms_grades[[\"G1\", \"G2\", \"G3\"]].mean(axis=1)\n",
    "gp_grades[\"avg\"] = gp_grades[[\"G1\", \"G2\", \"G3\"]].mean(axis=1)\n",
    "\n",
    "ms_gp_mean_diff = ms_grades[\"avg\"].mean() - gp_grades[\"avg\"].mean()\n",
    "\n",
    "t_stat, p_value = ttest_ind(ms_grades[\"avg\"], gp_grades[\"avg\"])\n",
    "print(\"Ms school vs Gp school mean grade t-test: alpha=.05\")\n",
    "print(f'Grade difference: {ms_gp_mean_diff}')\n",
    "print(f\"T_stat: {t_stat}\")\n",
    "print(f\"P value: {p_value}\")"
   ]
  },
  {
   "cell_type": "code",
   "execution_count": 32,
   "id": "5532a61e",
   "metadata": {
    "execution": {
     "iopub.execute_input": "2024-10-14T04:31:35.029654Z",
     "iopub.status.busy": "2024-10-14T04:31:35.029226Z",
     "iopub.status.idle": "2024-10-14T04:31:35.040412Z",
     "shell.execute_reply": "2024-10-14T04:31:35.039059Z"
    },
    "papermill": {
     "duration": 0.043832,
     "end_time": "2024-10-14T04:31:35.042721",
     "exception": false,
     "start_time": "2024-10-14T04:31:34.998889",
     "status": "completed"
    },
    "tags": []
   },
   "outputs": [
    {
     "name": "stdout",
     "output_type": "stream",
     "text": [
      "{'t-statistic': 0.858895732254872, 'p-value': 0.3909216045891275, 'confidence_level': 0.95, 'confidence_interval': (-0.6009347279947796, 1.5973634477323309), 'mean_diff': 0.4982143598687756, 'effect_size': 0.13476961047731018}\n"
     ]
    }
   ],
   "source": [
    "school_test = t_test(gp_grades[\"avg\"], ms_grades[\"avg\"])\n",
    "print(school_test)"
   ]
  },
  {
   "cell_type": "markdown",
   "id": "a5645d56",
   "metadata": {
    "papermill": {
     "duration": 0.02889,
     "end_time": "2024-10-14T04:31:35.101248",
     "exception": false,
     "start_time": "2024-10-14T04:31:35.072358",
     "status": "completed"
    },
    "tags": []
   },
   "source": [
    "#### **Fail to reject the null**: **0.39 p-value** greater than our alpha\n",
    "#### There's **not enough evidence** to suggest a significant difference in mean grades between (Ms - **Mousinho da Silveira**) and (Gp - **Gabriel Pereira**) schools"
   ]
  },
  {
   "cell_type": "markdown",
   "id": "7fa79664",
   "metadata": {
    "papermill": {
     "duration": 0.028767,
     "end_time": "2024-10-14T04:31:35.159062",
     "exception": false,
     "start_time": "2024-10-14T04:31:35.130295",
     "status": "completed"
    },
    "tags": []
   },
   "source": [
    "### Difference in mean grade of those in romantic relationship and those who aren't"
   ]
  },
  {
   "cell_type": "code",
   "execution_count": 33,
   "id": "0e263d67",
   "metadata": {
    "execution": {
     "iopub.execute_input": "2024-10-14T04:31:35.220008Z",
     "iopub.status.busy": "2024-10-14T04:31:35.219554Z",
     "iopub.status.idle": "2024-10-14T04:31:35.227215Z",
     "shell.execute_reply": "2024-10-14T04:31:35.226103Z"
    },
    "papermill": {
     "duration": 0.040596,
     "end_time": "2024-10-14T04:31:35.229509",
     "exception": false,
     "start_time": "2024-10-14T04:31:35.188913",
     "status": "completed"
    },
    "tags": []
   },
   "outputs": [
    {
     "data": {
      "text/plain": [
       "array(['no', 'yes'], dtype=object)"
      ]
     },
     "execution_count": 33,
     "metadata": {},
     "output_type": "execute_result"
    }
   ],
   "source": [
    "student[\"romantic\"].unique()"
   ]
  },
  {
   "cell_type": "code",
   "execution_count": 34,
   "id": "f6068deb",
   "metadata": {
    "execution": {
     "iopub.execute_input": "2024-10-14T04:31:35.291076Z",
     "iopub.status.busy": "2024-10-14T04:31:35.290598Z",
     "iopub.status.idle": "2024-10-14T04:31:35.310807Z",
     "shell.execute_reply": "2024-10-14T04:31:35.309480Z"
    },
    "papermill": {
     "duration": 0.053399,
     "end_time": "2024-10-14T04:31:35.313109",
     "exception": false,
     "start_time": "2024-10-14T04:31:35.259710",
     "status": "completed"
    },
    "tags": []
   },
   "outputs": [
    {
     "name": "stdout",
     "output_type": "stream",
     "text": [
      "Mean grade difference of those in romantic relationship and not\n",
      "{'t-statistic': 2.0473968049547433, 'p-value': 0.04128351824358322, 'confidence_level': 0.95, 'confidence_interval': (0.03064386637460259, 1.57754832166549), 'mean_diff': 0.8040960940200463, 'effect_size': 0.2175122318954258}\n"
     ]
    }
   ],
   "source": [
    "romantic = student.loc[student[\"romantic\"]==\"yes\", [\"G1\", \"G2\", \"G3\"]]\n",
    "not_romantic = student.loc[student[\"romantic\"]==\"no\", [\"G1\", \"G2\", \"G3\"]]\n",
    "\n",
    "romantic[\"avg\"] = romantic[[\"G1\", \"G2\", \"G3\"]].mean(axis=1)\n",
    "not_romantic[\"avg\"] = not_romantic[[\"G1\", \"G2\", \"G3\"]].mean(axis=1)\n",
    "\n",
    "romantic_test = t_test(not_romantic[\"avg\"], romantic[\"avg\"])\n",
    "print(\"Mean grade difference of those in romantic relationship and not\")\n",
    "print(romantic_test)"
   ]
  },
  {
   "cell_type": "markdown",
   "id": "74196a1d",
   "metadata": {
    "papermill": {
     "duration": 0.029081,
     "end_time": "2024-10-14T04:31:35.371639",
     "exception": false,
     "start_time": "2024-10-14T04:31:35.342558",
     "status": "completed"
    },
    "tags": []
   },
   "source": [
    "#### A **p-value of 0.04** shows that there's a statistically significant difference in mean grades between student in a relationship and those who aren't.\n",
    "#### With a **confidence level = 95%**, the **confidence interval of the mean difference = (0.03 to 1.57)** and a **mean difference = 0.8**.\n",
    "#### It also has a **Cohen's d = 0.21**\n",
    "#### Based on this findings, we conclude that although being in a relationship or not has an effect to the students' mean grade, the magnitude of this effect is small."
   ]
  },
  {
   "cell_type": "code",
   "execution_count": null,
   "id": "8e08024a",
   "metadata": {
    "papermill": {
     "duration": 0.030298,
     "end_time": "2024-10-14T04:31:35.431122",
     "exception": false,
     "start_time": "2024-10-14T04:31:35.400824",
     "status": "completed"
    },
    "tags": []
   },
   "outputs": [],
   "source": []
  },
  {
   "cell_type": "markdown",
   "id": "73a48557",
   "metadata": {
    "papermill": {
     "duration": 0.029193,
     "end_time": "2024-10-14T04:31:35.490461",
     "exception": false,
     "start_time": "2024-10-14T04:31:35.461268",
     "status": "completed"
    },
    "tags": []
   },
   "source": [
    "## ANOVA"
   ]
  },
  {
   "cell_type": "markdown",
   "id": "ac71832c",
   "metadata": {
    "papermill": {
     "duration": 0.029088,
     "end_time": "2024-10-14T04:31:35.549295",
     "exception": false,
     "start_time": "2024-10-14T04:31:35.520207",
     "status": "completed"
    },
    "tags": []
   },
   "source": [
    "### School vs Grades"
   ]
  },
  {
   "cell_type": "code",
   "execution_count": 35,
   "id": "979cb54c",
   "metadata": {
    "execution": {
     "iopub.execute_input": "2024-10-14T04:31:35.609708Z",
     "iopub.status.busy": "2024-10-14T04:31:35.609268Z",
     "iopub.status.idle": "2024-10-14T04:31:35.616631Z",
     "shell.execute_reply": "2024-10-14T04:31:35.615650Z"
    },
    "papermill": {
     "duration": 0.040225,
     "end_time": "2024-10-14T04:31:35.618884",
     "exception": false,
     "start_time": "2024-10-14T04:31:35.578659",
     "status": "completed"
    },
    "tags": []
   },
   "outputs": [
    {
     "data": {
      "text/plain": [
       "Index(['school', 'sex', 'age', 'address', 'Medu', 'Fedu', 'studytime',\n",
       "       'activities', 'romantic', 'failures', 'internet', 'paid', 'G1', 'G2',\n",
       "       'G3'],\n",
       "      dtype='object')"
      ]
     },
     "execution_count": 35,
     "metadata": {},
     "output_type": "execute_result"
    }
   ],
   "source": [
    "student.columns"
   ]
  },
  {
   "cell_type": "code",
   "execution_count": 36,
   "id": "0d834c52",
   "metadata": {
    "execution": {
     "iopub.execute_input": "2024-10-14T04:31:35.680398Z",
     "iopub.status.busy": "2024-10-14T04:31:35.679947Z",
     "iopub.status.idle": "2024-10-14T04:31:35.684707Z",
     "shell.execute_reply": "2024-10-14T04:31:35.683571Z"
    },
    "papermill": {
     "duration": 0.038759,
     "end_time": "2024-10-14T04:31:35.687174",
     "exception": false,
     "start_time": "2024-10-14T04:31:35.648415",
     "status": "completed"
    },
    "tags": []
   },
   "outputs": [],
   "source": [
    "from scipy.stats import f_oneway"
   ]
  },
  {
   "cell_type": "code",
   "execution_count": 37,
   "id": "89a05095",
   "metadata": {
    "execution": {
     "iopub.execute_input": "2024-10-14T04:31:35.750084Z",
     "iopub.status.busy": "2024-10-14T04:31:35.749003Z",
     "iopub.status.idle": "2024-10-14T04:31:35.757792Z",
     "shell.execute_reply": "2024-10-14T04:31:35.756785Z"
    },
    "papermill": {
     "duration": 0.042581,
     "end_time": "2024-10-14T04:31:35.760227",
     "exception": false,
     "start_time": "2024-10-14T04:31:35.717646",
     "status": "completed"
    },
    "tags": []
   },
   "outputs": [],
   "source": [
    "# Mean\n",
    "gp_grades_mean = gp_grades.mean(axis=1)\n",
    "ms_grades_mean = ms_grades.mean(axis=1)\n",
    "# G1\n",
    "ms_g1 = ms_grades[\"G1\"]\n",
    "gp_g1 = gp_grades[\"G1\"]\n",
    "# G2\n",
    "ms_g2 = ms_grades[\"G2\"]\n",
    "gp_g2 = gp_grades[\"G2\"]\n",
    "# G3\n",
    "ms_g3 = ms_grades[\"G3\"]\n",
    "gp_g3 = gp_grades[\"G3\"]"
   ]
  },
  {
   "cell_type": "code",
   "execution_count": null,
   "id": "f460aebd",
   "metadata": {
    "execution": {
     "iopub.execute_input": "2024-10-14T04:16:19.706817Z",
     "iopub.status.busy": "2024-10-14T04:16:19.705706Z",
     "iopub.status.idle": "2024-10-14T04:16:19.715106Z",
     "shell.execute_reply": "2024-10-14T04:16:19.713467Z",
     "shell.execute_reply.started": "2024-10-14T04:16:19.706766Z"
    },
    "papermill": {
     "duration": 0.029463,
     "end_time": "2024-10-14T04:31:35.819482",
     "exception": false,
     "start_time": "2024-10-14T04:31:35.790019",
     "status": "completed"
    },
    "tags": []
   },
   "outputs": [],
   "source": []
  },
  {
   "cell_type": "code",
   "execution_count": 38,
   "id": "a0b37fb9",
   "metadata": {
    "execution": {
     "iopub.execute_input": "2024-10-14T04:31:35.880876Z",
     "iopub.status.busy": "2024-10-14T04:31:35.879874Z",
     "iopub.status.idle": "2024-10-14T04:31:35.893771Z",
     "shell.execute_reply": "2024-10-14T04:31:35.892414Z"
    },
    "papermill": {
     "duration": 0.047084,
     "end_time": "2024-10-14T04:31:35.896025",
     "exception": false,
     "start_time": "2024-10-14T04:31:35.848941",
     "status": "completed"
    },
    "tags": []
   },
   "outputs": [
    {
     "name": "stdout",
     "output_type": "stream",
     "text": [
      "G1\n",
      "F-stats: 0.26036971483792865\n",
      "P-value: 0.6101527329410843\n",
      "\n",
      "G2\n",
      "F-stats: 0.9883453687293914\n",
      "P-value: 0.32075882209105233\n",
      "\n",
      "G3\n",
      "F-stats: 0.7980416422082741\n",
      "P-value: 0.3722262371311368\n",
      "\n",
      "avg\n",
      "F-stats: 0.7377018788856348\n",
      "P-value: 0.3909216045891215\n",
      "\n"
     ]
    }
   ],
   "source": [
    "gp_vals = [gp_grades[\"G1\"], gp_grades[\"G2\"], gp_grades[\"G3\"], gp_grades[\"avg\"]]\n",
    "\n",
    "ms_vals = [ms_grades[\"G1\"], ms_grades[\"G2\"], ms_grades[\"G3\"], ms_grades[\"avg\"]]\n",
    "\n",
    "for i in range(len(gp_vals)):\n",
    "    f_stats, f_p_val  = f_oneway(gp_vals[i], ms_vals[i])\n",
    "    print(gp_vals[i].name)\n",
    "    print(f\"F-stats: {f_stats}\")\n",
    "    print(f\"P-value: {f_p_val}\")\n",
    "    print()\n",
    "    \n",
    "    "
   ]
  },
  {
   "cell_type": "markdown",
   "id": "e6b21b13",
   "metadata": {
    "papermill": {
     "duration": 0.029891,
     "end_time": "2024-10-14T04:31:35.955703",
     "exception": false,
     "start_time": "2024-10-14T04:31:35.925812",
     "status": "completed"
    },
    "tags": []
   },
   "source": [
    "#### There is no statistically significant difference in mean grades when comparing the groups.\n",
    "#### Each group (G1, G2, G3) also shows no significant differences in mean grades based on the individual ANOVAs."
   ]
  },
  {
   "cell_type": "raw",
   "id": "33947985",
   "metadata": {
    "execution": {
     "iopub.execute_input": "2024-10-14T03:32:13.626102Z",
     "iopub.status.busy": "2024-10-14T03:32:13.625644Z",
     "iopub.status.idle": "2024-10-14T03:32:13.634230Z",
     "shell.execute_reply": "2024-10-14T03:32:13.632681Z",
     "shell.execute_reply.started": "2024-10-14T03:32:13.626060Z"
    },
    "papermill": {
     "duration": 0.029998,
     "end_time": "2024-10-14T04:31:36.016167",
     "exception": false,
     "start_time": "2024-10-14T04:31:35.986169",
     "status": "completed"
    },
    "tags": []
   },
   "source": []
  },
  {
   "cell_type": "markdown",
   "id": "8021d5f8",
   "metadata": {
    "papermill": {
     "duration": 0.03011,
     "end_time": "2024-10-14T04:31:36.076553",
     "exception": false,
     "start_time": "2024-10-14T04:31:36.046443",
     "status": "completed"
    },
    "tags": []
   },
   "source": [
    "## Correlation Analysis"
   ]
  },
  {
   "cell_type": "code",
   "execution_count": 39,
   "id": "48190899",
   "metadata": {
    "execution": {
     "iopub.execute_input": "2024-10-14T04:31:36.138933Z",
     "iopub.status.busy": "2024-10-14T04:31:36.138486Z",
     "iopub.status.idle": "2024-10-14T04:31:36.954248Z",
     "shell.execute_reply": "2024-10-14T04:31:36.952856Z"
    },
    "papermill": {
     "duration": 0.850665,
     "end_time": "2024-10-14T04:31:36.957597",
     "exception": false,
     "start_time": "2024-10-14T04:31:36.106932",
     "status": "completed"
    },
    "tags": []
   },
   "outputs": [
    {
     "data": {
      "image/png": "[encoded data removed]",
      "text/plain": [
       "<Figure size 2000x500 with 3 Axes>"
      ]
     },
     "metadata": {},
     "output_type": "display_data"
    }
   ],
   "source": [
    "fig, ax = plt.subplots(1, 3, figsize=(20, 5))\n",
    "\n",
    "ax[0].scatter(x=gp_g1, y=gp_g2)\n",
    "ax[0].scatter(x=ms_g1, y=ms_g2, color=\"red\", alpha=.5)\n",
    "ax[0].set_title(f\"GP: {gp_g1.name} vs {gp_g2.name}\")\n",
    "ax[0].set_xlabel(gp_g1.name)\n",
    "ax[0].set_ylabel(gp_g2.name)\n",
    "\n",
    "ax[1].scatter(x=gp_g1, y=gp_g3)\n",
    "ax[1].scatter(x=ms_g1, y=ms_g3, color=\"red\", alpha=.5)\n",
    "ax[1].set_title(f\"GP: {gp_g1.name} vs {gp_g3.name}\")\n",
    "ax[1].set_xlabel(gp_g1.name)\n",
    "ax[1].set_ylabel(gp_g3.name)\n",
    "\n",
    "\n",
    "ax[2].scatter(x=gp_g2, y=gp_g3)\n",
    "ax[2].scatter(x=ms_g2, y=ms_g3, color=\"red\", alpha=.5)\n",
    "ax[2].set_title(f\"GP: {gp_g2.name} vs {gp_g3.name}\")\n",
    "ax[2].set_xlabel(gp_g2.name)\n",
    "ax[2].set_ylabel(gp_g3.name)\n",
    "\n",
    "\n",
    "plt.legend()\n",
    "plt.show()"
   ]
  },
  {
   "cell_type": "code",
   "execution_count": 40,
   "id": "7c3cc292",
   "metadata": {
    "execution": {
     "iopub.execute_input": "2024-10-14T04:31:37.026125Z",
     "iopub.status.busy": "2024-10-14T04:31:37.025572Z",
     "iopub.status.idle": "2024-10-14T04:31:38.377179Z",
     "shell.execute_reply": "2024-10-14T04:31:38.376059Z"
    },
    "papermill": {
     "duration": 1.389592,
     "end_time": "2024-10-14T04:31:38.379913",
     "exception": false,
     "start_time": "2024-10-14T04:31:36.990321",
     "status": "completed"
    },
    "tags": []
   },
   "outputs": [
    {
     "data": {
      "image/png": "[encoded data removed]",
      "text/plain": [
       "<Figure size 640x480 with 2 Axes>"
      ]
     },
     "metadata": {},
     "output_type": "display_data"
    },
    {
     "data": {
      "image/png": "[encoded data removed]",
      "text/plain": [
       "<Figure size 640x480 with 2 Axes>"
      ]
     },
     "metadata": {},
     "output_type": "display_data"
    }
   ],
   "source": [
    "import seaborn as sns\n",
    "\n",
    "sns.heatmap(gp_grades.iloc[:, :-1].corr(), annot=True)\n",
    "plt.title(\"GP Grades Correlation\")\n",
    "plt.show()\n",
    "\n",
    "sns.heatmap(ms_grades.iloc[:, :-1].corr(), annot=True)\n",
    "plt.title(\"MS Grades Correlation\")\n",
    "plt.show()\n",
    "\n",
    "    "
   ]
  },
  {
   "cell_type": "markdown",
   "id": "0d7c4dc4",
   "metadata": {
    "papermill": {
     "duration": 0.036365,
     "end_time": "2024-10-14T04:31:38.448984",
     "exception": false,
     "start_time": "2024-10-14T04:31:38.412619",
     "status": "completed"
    },
    "tags": []
   },
   "source": [
    "#### This shows that grades have strong positive correlation with each other"
   ]
  },
  {
   "cell_type": "code",
   "execution_count": null,
   "id": "65e490c5",
   "metadata": {
    "papermill": {
     "duration": 0.032583,
     "end_time": "2024-10-14T04:31:38.515806",
     "exception": false,
     "start_time": "2024-10-14T04:31:38.483223",
     "status": "completed"
    },
    "tags": []
   },
   "outputs": [],
   "source": []
  },
  {
   "cell_type": "code",
   "execution_count": null,
   "id": "3d4c5e83",
   "metadata": {
    "papermill": {
     "duration": 0.03163,
     "end_time": "2024-10-14T04:31:38.579502",
     "exception": false,
     "start_time": "2024-10-14T04:31:38.547872",
     "status": "completed"
    },
    "tags": []
   },
   "outputs": [],
   "source": []
  }
 ],
 "metadata": {
  "kaggle": {
   "accelerator": "none",
   "dataSources": [
    {
     "datasetId": 2213802,
     "sourceId": 3700232,
     "sourceType": "datasetVersion"
    }
   ],
   "dockerImageVersionId": 30786,
   "isGpuEnabled": false,
   "isInternetEnabled": false,
   "language": "python",
   "sourceType": "notebook"
  },
  "kernelspec": {
   "display_name": "Python 3",
   "language": "python",
   "name": "python3"
  },
  "language_info": {
   "codemirror_mode": {
    "name": "ipython",
    "version": 3
   },
   "file_extension": ".py",
   "mimetype": "text/x-python",
   "name": "python",
   "nbconvert_exporter": "python",
   "pygments_lexer": "ipython3",
   "version": "3.10.14"
  },
  "papermill": {
   "default_parameters": {},
   "duration": 16.337121,
   "end_time": "2024-10-14T04:31:39.232737",
   "environment_variables": {},
   "exception": null,
   "input_path": "__notebook__.ipynb",
   "output_path": "__notebook__.ipynb",
   "parameters": {},
   "start_time": "2024-10-14T04:31:22.895616",
   "version": "2.6.0"
  }
 },
 "nbformat": 4,
 "nbformat_minor": 5
}
